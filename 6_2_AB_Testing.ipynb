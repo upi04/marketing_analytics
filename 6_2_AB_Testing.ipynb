{
  "nbformat": 4,
  "nbformat_minor": 0,
  "metadata": {
    "colab": {
      "provenance": []
    },
    "kernelspec": {
      "name": "python3",
      "display_name": "Python 3"
    },
    "language_info": {
      "name": "python"
    }
  },
  "cells": [
    {
      "cell_type": "markdown",
      "source": [
        "# **3-1 - AB Testing**\n",
        "\n",
        "Marketing & Customer Analytics *italicized text*"
      ],
      "metadata": {
        "id": "gzQDuz3RBxgc"
      }
    },
    {
      "cell_type": "markdown",
      "source": [
        "**Outline**\n",
        "\n",
        "1. Review about Hypothesis Testing: Two Sample Test\n",
        "2. Case 1 - PacTube Streaming Platform\n",
        "3. Case 2 - Marketplace Voucher Code"
      ],
      "metadata": {
        "id": "vKCrH6OFzl_N"
      }
    },
    {
      "cell_type": "markdown",
      "source": [
        "### **Two-Sample t-test**\n",
        "\n",
        "There are 2 types of two sample t-test:\n",
        "1. Two sample t-test with **equal variances**\n",
        "2. Two sample t-test with **unequal variances**\n",
        "\n",
        "In determining which two sample t-test to use, a **similarity test of variance (F test)** can be carried out to prove whether the variances of the two population groups are the same or not.\n",
        "\n",
        "---"
      ],
      "metadata": {
        "id": "-JdmG5UiB4oZ"
      }
    },
    {
      "cell_type": "markdown",
      "source": [
        "#### **1. Two sample t-test with equal variances**\n",
        "  - Determining Null and Alternative Hypothesis\n",
        "       - One Sided (Right)\n",
        "    $$H_0 : \\mu_1-\\mu_2 = D_0$$\n",
        "    $$H_1 : \\mu_1-\\mu_2 > D_0$$\n",
        "       - One sided (Left)\n",
        "    $$H_0 : \\mu_1-\\mu_2 = D_0$$\n",
        "    $$H_1 : \\mu_1-\\mu_2 < D_0$$\n",
        "       - Two Sided\n",
        "    $$H_0 : \\mu_1-\\mu_2 = D_0$$\n",
        "    $$H_1 : \\mu_1-\\mu_2 \\neq D_0$$\n",
        "  - Calculate Statistical Test\n",
        "$$ t = \\frac{\\bar{x}_1-\\bar{x}_2-D_0}{\\sqrt{s_p^2(\\frac{1}{n_1}+\\frac{1}{n_2})}} $$\n",
        "\n",
        "  dimana\n",
        "\n",
        "$$s_p^2 =\\frac{(n_1-1)s_1^2+(n_2-1)s_2^2}{n_1+n_2-2}$$\n",
        "  - Decision rules\n",
        "      - Compare test and critical value\n",
        "          - One-tailed (lower), t-test $<$ t-crit ; reject $H_0$\n",
        "          - One-tailed (greater), t-test $>$ t-crit ; reject $H_0$\n",
        "          - Two-tailed, t-test $>$ t-crit or t-test $<$ -t-crit; reject $H_0$\n",
        "      - Compare p-value and significance level ($\\alpha$)\n",
        "          - pvalue  $<\\alpha$ ; reject h0\n",
        "  \n",
        "- Confidence Interval of two-sample t-test with Equal variance.\n",
        "\n",
        "$$ \\bar{x_1}-\\bar{x_2} \\pm t_{\\alpha/2;df}\\sqrt{s_p^2(\\frac{1}{n_1}+\\frac{1}{n_2})}$$"
      ],
      "metadata": {
        "id": "mSO3NYUsB4yd"
      }
    },
    {
      "cell_type": "markdown",
      "source": [
        "#### **2. Two sample t-test with Unequal variances**\n",
        "  - Define Null and Alternative Hypothesis\n",
        "       - One Sided (Right)\n",
        "    $$H_0 : \\mu_1-\\mu_2 = D_0$$\n",
        "    $$H_1 : \\mu_1-\\mu_2 > D_0$$\n",
        "       - One sided (Left)\n",
        "    $$H_0 : \\mu_1-\\mu_2 = D_0$$\n",
        "    $$H_1 : \\mu_1-\\mu_2 < D_0$$\n",
        "       - Two Sided\n",
        "    $$H_0 : \\mu_1-\\mu_2 = D_0$$\n",
        "    $$H_1 : \\mu_1-\\mu_2 \\neq D_0$$\n",
        "  - Calculate Statistical Test\n",
        "$$ t = \\frac{\\bar{x}_1-\\bar{x}_2-D_0}{\\sqrt{(\\frac{s_1^2}{n_1}+\\frac{s_2^2}{n_2})}} $$\n",
        "  - Decision rules\n",
        "      - Compare statistics test and critical value\n",
        "          - One-tailed (lower), t-test $<$ t-crit ; reject $H_0$\n",
        "          - One-tailed (greater), t-test $>$ t-crit ; reject $H_0$\n",
        "          - Two-tailed, t-test $>$ t-crit or t-test $<$ -t-crit; reject $H_0$\n",
        "      - Compare p-value and significance level ($\\alpha$)\n",
        "          - pvalue  $<\\alpha$ ; reject $H_0$\n",
        "  \n",
        "- Confidence Interval of two-sample t-test with Unequal variance.\n",
        "\n",
        "$$ \\bar{x_1}-\\bar{x_2} \\pm t_{\\alpha/2;df}\\sqrt{(\\frac{s_1^2}{n_1}+\\frac{s_2^2}{n_2})}$$"
      ],
      "metadata": {
        "id": "IBcWfWjfB8ji"
      }
    },
    {
      "cell_type": "markdown",
      "source": [
        "### **Two-Sample z-test for Proportion**\n",
        "  - Menentukan Null dan Alternative Hypothesis\n",
        "       - One Sided (Right)\n",
        "    $$H_0 : p_1-p_2 = D_0$$\n",
        "    $$H_1 : p_1-p_2> D_0$$\n",
        "       - One sided (Left)\n",
        "    $$H_0 : p_1-p_2 = D_0$$\n",
        "    $$H_1 : p_1-p_2 < D_0$$\n",
        "       - Two Sided\n",
        "    $$H_0 : p_1-p_2 = D_0$$\n",
        "    $$H_1 : p_1-p_2 \\neq D_0$$\n",
        "\n",
        "  - Calculate Statistical Test\n",
        "$$ z = \\frac{\\hat{p}_1-\\hat{p}_2-D_0}{\\sqrt{\\frac{\\hat{p_1}(1-\\hat{p_1})}{n_1}+\\frac{\\hat{p_2}(1-\\hat{p_2})}{n_2}}} $$\n",
        "\n",
        "  - If it's not given in the case, $D_0$ considered as 0\n",
        "\n",
        "  - Decision rules\n",
        "      - Comparison of statistics test dan critical value\n",
        "          - One-side, z-test $<$ z-crit ; reject $H_0$\n",
        "          - One-side, z-test $>$ z-crit ; reject $H_0$\n",
        "          - Two-side, z-test $>$ z-crit or z-test $<$ -z-crit; reject $H_0$\n",
        "      - Comparison p-value and significance level ($\\alpha$)\n",
        "          - pvalue < $\\alpha$ ; reject h0\n",
        "  \n",
        "- Confidence Interval of two-sample z-test for proportions.\n",
        "\n",
        "$$ p_1-p_2 \\pm z_{\\alpha/2}\\sqrt{\\frac{\\hat{p_1}(1-\\hat{p_1})}{n_1}+\\frac{\\hat{p_2}(1-\\hat{p_2})}{n_2}}$$"
      ],
      "metadata": {
        "id": "urrtCYVMB98f"
      }
    },
    {
      "cell_type": "markdown",
      "source": [
        "## **Study Case 1 : PacTube Streaming Platform**\n",
        "___________________________\n",
        "\n"
      ],
      "metadata": {
        "id": "tiN_N4e6B_fl"
      }
    },
    {
      "cell_type": "markdown",
      "source": [
        "- PacTube is a platform providing various streaming video content.\n",
        "- PacTube has a video recommendation feature that can display video recommendations that users want to watch.\n",
        "- The recommendation system (recsys) algorithm now uses a rank based algorithm, which only recommends video content that is trending or based on the ranking of the most viewers.\n",
        "- PacTube wants to make improvements to the recsys algorithm with the latest algorithm, which is based on personalizing the behavior of each user.\n",
        "- Therefore, PacTube conducted experiments with several samples to compare the performance of the two recsys algorithms based on the user's streaming time.\n",
        "- Based on PacTube experimental data, help PacTube do hypothesis testing to find out whether there is enough evidence that the average streaming time of users who get the new recysis algorithm is higher than the old one!\n",
        "- Use a significance level of 5%."
      ],
      "metadata": {
        "id": "luEl0QbrCBI4"
      }
    },
    {
      "cell_type": "markdown",
      "source": [
        "### 1.  Pre-Analysis\n"
      ],
      "metadata": {
        "id": "WcffpBeXCCvJ"
      }
    },
    {
      "cell_type": "markdown",
      "source": [
        "#### Import Data"
      ],
      "metadata": {
        "id": "RRIJP2ABCESZ"
      }
    },
    {
      "cell_type": "code",
      "source": [
        "# load data\n",
        "import pandas as pd\n",
        "import numpy as np"
      ],
      "metadata": {
        "id": "vHGnIS6fCFiI"
      },
      "execution_count": 1,
      "outputs": []
    },
    {
      "cell_type": "code",
      "source": [
        "# Initialization filename\n",
        "filename = \"streaming_pactube.csv\"\n",
        "\n",
        "# Import data\n",
        "data = pd.read_csv(filename)\n",
        "\n",
        "# Display 5 top rows of the data\n",
        "data.head()"
      ],
      "metadata": {
        "id": "ffd0t3JKCGdj",
        "colab": {
          "base_uri": "https://localhost:8080/",
          "height": 293
        },
        "outputId": "b320f6eb-4312-4d74-b48f-ed970ac73304"
      },
      "execution_count": 2,
      "outputs": [
        {
          "output_type": "execute_result",
          "data": {
            "text/plain": [
              "   no    user_id            register_time register_country      group  \\\n",
              "0   1  109437538  2020-05-20 01:11:07 UTC    United States  treatment   \n",
              "1   2  109441785  2015-07-27 07:19:53 UTC    United States    control   \n",
              "2   3  109438205  2018-08-10 07:02:03 UTC    United States    control   \n",
              "3   4  109438917  2019-04-13 05:42:37 UTC    United States    control   \n",
              "4   5  109442185  2020-03-24 05:23:22 UTC    United States  treatment   \n",
              "\n",
              "               type_algorithm  time_stream  \n",
              "0  personalize-recommendation    79.643175  \n",
              "1         rank-recommendation    56.043611  \n",
              "2         rank-recommendation    79.556711  \n",
              "3         rank-recommendation    79.317611  \n",
              "4  personalize-recommendation    77.930803  "
            ],
            "text/html": [
              "\n",
              "  <div id=\"df-fb7d2be0-916a-408f-8eb5-dd6aa17cf150\" class=\"colab-df-container\">\n",
              "    <div>\n",
              "<style scoped>\n",
              "    .dataframe tbody tr th:only-of-type {\n",
              "        vertical-align: middle;\n",
              "    }\n",
              "\n",
              "    .dataframe tbody tr th {\n",
              "        vertical-align: top;\n",
              "    }\n",
              "\n",
              "    .dataframe thead th {\n",
              "        text-align: right;\n",
              "    }\n",
              "</style>\n",
              "<table border=\"1\" class=\"dataframe\">\n",
              "  <thead>\n",
              "    <tr style=\"text-align: right;\">\n",
              "      <th></th>\n",
              "      <th>no</th>\n",
              "      <th>user_id</th>\n",
              "      <th>register_time</th>\n",
              "      <th>register_country</th>\n",
              "      <th>group</th>\n",
              "      <th>type_algorithm</th>\n",
              "      <th>time_stream</th>\n",
              "    </tr>\n",
              "  </thead>\n",
              "  <tbody>\n",
              "    <tr>\n",
              "      <th>0</th>\n",
              "      <td>1</td>\n",
              "      <td>109437538</td>\n",
              "      <td>2020-05-20 01:11:07 UTC</td>\n",
              "      <td>United States</td>\n",
              "      <td>treatment</td>\n",
              "      <td>personalize-recommendation</td>\n",
              "      <td>79.643175</td>\n",
              "    </tr>\n",
              "    <tr>\n",
              "      <th>1</th>\n",
              "      <td>2</td>\n",
              "      <td>109441785</td>\n",
              "      <td>2015-07-27 07:19:53 UTC</td>\n",
              "      <td>United States</td>\n",
              "      <td>control</td>\n",
              "      <td>rank-recommendation</td>\n",
              "      <td>56.043611</td>\n",
              "    </tr>\n",
              "    <tr>\n",
              "      <th>2</th>\n",
              "      <td>3</td>\n",
              "      <td>109438205</td>\n",
              "      <td>2018-08-10 07:02:03 UTC</td>\n",
              "      <td>United States</td>\n",
              "      <td>control</td>\n",
              "      <td>rank-recommendation</td>\n",
              "      <td>79.556711</td>\n",
              "    </tr>\n",
              "    <tr>\n",
              "      <th>3</th>\n",
              "      <td>4</td>\n",
              "      <td>109438917</td>\n",
              "      <td>2019-04-13 05:42:37 UTC</td>\n",
              "      <td>United States</td>\n",
              "      <td>control</td>\n",
              "      <td>rank-recommendation</td>\n",
              "      <td>79.317611</td>\n",
              "    </tr>\n",
              "    <tr>\n",
              "      <th>4</th>\n",
              "      <td>5</td>\n",
              "      <td>109442185</td>\n",
              "      <td>2020-03-24 05:23:22 UTC</td>\n",
              "      <td>United States</td>\n",
              "      <td>treatment</td>\n",
              "      <td>personalize-recommendation</td>\n",
              "      <td>77.930803</td>\n",
              "    </tr>\n",
              "  </tbody>\n",
              "</table>\n",
              "</div>\n",
              "    <div class=\"colab-df-buttons\">\n",
              "\n",
              "  <div class=\"colab-df-container\">\n",
              "    <button class=\"colab-df-convert\" onclick=\"convertToInteractive('df-fb7d2be0-916a-408f-8eb5-dd6aa17cf150')\"\n",
              "            title=\"Convert this dataframe to an interactive table.\"\n",
              "            style=\"display:none;\">\n",
              "\n",
              "  <svg xmlns=\"http://www.w3.org/2000/svg\" height=\"24px\" viewBox=\"0 -960 960 960\">\n",
              "    <path d=\"M120-120v-720h720v720H120Zm60-500h600v-160H180v160Zm220 220h160v-160H400v160Zm0 220h160v-160H400v160ZM180-400h160v-160H180v160Zm440 0h160v-160H620v160ZM180-180h160v-160H180v160Zm440 0h160v-160H620v160Z\"/>\n",
              "  </svg>\n",
              "    </button>\n",
              "\n",
              "  <style>\n",
              "    .colab-df-container {\n",
              "      display:flex;\n",
              "      gap: 12px;\n",
              "    }\n",
              "\n",
              "    .colab-df-convert {\n",
              "      background-color: #E8F0FE;\n",
              "      border: none;\n",
              "      border-radius: 50%;\n",
              "      cursor: pointer;\n",
              "      display: none;\n",
              "      fill: #1967D2;\n",
              "      height: 32px;\n",
              "      padding: 0 0 0 0;\n",
              "      width: 32px;\n",
              "    }\n",
              "\n",
              "    .colab-df-convert:hover {\n",
              "      background-color: #E2EBFA;\n",
              "      box-shadow: 0px 1px 2px rgba(60, 64, 67, 0.3), 0px 1px 3px 1px rgba(60, 64, 67, 0.15);\n",
              "      fill: #174EA6;\n",
              "    }\n",
              "\n",
              "    .colab-df-buttons div {\n",
              "      margin-bottom: 4px;\n",
              "    }\n",
              "\n",
              "    [theme=dark] .colab-df-convert {\n",
              "      background-color: #3B4455;\n",
              "      fill: #D2E3FC;\n",
              "    }\n",
              "\n",
              "    [theme=dark] .colab-df-convert:hover {\n",
              "      background-color: #434B5C;\n",
              "      box-shadow: 0px 1px 3px 1px rgba(0, 0, 0, 0.15);\n",
              "      filter: drop-shadow(0px 1px 2px rgba(0, 0, 0, 0.3));\n",
              "      fill: #FFFFFF;\n",
              "    }\n",
              "  </style>\n",
              "\n",
              "    <script>\n",
              "      const buttonEl =\n",
              "        document.querySelector('#df-fb7d2be0-916a-408f-8eb5-dd6aa17cf150 button.colab-df-convert');\n",
              "      buttonEl.style.display =\n",
              "        google.colab.kernel.accessAllowed ? 'block' : 'none';\n",
              "\n",
              "      async function convertToInteractive(key) {\n",
              "        const element = document.querySelector('#df-fb7d2be0-916a-408f-8eb5-dd6aa17cf150');\n",
              "        const dataTable =\n",
              "          await google.colab.kernel.invokeFunction('convertToInteractive',\n",
              "                                                    [key], {});\n",
              "        if (!dataTable) return;\n",
              "\n",
              "        const docLinkHtml = 'Like what you see? Visit the ' +\n",
              "          '<a target=\"_blank\" href=https://colab.research.google.com/notebooks/data_table.ipynb>data table notebook</a>'\n",
              "          + ' to learn more about interactive tables.';\n",
              "        element.innerHTML = '';\n",
              "        dataTable['output_type'] = 'display_data';\n",
              "        await google.colab.output.renderOutput(dataTable, element);\n",
              "        const docLink = document.createElement('div');\n",
              "        docLink.innerHTML = docLinkHtml;\n",
              "        element.appendChild(docLink);\n",
              "      }\n",
              "    </script>\n",
              "  </div>\n",
              "\n",
              "\n",
              "    <div id=\"df-d61c1047-66f1-40c8-a3dc-1cf0bd319436\">\n",
              "      <button class=\"colab-df-quickchart\" onclick=\"quickchart('df-d61c1047-66f1-40c8-a3dc-1cf0bd319436')\"\n",
              "                title=\"Suggest charts\"\n",
              "                style=\"display:none;\">\n",
              "\n",
              "<svg xmlns=\"http://www.w3.org/2000/svg\" height=\"24px\"viewBox=\"0 0 24 24\"\n",
              "     width=\"24px\">\n",
              "    <g>\n",
              "        <path d=\"M19 3H5c-1.1 0-2 .9-2 2v14c0 1.1.9 2 2 2h14c1.1 0 2-.9 2-2V5c0-1.1-.9-2-2-2zM9 17H7v-7h2v7zm4 0h-2V7h2v10zm4 0h-2v-4h2v4z\"/>\n",
              "    </g>\n",
              "</svg>\n",
              "      </button>\n",
              "\n",
              "<style>\n",
              "  .colab-df-quickchart {\n",
              "      --bg-color: #E8F0FE;\n",
              "      --fill-color: #1967D2;\n",
              "      --hover-bg-color: #E2EBFA;\n",
              "      --hover-fill-color: #174EA6;\n",
              "      --disabled-fill-color: #AAA;\n",
              "      --disabled-bg-color: #DDD;\n",
              "  }\n",
              "\n",
              "  [theme=dark] .colab-df-quickchart {\n",
              "      --bg-color: #3B4455;\n",
              "      --fill-color: #D2E3FC;\n",
              "      --hover-bg-color: #434B5C;\n",
              "      --hover-fill-color: #FFFFFF;\n",
              "      --disabled-bg-color: #3B4455;\n",
              "      --disabled-fill-color: #666;\n",
              "  }\n",
              "\n",
              "  .colab-df-quickchart {\n",
              "    background-color: var(--bg-color);\n",
              "    border: none;\n",
              "    border-radius: 50%;\n",
              "    cursor: pointer;\n",
              "    display: none;\n",
              "    fill: var(--fill-color);\n",
              "    height: 32px;\n",
              "    padding: 0;\n",
              "    width: 32px;\n",
              "  }\n",
              "\n",
              "  .colab-df-quickchart:hover {\n",
              "    background-color: var(--hover-bg-color);\n",
              "    box-shadow: 0 1px 2px rgba(60, 64, 67, 0.3), 0 1px 3px 1px rgba(60, 64, 67, 0.15);\n",
              "    fill: var(--button-hover-fill-color);\n",
              "  }\n",
              "\n",
              "  .colab-df-quickchart-complete:disabled,\n",
              "  .colab-df-quickchart-complete:disabled:hover {\n",
              "    background-color: var(--disabled-bg-color);\n",
              "    fill: var(--disabled-fill-color);\n",
              "    box-shadow: none;\n",
              "  }\n",
              "\n",
              "  .colab-df-spinner {\n",
              "    border: 2px solid var(--fill-color);\n",
              "    border-color: transparent;\n",
              "    border-bottom-color: var(--fill-color);\n",
              "    animation:\n",
              "      spin 1s steps(1) infinite;\n",
              "  }\n",
              "\n",
              "  @keyframes spin {\n",
              "    0% {\n",
              "      border-color: transparent;\n",
              "      border-bottom-color: var(--fill-color);\n",
              "      border-left-color: var(--fill-color);\n",
              "    }\n",
              "    20% {\n",
              "      border-color: transparent;\n",
              "      border-left-color: var(--fill-color);\n",
              "      border-top-color: var(--fill-color);\n",
              "    }\n",
              "    30% {\n",
              "      border-color: transparent;\n",
              "      border-left-color: var(--fill-color);\n",
              "      border-top-color: var(--fill-color);\n",
              "      border-right-color: var(--fill-color);\n",
              "    }\n",
              "    40% {\n",
              "      border-color: transparent;\n",
              "      border-right-color: var(--fill-color);\n",
              "      border-top-color: var(--fill-color);\n",
              "    }\n",
              "    60% {\n",
              "      border-color: transparent;\n",
              "      border-right-color: var(--fill-color);\n",
              "    }\n",
              "    80% {\n",
              "      border-color: transparent;\n",
              "      border-right-color: var(--fill-color);\n",
              "      border-bottom-color: var(--fill-color);\n",
              "    }\n",
              "    90% {\n",
              "      border-color: transparent;\n",
              "      border-bottom-color: var(--fill-color);\n",
              "    }\n",
              "  }\n",
              "</style>\n",
              "\n",
              "      <script>\n",
              "        async function quickchart(key) {\n",
              "          const quickchartButtonEl =\n",
              "            document.querySelector('#' + key + ' button');\n",
              "          quickchartButtonEl.disabled = true;  // To prevent multiple clicks.\n",
              "          quickchartButtonEl.classList.add('colab-df-spinner');\n",
              "          try {\n",
              "            const charts = await google.colab.kernel.invokeFunction(\n",
              "                'suggestCharts', [key], {});\n",
              "          } catch (error) {\n",
              "            console.error('Error during call to suggestCharts:', error);\n",
              "          }\n",
              "          quickchartButtonEl.classList.remove('colab-df-spinner');\n",
              "          quickchartButtonEl.classList.add('colab-df-quickchart-complete');\n",
              "        }\n",
              "        (() => {\n",
              "          let quickchartButtonEl =\n",
              "            document.querySelector('#df-d61c1047-66f1-40c8-a3dc-1cf0bd319436 button');\n",
              "          quickchartButtonEl.style.display =\n",
              "            google.colab.kernel.accessAllowed ? 'block' : 'none';\n",
              "        })();\n",
              "      </script>\n",
              "    </div>\n",
              "\n",
              "    </div>\n",
              "  </div>\n"
            ],
            "application/vnd.google.colaboratory.intrinsic+json": {
              "type": "dataframe",
              "variable_name": "data",
              "summary": "{\n  \"name\": \"data\",\n  \"rows\": 3148,\n  \"fields\": [\n    {\n      \"column\": \"no\",\n      \"properties\": {\n        \"dtype\": \"number\",\n        \"std\": 908,\n        \"min\": 1,\n        \"max\": 3148,\n        \"num_unique_values\": 3148,\n        \"samples\": [\n          2964,\n          970,\n          1386\n        ],\n        \"semantic_type\": \"\",\n        \"description\": \"\"\n      }\n    },\n    {\n      \"column\": \"user_id\",\n      \"properties\": {\n        \"dtype\": \"number\",\n        \"std\": 33809,\n        \"min\": 109321143,\n        \"max\": 109442735,\n        \"num_unique_values\": 3144,\n        \"samples\": [\n          109400299,\n          109414419,\n          109341344\n        ],\n        \"semantic_type\": \"\",\n        \"description\": \"\"\n      }\n    },\n    {\n      \"column\": \"register_time\",\n      \"properties\": {\n        \"dtype\": \"object\",\n        \"num_unique_values\": 999,\n        \"samples\": [\n          \"2020-06-16 00:55:46 UTC\",\n          \"2020-06-21 15:48:51 UTC\",\n          \"2020-06-19 03:11:17 UTC\"\n        ],\n        \"semantic_type\": \"\",\n        \"description\": \"\"\n      }\n    },\n    {\n      \"column\": \"register_country\",\n      \"properties\": {\n        \"dtype\": \"category\",\n        \"num_unique_values\": 1,\n        \"samples\": [\n          \"United States\"\n        ],\n        \"semantic_type\": \"\",\n        \"description\": \"\"\n      }\n    },\n    {\n      \"column\": \"group\",\n      \"properties\": {\n        \"dtype\": \"category\",\n        \"num_unique_values\": 2,\n        \"samples\": [\n          \"control\"\n        ],\n        \"semantic_type\": \"\",\n        \"description\": \"\"\n      }\n    },\n    {\n      \"column\": \"type_algorithm\",\n      \"properties\": {\n        \"dtype\": \"category\",\n        \"num_unique_values\": 2,\n        \"samples\": [\n          \"rank-recommendation\"\n        ],\n        \"semantic_type\": \"\",\n        \"description\": \"\"\n      }\n    },\n    {\n      \"column\": \"time_stream\",\n      \"properties\": {\n        \"dtype\": \"number\",\n        \"std\": 9.165456400557092,\n        \"min\": 39.29000349,\n        \"max\": 101.6361312,\n        \"num_unique_values\": 3142,\n        \"samples\": [\n          57.80750032\n        ],\n        \"semantic_type\": \"\",\n        \"description\": \"\"\n      }\n    }\n  ]\n}"
            }
          },
          "metadata": {},
          "execution_count": 2
        }
      ]
    },
    {
      "cell_type": "code",
      "source": [
        "#Overview data\n",
        "data.info()"
      ],
      "metadata": {
        "id": "QyF9FzVFCH4C",
        "colab": {
          "base_uri": "https://localhost:8080/"
        },
        "outputId": "112cf063-b877-42dd-a11a-d92cc84c0942"
      },
      "execution_count": 3,
      "outputs": [
        {
          "output_type": "stream",
          "name": "stdout",
          "text": [
            "<class 'pandas.core.frame.DataFrame'>\n",
            "RangeIndex: 3148 entries, 0 to 3147\n",
            "Data columns (total 7 columns):\n",
            " #   Column            Non-Null Count  Dtype  \n",
            "---  ------            --------------  -----  \n",
            " 0   no                3148 non-null   int64  \n",
            " 1   user_id           3148 non-null   int64  \n",
            " 2   register_time     3148 non-null   object \n",
            " 3   register_country  3148 non-null   object \n",
            " 4   group             3148 non-null   object \n",
            " 5   type_algorithm    3148 non-null   object \n",
            " 6   time_stream       3142 non-null   float64\n",
            "dtypes: float64(1), int64(2), object(4)\n",
            "memory usage: 172.3+ KB\n"
          ]
        }
      ]
    },
    {
      "cell_type": "code",
      "source": [
        "# Checking duplicate data\n",
        "data.duplicated(['user_id']).sum()"
      ],
      "metadata": {
        "id": "82aTpb9RCJZU",
        "colab": {
          "base_uri": "https://localhost:8080/"
        },
        "outputId": "404ff099-aeb3-4602-89dc-67dea1707522"
      },
      "execution_count": 4,
      "outputs": [
        {
          "output_type": "execute_result",
          "data": {
            "text/plain": [
              "np.int64(4)"
            ]
          },
          "metadata": {},
          "execution_count": 4
        }
      ]
    },
    {
      "cell_type": "code",
      "source": [
        "# show duplicated\n",
        "ids = data['user_id']\n",
        "data_dup=data[ids.isin(ids[ids.duplicated()])].sort_values(\"user_id\")\n",
        "data_dup"
      ],
      "metadata": {
        "id": "SnAiXUq1CKlQ",
        "colab": {
          "base_uri": "https://localhost:8080/",
          "height": 301
        },
        "outputId": "d6d965e2-a25c-4ed4-aa5d-6b6f805461fc"
      },
      "execution_count": 5,
      "outputs": [
        {
          "output_type": "execute_result",
          "data": {
            "text/plain": [
              "      no    user_id            register_time register_country    group  \\\n",
              "72    73  109386525  2020-03-30 23:17:47 UTC    United States  control   \n",
              "60    61  109386525  2020-03-30 23:17:47 UTC    United States  control   \n",
              "56    57  109387140  2020-03-04 03:08:17 UTC    United States  control   \n",
              "55    56  109387140  2020-03-04 03:08:17 UTC    United States  control   \n",
              "119  120  109388034  2020-04-29 01:55:28 UTC    United States  control   \n",
              "142  143  109388034  2020-04-29 01:55:28 UTC    United States  control   \n",
              "386  387  109392413  2020-05-19 19:12:08 UTC    United States  control   \n",
              "393  394  109392413  2020-05-19 19:12:08 UTC    United States  control   \n",
              "\n",
              "          type_algorithm  time_stream  \n",
              "72   rank-recommendation    58.484050  \n",
              "60   rank-recommendation    72.331870  \n",
              "56   rank-recommendation    50.330427  \n",
              "55   rank-recommendation    63.167783  \n",
              "119  rank-recommendation    75.703852  \n",
              "142  rank-recommendation    91.413945  \n",
              "386  rank-recommendation    77.207875  \n",
              "393  rank-recommendation    78.769247  "
            ],
            "text/html": [
              "\n",
              "  <div id=\"df-b7502251-941d-4dd1-ab11-15bdf27f0194\" class=\"colab-df-container\">\n",
              "    <div>\n",
              "<style scoped>\n",
              "    .dataframe tbody tr th:only-of-type {\n",
              "        vertical-align: middle;\n",
              "    }\n",
              "\n",
              "    .dataframe tbody tr th {\n",
              "        vertical-align: top;\n",
              "    }\n",
              "\n",
              "    .dataframe thead th {\n",
              "        text-align: right;\n",
              "    }\n",
              "</style>\n",
              "<table border=\"1\" class=\"dataframe\">\n",
              "  <thead>\n",
              "    <tr style=\"text-align: right;\">\n",
              "      <th></th>\n",
              "      <th>no</th>\n",
              "      <th>user_id</th>\n",
              "      <th>register_time</th>\n",
              "      <th>register_country</th>\n",
              "      <th>group</th>\n",
              "      <th>type_algorithm</th>\n",
              "      <th>time_stream</th>\n",
              "    </tr>\n",
              "  </thead>\n",
              "  <tbody>\n",
              "    <tr>\n",
              "      <th>72</th>\n",
              "      <td>73</td>\n",
              "      <td>109386525</td>\n",
              "      <td>2020-03-30 23:17:47 UTC</td>\n",
              "      <td>United States</td>\n",
              "      <td>control</td>\n",
              "      <td>rank-recommendation</td>\n",
              "      <td>58.484050</td>\n",
              "    </tr>\n",
              "    <tr>\n",
              "      <th>60</th>\n",
              "      <td>61</td>\n",
              "      <td>109386525</td>\n",
              "      <td>2020-03-30 23:17:47 UTC</td>\n",
              "      <td>United States</td>\n",
              "      <td>control</td>\n",
              "      <td>rank-recommendation</td>\n",
              "      <td>72.331870</td>\n",
              "    </tr>\n",
              "    <tr>\n",
              "      <th>56</th>\n",
              "      <td>57</td>\n",
              "      <td>109387140</td>\n",
              "      <td>2020-03-04 03:08:17 UTC</td>\n",
              "      <td>United States</td>\n",
              "      <td>control</td>\n",
              "      <td>rank-recommendation</td>\n",
              "      <td>50.330427</td>\n",
              "    </tr>\n",
              "    <tr>\n",
              "      <th>55</th>\n",
              "      <td>56</td>\n",
              "      <td>109387140</td>\n",
              "      <td>2020-03-04 03:08:17 UTC</td>\n",
              "      <td>United States</td>\n",
              "      <td>control</td>\n",
              "      <td>rank-recommendation</td>\n",
              "      <td>63.167783</td>\n",
              "    </tr>\n",
              "    <tr>\n",
              "      <th>119</th>\n",
              "      <td>120</td>\n",
              "      <td>109388034</td>\n",
              "      <td>2020-04-29 01:55:28 UTC</td>\n",
              "      <td>United States</td>\n",
              "      <td>control</td>\n",
              "      <td>rank-recommendation</td>\n",
              "      <td>75.703852</td>\n",
              "    </tr>\n",
              "    <tr>\n",
              "      <th>142</th>\n",
              "      <td>143</td>\n",
              "      <td>109388034</td>\n",
              "      <td>2020-04-29 01:55:28 UTC</td>\n",
              "      <td>United States</td>\n",
              "      <td>control</td>\n",
              "      <td>rank-recommendation</td>\n",
              "      <td>91.413945</td>\n",
              "    </tr>\n",
              "    <tr>\n",
              "      <th>386</th>\n",
              "      <td>387</td>\n",
              "      <td>109392413</td>\n",
              "      <td>2020-05-19 19:12:08 UTC</td>\n",
              "      <td>United States</td>\n",
              "      <td>control</td>\n",
              "      <td>rank-recommendation</td>\n",
              "      <td>77.207875</td>\n",
              "    </tr>\n",
              "    <tr>\n",
              "      <th>393</th>\n",
              "      <td>394</td>\n",
              "      <td>109392413</td>\n",
              "      <td>2020-05-19 19:12:08 UTC</td>\n",
              "      <td>United States</td>\n",
              "      <td>control</td>\n",
              "      <td>rank-recommendation</td>\n",
              "      <td>78.769247</td>\n",
              "    </tr>\n",
              "  </tbody>\n",
              "</table>\n",
              "</div>\n",
              "    <div class=\"colab-df-buttons\">\n",
              "\n",
              "  <div class=\"colab-df-container\">\n",
              "    <button class=\"colab-df-convert\" onclick=\"convertToInteractive('df-b7502251-941d-4dd1-ab11-15bdf27f0194')\"\n",
              "            title=\"Convert this dataframe to an interactive table.\"\n",
              "            style=\"display:none;\">\n",
              "\n",
              "  <svg xmlns=\"http://www.w3.org/2000/svg\" height=\"24px\" viewBox=\"0 -960 960 960\">\n",
              "    <path d=\"M120-120v-720h720v720H120Zm60-500h600v-160H180v160Zm220 220h160v-160H400v160Zm0 220h160v-160H400v160ZM180-400h160v-160H180v160Zm440 0h160v-160H620v160ZM180-180h160v-160H180v160Zm440 0h160v-160H620v160Z\"/>\n",
              "  </svg>\n",
              "    </button>\n",
              "\n",
              "  <style>\n",
              "    .colab-df-container {\n",
              "      display:flex;\n",
              "      gap: 12px;\n",
              "    }\n",
              "\n",
              "    .colab-df-convert {\n",
              "      background-color: #E8F0FE;\n",
              "      border: none;\n",
              "      border-radius: 50%;\n",
              "      cursor: pointer;\n",
              "      display: none;\n",
              "      fill: #1967D2;\n",
              "      height: 32px;\n",
              "      padding: 0 0 0 0;\n",
              "      width: 32px;\n",
              "    }\n",
              "\n",
              "    .colab-df-convert:hover {\n",
              "      background-color: #E2EBFA;\n",
              "      box-shadow: 0px 1px 2px rgba(60, 64, 67, 0.3), 0px 1px 3px 1px rgba(60, 64, 67, 0.15);\n",
              "      fill: #174EA6;\n",
              "    }\n",
              "\n",
              "    .colab-df-buttons div {\n",
              "      margin-bottom: 4px;\n",
              "    }\n",
              "\n",
              "    [theme=dark] .colab-df-convert {\n",
              "      background-color: #3B4455;\n",
              "      fill: #D2E3FC;\n",
              "    }\n",
              "\n",
              "    [theme=dark] .colab-df-convert:hover {\n",
              "      background-color: #434B5C;\n",
              "      box-shadow: 0px 1px 3px 1px rgba(0, 0, 0, 0.15);\n",
              "      filter: drop-shadow(0px 1px 2px rgba(0, 0, 0, 0.3));\n",
              "      fill: #FFFFFF;\n",
              "    }\n",
              "  </style>\n",
              "\n",
              "    <script>\n",
              "      const buttonEl =\n",
              "        document.querySelector('#df-b7502251-941d-4dd1-ab11-15bdf27f0194 button.colab-df-convert');\n",
              "      buttonEl.style.display =\n",
              "        google.colab.kernel.accessAllowed ? 'block' : 'none';\n",
              "\n",
              "      async function convertToInteractive(key) {\n",
              "        const element = document.querySelector('#df-b7502251-941d-4dd1-ab11-15bdf27f0194');\n",
              "        const dataTable =\n",
              "          await google.colab.kernel.invokeFunction('convertToInteractive',\n",
              "                                                    [key], {});\n",
              "        if (!dataTable) return;\n",
              "\n",
              "        const docLinkHtml = 'Like what you see? Visit the ' +\n",
              "          '<a target=\"_blank\" href=https://colab.research.google.com/notebooks/data_table.ipynb>data table notebook</a>'\n",
              "          + ' to learn more about interactive tables.';\n",
              "        element.innerHTML = '';\n",
              "        dataTable['output_type'] = 'display_data';\n",
              "        await google.colab.output.renderOutput(dataTable, element);\n",
              "        const docLink = document.createElement('div');\n",
              "        docLink.innerHTML = docLinkHtml;\n",
              "        element.appendChild(docLink);\n",
              "      }\n",
              "    </script>\n",
              "  </div>\n",
              "\n",
              "\n",
              "    <div id=\"df-5eea3bc8-3b4e-4a16-922b-0b2655b4802d\">\n",
              "      <button class=\"colab-df-quickchart\" onclick=\"quickchart('df-5eea3bc8-3b4e-4a16-922b-0b2655b4802d')\"\n",
              "                title=\"Suggest charts\"\n",
              "                style=\"display:none;\">\n",
              "\n",
              "<svg xmlns=\"http://www.w3.org/2000/svg\" height=\"24px\"viewBox=\"0 0 24 24\"\n",
              "     width=\"24px\">\n",
              "    <g>\n",
              "        <path d=\"M19 3H5c-1.1 0-2 .9-2 2v14c0 1.1.9 2 2 2h14c1.1 0 2-.9 2-2V5c0-1.1-.9-2-2-2zM9 17H7v-7h2v7zm4 0h-2V7h2v10zm4 0h-2v-4h2v4z\"/>\n",
              "    </g>\n",
              "</svg>\n",
              "      </button>\n",
              "\n",
              "<style>\n",
              "  .colab-df-quickchart {\n",
              "      --bg-color: #E8F0FE;\n",
              "      --fill-color: #1967D2;\n",
              "      --hover-bg-color: #E2EBFA;\n",
              "      --hover-fill-color: #174EA6;\n",
              "      --disabled-fill-color: #AAA;\n",
              "      --disabled-bg-color: #DDD;\n",
              "  }\n",
              "\n",
              "  [theme=dark] .colab-df-quickchart {\n",
              "      --bg-color: #3B4455;\n",
              "      --fill-color: #D2E3FC;\n",
              "      --hover-bg-color: #434B5C;\n",
              "      --hover-fill-color: #FFFFFF;\n",
              "      --disabled-bg-color: #3B4455;\n",
              "      --disabled-fill-color: #666;\n",
              "  }\n",
              "\n",
              "  .colab-df-quickchart {\n",
              "    background-color: var(--bg-color);\n",
              "    border: none;\n",
              "    border-radius: 50%;\n",
              "    cursor: pointer;\n",
              "    display: none;\n",
              "    fill: var(--fill-color);\n",
              "    height: 32px;\n",
              "    padding: 0;\n",
              "    width: 32px;\n",
              "  }\n",
              "\n",
              "  .colab-df-quickchart:hover {\n",
              "    background-color: var(--hover-bg-color);\n",
              "    box-shadow: 0 1px 2px rgba(60, 64, 67, 0.3), 0 1px 3px 1px rgba(60, 64, 67, 0.15);\n",
              "    fill: var(--button-hover-fill-color);\n",
              "  }\n",
              "\n",
              "  .colab-df-quickchart-complete:disabled,\n",
              "  .colab-df-quickchart-complete:disabled:hover {\n",
              "    background-color: var(--disabled-bg-color);\n",
              "    fill: var(--disabled-fill-color);\n",
              "    box-shadow: none;\n",
              "  }\n",
              "\n",
              "  .colab-df-spinner {\n",
              "    border: 2px solid var(--fill-color);\n",
              "    border-color: transparent;\n",
              "    border-bottom-color: var(--fill-color);\n",
              "    animation:\n",
              "      spin 1s steps(1) infinite;\n",
              "  }\n",
              "\n",
              "  @keyframes spin {\n",
              "    0% {\n",
              "      border-color: transparent;\n",
              "      border-bottom-color: var(--fill-color);\n",
              "      border-left-color: var(--fill-color);\n",
              "    }\n",
              "    20% {\n",
              "      border-color: transparent;\n",
              "      border-left-color: var(--fill-color);\n",
              "      border-top-color: var(--fill-color);\n",
              "    }\n",
              "    30% {\n",
              "      border-color: transparent;\n",
              "      border-left-color: var(--fill-color);\n",
              "      border-top-color: var(--fill-color);\n",
              "      border-right-color: var(--fill-color);\n",
              "    }\n",
              "    40% {\n",
              "      border-color: transparent;\n",
              "      border-right-color: var(--fill-color);\n",
              "      border-top-color: var(--fill-color);\n",
              "    }\n",
              "    60% {\n",
              "      border-color: transparent;\n",
              "      border-right-color: var(--fill-color);\n",
              "    }\n",
              "    80% {\n",
              "      border-color: transparent;\n",
              "      border-right-color: var(--fill-color);\n",
              "      border-bottom-color: var(--fill-color);\n",
              "    }\n",
              "    90% {\n",
              "      border-color: transparent;\n",
              "      border-bottom-color: var(--fill-color);\n",
              "    }\n",
              "  }\n",
              "</style>\n",
              "\n",
              "      <script>\n",
              "        async function quickchart(key) {\n",
              "          const quickchartButtonEl =\n",
              "            document.querySelector('#' + key + ' button');\n",
              "          quickchartButtonEl.disabled = true;  // To prevent multiple clicks.\n",
              "          quickchartButtonEl.classList.add('colab-df-spinner');\n",
              "          try {\n",
              "            const charts = await google.colab.kernel.invokeFunction(\n",
              "                'suggestCharts', [key], {});\n",
              "          } catch (error) {\n",
              "            console.error('Error during call to suggestCharts:', error);\n",
              "          }\n",
              "          quickchartButtonEl.classList.remove('colab-df-spinner');\n",
              "          quickchartButtonEl.classList.add('colab-df-quickchart-complete');\n",
              "        }\n",
              "        (() => {\n",
              "          let quickchartButtonEl =\n",
              "            document.querySelector('#df-5eea3bc8-3b4e-4a16-922b-0b2655b4802d button');\n",
              "          quickchartButtonEl.style.display =\n",
              "            google.colab.kernel.accessAllowed ? 'block' : 'none';\n",
              "        })();\n",
              "      </script>\n",
              "    </div>\n",
              "\n",
              "  <div id=\"id_cce83bcf-9bda-44ef-b9c8-7a238900d7b3\">\n",
              "    <style>\n",
              "      .colab-df-generate {\n",
              "        background-color: #E8F0FE;\n",
              "        border: none;\n",
              "        border-radius: 50%;\n",
              "        cursor: pointer;\n",
              "        display: none;\n",
              "        fill: #1967D2;\n",
              "        height: 32px;\n",
              "        padding: 0 0 0 0;\n",
              "        width: 32px;\n",
              "      }\n",
              "\n",
              "      .colab-df-generate:hover {\n",
              "        background-color: #E2EBFA;\n",
              "        box-shadow: 0px 1px 2px rgba(60, 64, 67, 0.3), 0px 1px 3px 1px rgba(60, 64, 67, 0.15);\n",
              "        fill: #174EA6;\n",
              "      }\n",
              "\n",
              "      [theme=dark] .colab-df-generate {\n",
              "        background-color: #3B4455;\n",
              "        fill: #D2E3FC;\n",
              "      }\n",
              "\n",
              "      [theme=dark] .colab-df-generate:hover {\n",
              "        background-color: #434B5C;\n",
              "        box-shadow: 0px 1px 3px 1px rgba(0, 0, 0, 0.15);\n",
              "        filter: drop-shadow(0px 1px 2px rgba(0, 0, 0, 0.3));\n",
              "        fill: #FFFFFF;\n",
              "      }\n",
              "    </style>\n",
              "    <button class=\"colab-df-generate\" onclick=\"generateWithVariable('data_dup')\"\n",
              "            title=\"Generate code using this dataframe.\"\n",
              "            style=\"display:none;\">\n",
              "\n",
              "  <svg xmlns=\"http://www.w3.org/2000/svg\" height=\"24px\"viewBox=\"0 0 24 24\"\n",
              "       width=\"24px\">\n",
              "    <path d=\"M7,19H8.4L18.45,9,17,7.55,7,17.6ZM5,21V16.75L18.45,3.32a2,2,0,0,1,2.83,0l1.4,1.43a1.91,1.91,0,0,1,.58,1.4,1.91,1.91,0,0,1-.58,1.4L9.25,21ZM18.45,9,17,7.55Zm-12,3A5.31,5.31,0,0,0,4.9,8.1,5.31,5.31,0,0,0,1,6.5,5.31,5.31,0,0,0,4.9,4.9,5.31,5.31,0,0,0,6.5,1,5.31,5.31,0,0,0,8.1,4.9,5.31,5.31,0,0,0,12,6.5,5.46,5.46,0,0,0,6.5,12Z\"/>\n",
              "  </svg>\n",
              "    </button>\n",
              "    <script>\n",
              "      (() => {\n",
              "      const buttonEl =\n",
              "        document.querySelector('#id_cce83bcf-9bda-44ef-b9c8-7a238900d7b3 button.colab-df-generate');\n",
              "      buttonEl.style.display =\n",
              "        google.colab.kernel.accessAllowed ? 'block' : 'none';\n",
              "\n",
              "      buttonEl.onclick = () => {\n",
              "        google.colab.notebook.generateWithVariable('data_dup');\n",
              "      }\n",
              "      })();\n",
              "    </script>\n",
              "  </div>\n",
              "\n",
              "    </div>\n",
              "  </div>\n"
            ],
            "application/vnd.google.colaboratory.intrinsic+json": {
              "type": "dataframe",
              "variable_name": "data_dup",
              "repr_error": "0"
            }
          },
          "metadata": {},
          "execution_count": 5
        }
      ]
    },
    {
      "cell_type": "code",
      "source": [
        "# Dropping duplicates data\n",
        "data.drop_duplicates(subset='user_id',inplace=True)\n",
        "data.shape"
      ],
      "metadata": {
        "id": "Si5716hjCLcw",
        "colab": {
          "base_uri": "https://localhost:8080/"
        },
        "outputId": "c6769bf6-acc1-45bb-9d3e-7392e2658bef"
      },
      "execution_count": 6,
      "outputs": [
        {
          "output_type": "execute_result",
          "data": {
            "text/plain": [
              "(3144, 7)"
            ]
          },
          "metadata": {},
          "execution_count": 6
        }
      ]
    },
    {
      "cell_type": "code",
      "source": [
        "# Checking missing value\n",
        "data.isna().sum()"
      ],
      "metadata": {
        "id": "Xf5wDc3mCMcl",
        "colab": {
          "base_uri": "https://localhost:8080/",
          "height": 304
        },
        "outputId": "f88a3ab3-d4f6-4f8f-e060-4c83893a1f61"
      },
      "execution_count": 7,
      "outputs": [
        {
          "output_type": "execute_result",
          "data": {
            "text/plain": [
              "no                  0\n",
              "user_id             0\n",
              "register_time       0\n",
              "register_country    0\n",
              "group               0\n",
              "type_algorithm      0\n",
              "time_stream         6\n",
              "dtype: int64"
            ],
            "text/html": [
              "<div>\n",
              "<style scoped>\n",
              "    .dataframe tbody tr th:only-of-type {\n",
              "        vertical-align: middle;\n",
              "    }\n",
              "\n",
              "    .dataframe tbody tr th {\n",
              "        vertical-align: top;\n",
              "    }\n",
              "\n",
              "    .dataframe thead th {\n",
              "        text-align: right;\n",
              "    }\n",
              "</style>\n",
              "<table border=\"1\" class=\"dataframe\">\n",
              "  <thead>\n",
              "    <tr style=\"text-align: right;\">\n",
              "      <th></th>\n",
              "      <th>0</th>\n",
              "    </tr>\n",
              "  </thead>\n",
              "  <tbody>\n",
              "    <tr>\n",
              "      <th>no</th>\n",
              "      <td>0</td>\n",
              "    </tr>\n",
              "    <tr>\n",
              "      <th>user_id</th>\n",
              "      <td>0</td>\n",
              "    </tr>\n",
              "    <tr>\n",
              "      <th>register_time</th>\n",
              "      <td>0</td>\n",
              "    </tr>\n",
              "    <tr>\n",
              "      <th>register_country</th>\n",
              "      <td>0</td>\n",
              "    </tr>\n",
              "    <tr>\n",
              "      <th>group</th>\n",
              "      <td>0</td>\n",
              "    </tr>\n",
              "    <tr>\n",
              "      <th>type_algorithm</th>\n",
              "      <td>0</td>\n",
              "    </tr>\n",
              "    <tr>\n",
              "      <th>time_stream</th>\n",
              "      <td>6</td>\n",
              "    </tr>\n",
              "  </tbody>\n",
              "</table>\n",
              "</div><br><label><b>dtype:</b> int64</label>"
            ]
          },
          "metadata": {},
          "execution_count": 7
        }
      ]
    },
    {
      "cell_type": "code",
      "source": [
        "# drop missing value\n",
        "data = data.dropna()"
      ],
      "metadata": {
        "id": "gP8pbbvQCN01"
      },
      "execution_count": 8,
      "outputs": []
    },
    {
      "cell_type": "code",
      "source": [
        "# Checking missing value\n",
        "data.isna().sum()"
      ],
      "metadata": {
        "id": "MpUr3f8ZCOza",
        "colab": {
          "base_uri": "https://localhost:8080/",
          "height": 304
        },
        "outputId": "f343159f-a56a-4884-9931-7d8181abe107"
      },
      "execution_count": 9,
      "outputs": [
        {
          "output_type": "execute_result",
          "data": {
            "text/plain": [
              "no                  0\n",
              "user_id             0\n",
              "register_time       0\n",
              "register_country    0\n",
              "group               0\n",
              "type_algorithm      0\n",
              "time_stream         0\n",
              "dtype: int64"
            ],
            "text/html": [
              "<div>\n",
              "<style scoped>\n",
              "    .dataframe tbody tr th:only-of-type {\n",
              "        vertical-align: middle;\n",
              "    }\n",
              "\n",
              "    .dataframe tbody tr th {\n",
              "        vertical-align: top;\n",
              "    }\n",
              "\n",
              "    .dataframe thead th {\n",
              "        text-align: right;\n",
              "    }\n",
              "</style>\n",
              "<table border=\"1\" class=\"dataframe\">\n",
              "  <thead>\n",
              "    <tr style=\"text-align: right;\">\n",
              "      <th></th>\n",
              "      <th>0</th>\n",
              "    </tr>\n",
              "  </thead>\n",
              "  <tbody>\n",
              "    <tr>\n",
              "      <th>no</th>\n",
              "      <td>0</td>\n",
              "    </tr>\n",
              "    <tr>\n",
              "      <th>user_id</th>\n",
              "      <td>0</td>\n",
              "    </tr>\n",
              "    <tr>\n",
              "      <th>register_time</th>\n",
              "      <td>0</td>\n",
              "    </tr>\n",
              "    <tr>\n",
              "      <th>register_country</th>\n",
              "      <td>0</td>\n",
              "    </tr>\n",
              "    <tr>\n",
              "      <th>group</th>\n",
              "      <td>0</td>\n",
              "    </tr>\n",
              "    <tr>\n",
              "      <th>type_algorithm</th>\n",
              "      <td>0</td>\n",
              "    </tr>\n",
              "    <tr>\n",
              "      <th>time_stream</th>\n",
              "      <td>0</td>\n",
              "    </tr>\n",
              "  </tbody>\n",
              "</table>\n",
              "</div><br><label><b>dtype:</b> int64</label>"
            ]
          },
          "metadata": {},
          "execution_count": 9
        }
      ]
    },
    {
      "cell_type": "code",
      "source": [
        "# checking group & landing page\n",
        "group_name = \"treatment\"\n",
        "type_algorithm_name = \"rank-recommendation\"\n",
        "\n",
        "# create condition\n",
        "condition_group = data[\"group\"] == group_name\n",
        "condition_algorithm = data[\"type_algorithm\"] == type_algorithm_name\n",
        "\n",
        "# Filter\n",
        "data_salah_1 = data[condition_group & condition_algorithm]"
      ],
      "metadata": {
        "id": "fWdx30nLCQCD"
      },
      "execution_count": 10,
      "outputs": []
    },
    {
      "cell_type": "code",
      "source": [
        "# Define variant\n",
        "group_name = \"control\"\n",
        "type_algorithm_name = \"personalize-recommendation\"\n",
        "\n",
        "# Create condition\n",
        "condition_group = data[\"group\"] == group_name\n",
        "condition_algorithm = data[\"type_algorithm\"] == type_algorithm_name\n",
        "\n",
        "# Filter\n",
        "data_salah_2 = data[condition_group & condition_algorithm]"
      ],
      "metadata": {
        "id": "lyAvQphiCRP4"
      },
      "execution_count": 11,
      "outputs": []
    },
    {
      "cell_type": "code",
      "source": [
        "# Show\n",
        "data_salah_2.head()"
      ],
      "metadata": {
        "id": "-6w4j2ZHCSLx",
        "colab": {
          "base_uri": "https://localhost:8080/",
          "height": 53
        },
        "outputId": "d14184a5-0ace-4086-a2dc-e26b77c9804e"
      },
      "execution_count": 12,
      "outputs": [
        {
          "output_type": "execute_result",
          "data": {
            "text/plain": [
              "Empty DataFrame\n",
              "Columns: [no, user_id, register_time, register_country, group, type_algorithm, time_stream]\n",
              "Index: []"
            ],
            "text/html": [
              "\n",
              "  <div id=\"df-94bebf0d-7f16-4b09-9283-7c663c16bdb8\" class=\"colab-df-container\">\n",
              "    <div>\n",
              "<style scoped>\n",
              "    .dataframe tbody tr th:only-of-type {\n",
              "        vertical-align: middle;\n",
              "    }\n",
              "\n",
              "    .dataframe tbody tr th {\n",
              "        vertical-align: top;\n",
              "    }\n",
              "\n",
              "    .dataframe thead th {\n",
              "        text-align: right;\n",
              "    }\n",
              "</style>\n",
              "<table border=\"1\" class=\"dataframe\">\n",
              "  <thead>\n",
              "    <tr style=\"text-align: right;\">\n",
              "      <th></th>\n",
              "      <th>no</th>\n",
              "      <th>user_id</th>\n",
              "      <th>register_time</th>\n",
              "      <th>register_country</th>\n",
              "      <th>group</th>\n",
              "      <th>type_algorithm</th>\n",
              "      <th>time_stream</th>\n",
              "    </tr>\n",
              "  </thead>\n",
              "  <tbody>\n",
              "  </tbody>\n",
              "</table>\n",
              "</div>\n",
              "    <div class=\"colab-df-buttons\">\n",
              "\n",
              "  <div class=\"colab-df-container\">\n",
              "    <button class=\"colab-df-convert\" onclick=\"convertToInteractive('df-94bebf0d-7f16-4b09-9283-7c663c16bdb8')\"\n",
              "            title=\"Convert this dataframe to an interactive table.\"\n",
              "            style=\"display:none;\">\n",
              "\n",
              "  <svg xmlns=\"http://www.w3.org/2000/svg\" height=\"24px\" viewBox=\"0 -960 960 960\">\n",
              "    <path d=\"M120-120v-720h720v720H120Zm60-500h600v-160H180v160Zm220 220h160v-160H400v160Zm0 220h160v-160H400v160ZM180-400h160v-160H180v160Zm440 0h160v-160H620v160ZM180-180h160v-160H180v160Zm440 0h160v-160H620v160Z\"/>\n",
              "  </svg>\n",
              "    </button>\n",
              "\n",
              "  <style>\n",
              "    .colab-df-container {\n",
              "      display:flex;\n",
              "      gap: 12px;\n",
              "    }\n",
              "\n",
              "    .colab-df-convert {\n",
              "      background-color: #E8F0FE;\n",
              "      border: none;\n",
              "      border-radius: 50%;\n",
              "      cursor: pointer;\n",
              "      display: none;\n",
              "      fill: #1967D2;\n",
              "      height: 32px;\n",
              "      padding: 0 0 0 0;\n",
              "      width: 32px;\n",
              "    }\n",
              "\n",
              "    .colab-df-convert:hover {\n",
              "      background-color: #E2EBFA;\n",
              "      box-shadow: 0px 1px 2px rgba(60, 64, 67, 0.3), 0px 1px 3px 1px rgba(60, 64, 67, 0.15);\n",
              "      fill: #174EA6;\n",
              "    }\n",
              "\n",
              "    .colab-df-buttons div {\n",
              "      margin-bottom: 4px;\n",
              "    }\n",
              "\n",
              "    [theme=dark] .colab-df-convert {\n",
              "      background-color: #3B4455;\n",
              "      fill: #D2E3FC;\n",
              "    }\n",
              "\n",
              "    [theme=dark] .colab-df-convert:hover {\n",
              "      background-color: #434B5C;\n",
              "      box-shadow: 0px 1px 3px 1px rgba(0, 0, 0, 0.15);\n",
              "      filter: drop-shadow(0px 1px 2px rgba(0, 0, 0, 0.3));\n",
              "      fill: #FFFFFF;\n",
              "    }\n",
              "  </style>\n",
              "\n",
              "    <script>\n",
              "      const buttonEl =\n",
              "        document.querySelector('#df-94bebf0d-7f16-4b09-9283-7c663c16bdb8 button.colab-df-convert');\n",
              "      buttonEl.style.display =\n",
              "        google.colab.kernel.accessAllowed ? 'block' : 'none';\n",
              "\n",
              "      async function convertToInteractive(key) {\n",
              "        const element = document.querySelector('#df-94bebf0d-7f16-4b09-9283-7c663c16bdb8');\n",
              "        const dataTable =\n",
              "          await google.colab.kernel.invokeFunction('convertToInteractive',\n",
              "                                                    [key], {});\n",
              "        if (!dataTable) return;\n",
              "\n",
              "        const docLinkHtml = 'Like what you see? Visit the ' +\n",
              "          '<a target=\"_blank\" href=https://colab.research.google.com/notebooks/data_table.ipynb>data table notebook</a>'\n",
              "          + ' to learn more about interactive tables.';\n",
              "        element.innerHTML = '';\n",
              "        dataTable['output_type'] = 'display_data';\n",
              "        await google.colab.output.renderOutput(dataTable, element);\n",
              "        const docLink = document.createElement('div');\n",
              "        docLink.innerHTML = docLinkHtml;\n",
              "        element.appendChild(docLink);\n",
              "      }\n",
              "    </script>\n",
              "  </div>\n",
              "\n",
              "\n",
              "    </div>\n",
              "  </div>\n"
            ],
            "application/vnd.google.colaboratory.intrinsic+json": {
              "type": "dataframe",
              "variable_name": "data_salah_2",
              "repr_error": "Out of range float values are not JSON compliant: nan"
            }
          },
          "metadata": {},
          "execution_count": 12
        }
      ]
    },
    {
      "cell_type": "code",
      "source": [
        "# Create data control\n",
        "data_control = data[data[\"group\"] == \"control\"]\n",
        "\n",
        "data_control.head()"
      ],
      "metadata": {
        "id": "7pUvFZzaCTN7",
        "colab": {
          "base_uri": "https://localhost:8080/",
          "height": 206
        },
        "outputId": "bbd98c1e-7586-40f1-968e-5a615c1298ca"
      },
      "execution_count": 13,
      "outputs": [
        {
          "output_type": "execute_result",
          "data": {
            "text/plain": [
              "    no    user_id            register_time register_country    group  \\\n",
              "1    2  109441785  2015-07-27 07:19:53 UTC    United States  control   \n",
              "2    3  109438205  2018-08-10 07:02:03 UTC    United States  control   \n",
              "3    4  109438917  2019-04-13 05:42:37 UTC    United States  control   \n",
              "12  13  109437504  2020-06-22 11:45:11 UTC    United States  control   \n",
              "13  14  109436953  2020-06-22 10:40:45 UTC    United States  control   \n",
              "\n",
              "         type_algorithm  time_stream  \n",
              "1   rank-recommendation    56.043611  \n",
              "2   rank-recommendation    79.556711  \n",
              "3   rank-recommendation    79.317611  \n",
              "12  rank-recommendation    79.425761  \n",
              "13  rank-recommendation    78.345361  "
            ],
            "text/html": [
              "\n",
              "  <div id=\"df-2edcfa37-826d-44ef-899b-406fafc479f1\" class=\"colab-df-container\">\n",
              "    <div>\n",
              "<style scoped>\n",
              "    .dataframe tbody tr th:only-of-type {\n",
              "        vertical-align: middle;\n",
              "    }\n",
              "\n",
              "    .dataframe tbody tr th {\n",
              "        vertical-align: top;\n",
              "    }\n",
              "\n",
              "    .dataframe thead th {\n",
              "        text-align: right;\n",
              "    }\n",
              "</style>\n",
              "<table border=\"1\" class=\"dataframe\">\n",
              "  <thead>\n",
              "    <tr style=\"text-align: right;\">\n",
              "      <th></th>\n",
              "      <th>no</th>\n",
              "      <th>user_id</th>\n",
              "      <th>register_time</th>\n",
              "      <th>register_country</th>\n",
              "      <th>group</th>\n",
              "      <th>type_algorithm</th>\n",
              "      <th>time_stream</th>\n",
              "    </tr>\n",
              "  </thead>\n",
              "  <tbody>\n",
              "    <tr>\n",
              "      <th>1</th>\n",
              "      <td>2</td>\n",
              "      <td>109441785</td>\n",
              "      <td>2015-07-27 07:19:53 UTC</td>\n",
              "      <td>United States</td>\n",
              "      <td>control</td>\n",
              "      <td>rank-recommendation</td>\n",
              "      <td>56.043611</td>\n",
              "    </tr>\n",
              "    <tr>\n",
              "      <th>2</th>\n",
              "      <td>3</td>\n",
              "      <td>109438205</td>\n",
              "      <td>2018-08-10 07:02:03 UTC</td>\n",
              "      <td>United States</td>\n",
              "      <td>control</td>\n",
              "      <td>rank-recommendation</td>\n",
              "      <td>79.556711</td>\n",
              "    </tr>\n",
              "    <tr>\n",
              "      <th>3</th>\n",
              "      <td>4</td>\n",
              "      <td>109438917</td>\n",
              "      <td>2019-04-13 05:42:37 UTC</td>\n",
              "      <td>United States</td>\n",
              "      <td>control</td>\n",
              "      <td>rank-recommendation</td>\n",
              "      <td>79.317611</td>\n",
              "    </tr>\n",
              "    <tr>\n",
              "      <th>12</th>\n",
              "      <td>13</td>\n",
              "      <td>109437504</td>\n",
              "      <td>2020-06-22 11:45:11 UTC</td>\n",
              "      <td>United States</td>\n",
              "      <td>control</td>\n",
              "      <td>rank-recommendation</td>\n",
              "      <td>79.425761</td>\n",
              "    </tr>\n",
              "    <tr>\n",
              "      <th>13</th>\n",
              "      <td>14</td>\n",
              "      <td>109436953</td>\n",
              "      <td>2020-06-22 10:40:45 UTC</td>\n",
              "      <td>United States</td>\n",
              "      <td>control</td>\n",
              "      <td>rank-recommendation</td>\n",
              "      <td>78.345361</td>\n",
              "    </tr>\n",
              "  </tbody>\n",
              "</table>\n",
              "</div>\n",
              "    <div class=\"colab-df-buttons\">\n",
              "\n",
              "  <div class=\"colab-df-container\">\n",
              "    <button class=\"colab-df-convert\" onclick=\"convertToInteractive('df-2edcfa37-826d-44ef-899b-406fafc479f1')\"\n",
              "            title=\"Convert this dataframe to an interactive table.\"\n",
              "            style=\"display:none;\">\n",
              "\n",
              "  <svg xmlns=\"http://www.w3.org/2000/svg\" height=\"24px\" viewBox=\"0 -960 960 960\">\n",
              "    <path d=\"M120-120v-720h720v720H120Zm60-500h600v-160H180v160Zm220 220h160v-160H400v160Zm0 220h160v-160H400v160ZM180-400h160v-160H180v160Zm440 0h160v-160H620v160ZM180-180h160v-160H180v160Zm440 0h160v-160H620v160Z\"/>\n",
              "  </svg>\n",
              "    </button>\n",
              "\n",
              "  <style>\n",
              "    .colab-df-container {\n",
              "      display:flex;\n",
              "      gap: 12px;\n",
              "    }\n",
              "\n",
              "    .colab-df-convert {\n",
              "      background-color: #E8F0FE;\n",
              "      border: none;\n",
              "      border-radius: 50%;\n",
              "      cursor: pointer;\n",
              "      display: none;\n",
              "      fill: #1967D2;\n",
              "      height: 32px;\n",
              "      padding: 0 0 0 0;\n",
              "      width: 32px;\n",
              "    }\n",
              "\n",
              "    .colab-df-convert:hover {\n",
              "      background-color: #E2EBFA;\n",
              "      box-shadow: 0px 1px 2px rgba(60, 64, 67, 0.3), 0px 1px 3px 1px rgba(60, 64, 67, 0.15);\n",
              "      fill: #174EA6;\n",
              "    }\n",
              "\n",
              "    .colab-df-buttons div {\n",
              "      margin-bottom: 4px;\n",
              "    }\n",
              "\n",
              "    [theme=dark] .colab-df-convert {\n",
              "      background-color: #3B4455;\n",
              "      fill: #D2E3FC;\n",
              "    }\n",
              "\n",
              "    [theme=dark] .colab-df-convert:hover {\n",
              "      background-color: #434B5C;\n",
              "      box-shadow: 0px 1px 3px 1px rgba(0, 0, 0, 0.15);\n",
              "      filter: drop-shadow(0px 1px 2px rgba(0, 0, 0, 0.3));\n",
              "      fill: #FFFFFF;\n",
              "    }\n",
              "  </style>\n",
              "\n",
              "    <script>\n",
              "      const buttonEl =\n",
              "        document.querySelector('#df-2edcfa37-826d-44ef-899b-406fafc479f1 button.colab-df-convert');\n",
              "      buttonEl.style.display =\n",
              "        google.colab.kernel.accessAllowed ? 'block' : 'none';\n",
              "\n",
              "      async function convertToInteractive(key) {\n",
              "        const element = document.querySelector('#df-2edcfa37-826d-44ef-899b-406fafc479f1');\n",
              "        const dataTable =\n",
              "          await google.colab.kernel.invokeFunction('convertToInteractive',\n",
              "                                                    [key], {});\n",
              "        if (!dataTable) return;\n",
              "\n",
              "        const docLinkHtml = 'Like what you see? Visit the ' +\n",
              "          '<a target=\"_blank\" href=https://colab.research.google.com/notebooks/data_table.ipynb>data table notebook</a>'\n",
              "          + ' to learn more about interactive tables.';\n",
              "        element.innerHTML = '';\n",
              "        dataTable['output_type'] = 'display_data';\n",
              "        await google.colab.output.renderOutput(dataTable, element);\n",
              "        const docLink = document.createElement('div');\n",
              "        docLink.innerHTML = docLinkHtml;\n",
              "        element.appendChild(docLink);\n",
              "      }\n",
              "    </script>\n",
              "  </div>\n",
              "\n",
              "\n",
              "    <div id=\"df-aa604f75-1c6d-47c0-864b-dddf73bf8021\">\n",
              "      <button class=\"colab-df-quickchart\" onclick=\"quickchart('df-aa604f75-1c6d-47c0-864b-dddf73bf8021')\"\n",
              "                title=\"Suggest charts\"\n",
              "                style=\"display:none;\">\n",
              "\n",
              "<svg xmlns=\"http://www.w3.org/2000/svg\" height=\"24px\"viewBox=\"0 0 24 24\"\n",
              "     width=\"24px\">\n",
              "    <g>\n",
              "        <path d=\"M19 3H5c-1.1 0-2 .9-2 2v14c0 1.1.9 2 2 2h14c1.1 0 2-.9 2-2V5c0-1.1-.9-2-2-2zM9 17H7v-7h2v7zm4 0h-2V7h2v10zm4 0h-2v-4h2v4z\"/>\n",
              "    </g>\n",
              "</svg>\n",
              "      </button>\n",
              "\n",
              "<style>\n",
              "  .colab-df-quickchart {\n",
              "      --bg-color: #E8F0FE;\n",
              "      --fill-color: #1967D2;\n",
              "      --hover-bg-color: #E2EBFA;\n",
              "      --hover-fill-color: #174EA6;\n",
              "      --disabled-fill-color: #AAA;\n",
              "      --disabled-bg-color: #DDD;\n",
              "  }\n",
              "\n",
              "  [theme=dark] .colab-df-quickchart {\n",
              "      --bg-color: #3B4455;\n",
              "      --fill-color: #D2E3FC;\n",
              "      --hover-bg-color: #434B5C;\n",
              "      --hover-fill-color: #FFFFFF;\n",
              "      --disabled-bg-color: #3B4455;\n",
              "      --disabled-fill-color: #666;\n",
              "  }\n",
              "\n",
              "  .colab-df-quickchart {\n",
              "    background-color: var(--bg-color);\n",
              "    border: none;\n",
              "    border-radius: 50%;\n",
              "    cursor: pointer;\n",
              "    display: none;\n",
              "    fill: var(--fill-color);\n",
              "    height: 32px;\n",
              "    padding: 0;\n",
              "    width: 32px;\n",
              "  }\n",
              "\n",
              "  .colab-df-quickchart:hover {\n",
              "    background-color: var(--hover-bg-color);\n",
              "    box-shadow: 0 1px 2px rgba(60, 64, 67, 0.3), 0 1px 3px 1px rgba(60, 64, 67, 0.15);\n",
              "    fill: var(--button-hover-fill-color);\n",
              "  }\n",
              "\n",
              "  .colab-df-quickchart-complete:disabled,\n",
              "  .colab-df-quickchart-complete:disabled:hover {\n",
              "    background-color: var(--disabled-bg-color);\n",
              "    fill: var(--disabled-fill-color);\n",
              "    box-shadow: none;\n",
              "  }\n",
              "\n",
              "  .colab-df-spinner {\n",
              "    border: 2px solid var(--fill-color);\n",
              "    border-color: transparent;\n",
              "    border-bottom-color: var(--fill-color);\n",
              "    animation:\n",
              "      spin 1s steps(1) infinite;\n",
              "  }\n",
              "\n",
              "  @keyframes spin {\n",
              "    0% {\n",
              "      border-color: transparent;\n",
              "      border-bottom-color: var(--fill-color);\n",
              "      border-left-color: var(--fill-color);\n",
              "    }\n",
              "    20% {\n",
              "      border-color: transparent;\n",
              "      border-left-color: var(--fill-color);\n",
              "      border-top-color: var(--fill-color);\n",
              "    }\n",
              "    30% {\n",
              "      border-color: transparent;\n",
              "      border-left-color: var(--fill-color);\n",
              "      border-top-color: var(--fill-color);\n",
              "      border-right-color: var(--fill-color);\n",
              "    }\n",
              "    40% {\n",
              "      border-color: transparent;\n",
              "      border-right-color: var(--fill-color);\n",
              "      border-top-color: var(--fill-color);\n",
              "    }\n",
              "    60% {\n",
              "      border-color: transparent;\n",
              "      border-right-color: var(--fill-color);\n",
              "    }\n",
              "    80% {\n",
              "      border-color: transparent;\n",
              "      border-right-color: var(--fill-color);\n",
              "      border-bottom-color: var(--fill-color);\n",
              "    }\n",
              "    90% {\n",
              "      border-color: transparent;\n",
              "      border-bottom-color: var(--fill-color);\n",
              "    }\n",
              "  }\n",
              "</style>\n",
              "\n",
              "      <script>\n",
              "        async function quickchart(key) {\n",
              "          const quickchartButtonEl =\n",
              "            document.querySelector('#' + key + ' button');\n",
              "          quickchartButtonEl.disabled = true;  // To prevent multiple clicks.\n",
              "          quickchartButtonEl.classList.add('colab-df-spinner');\n",
              "          try {\n",
              "            const charts = await google.colab.kernel.invokeFunction(\n",
              "                'suggestCharts', [key], {});\n",
              "          } catch (error) {\n",
              "            console.error('Error during call to suggestCharts:', error);\n",
              "          }\n",
              "          quickchartButtonEl.classList.remove('colab-df-spinner');\n",
              "          quickchartButtonEl.classList.add('colab-df-quickchart-complete');\n",
              "        }\n",
              "        (() => {\n",
              "          let quickchartButtonEl =\n",
              "            document.querySelector('#df-aa604f75-1c6d-47c0-864b-dddf73bf8021 button');\n",
              "          quickchartButtonEl.style.display =\n",
              "            google.colab.kernel.accessAllowed ? 'block' : 'none';\n",
              "        })();\n",
              "      </script>\n",
              "    </div>\n",
              "\n",
              "    </div>\n",
              "  </div>\n"
            ],
            "application/vnd.google.colaboratory.intrinsic+json": {
              "type": "dataframe",
              "variable_name": "data_control",
              "repr_error": "0"
            }
          },
          "metadata": {},
          "execution_count": 13
        }
      ]
    },
    {
      "cell_type": "code",
      "source": [
        "# Create data treatment\n",
        "data_treatment = data[data[\"group\"] == \"treatment\"]\n",
        "\n",
        "data_treatment.head()"
      ],
      "metadata": {
        "id": "YZBBfLwVCT_Z",
        "colab": {
          "base_uri": "https://localhost:8080/",
          "height": 293
        },
        "outputId": "ee0edd82-4143-4d89-cf88-1680d6116381"
      },
      "execution_count": 14,
      "outputs": [
        {
          "output_type": "execute_result",
          "data": {
            "text/plain": [
              "   no    user_id            register_time register_country      group  \\\n",
              "0   1  109437538  2020-05-20 01:11:07 UTC    United States  treatment   \n",
              "4   5  109442185  2020-03-24 05:23:22 UTC    United States  treatment   \n",
              "5   6  109440894  2020-03-24 05:23:22 UTC    United States  treatment   \n",
              "6   7  109441544  2020-03-24 05:23:22 UTC    United States  treatment   \n",
              "7   8  109441301  2019-10-18 20:59:57 UTC    United States  treatment   \n",
              "\n",
              "               type_algorithm  time_stream  \n",
              "0  personalize-recommendation    79.643175  \n",
              "4  personalize-recommendation    77.930803  \n",
              "5  personalize-recommendation    79.930658  \n",
              "6  personalize-recommendation    86.461999  \n",
              "7  personalize-recommendation    71.018741  "
            ],
            "text/html": [
              "\n",
              "  <div id=\"df-b7e6db5d-e8fe-4f9f-b94f-cb62b8ecccea\" class=\"colab-df-container\">\n",
              "    <div>\n",
              "<style scoped>\n",
              "    .dataframe tbody tr th:only-of-type {\n",
              "        vertical-align: middle;\n",
              "    }\n",
              "\n",
              "    .dataframe tbody tr th {\n",
              "        vertical-align: top;\n",
              "    }\n",
              "\n",
              "    .dataframe thead th {\n",
              "        text-align: right;\n",
              "    }\n",
              "</style>\n",
              "<table border=\"1\" class=\"dataframe\">\n",
              "  <thead>\n",
              "    <tr style=\"text-align: right;\">\n",
              "      <th></th>\n",
              "      <th>no</th>\n",
              "      <th>user_id</th>\n",
              "      <th>register_time</th>\n",
              "      <th>register_country</th>\n",
              "      <th>group</th>\n",
              "      <th>type_algorithm</th>\n",
              "      <th>time_stream</th>\n",
              "    </tr>\n",
              "  </thead>\n",
              "  <tbody>\n",
              "    <tr>\n",
              "      <th>0</th>\n",
              "      <td>1</td>\n",
              "      <td>109437538</td>\n",
              "      <td>2020-05-20 01:11:07 UTC</td>\n",
              "      <td>United States</td>\n",
              "      <td>treatment</td>\n",
              "      <td>personalize-recommendation</td>\n",
              "      <td>79.643175</td>\n",
              "    </tr>\n",
              "    <tr>\n",
              "      <th>4</th>\n",
              "      <td>5</td>\n",
              "      <td>109442185</td>\n",
              "      <td>2020-03-24 05:23:22 UTC</td>\n",
              "      <td>United States</td>\n",
              "      <td>treatment</td>\n",
              "      <td>personalize-recommendation</td>\n",
              "      <td>77.930803</td>\n",
              "    </tr>\n",
              "    <tr>\n",
              "      <th>5</th>\n",
              "      <td>6</td>\n",
              "      <td>109440894</td>\n",
              "      <td>2020-03-24 05:23:22 UTC</td>\n",
              "      <td>United States</td>\n",
              "      <td>treatment</td>\n",
              "      <td>personalize-recommendation</td>\n",
              "      <td>79.930658</td>\n",
              "    </tr>\n",
              "    <tr>\n",
              "      <th>6</th>\n",
              "      <td>7</td>\n",
              "      <td>109441544</td>\n",
              "      <td>2020-03-24 05:23:22 UTC</td>\n",
              "      <td>United States</td>\n",
              "      <td>treatment</td>\n",
              "      <td>personalize-recommendation</td>\n",
              "      <td>86.461999</td>\n",
              "    </tr>\n",
              "    <tr>\n",
              "      <th>7</th>\n",
              "      <td>8</td>\n",
              "      <td>109441301</td>\n",
              "      <td>2019-10-18 20:59:57 UTC</td>\n",
              "      <td>United States</td>\n",
              "      <td>treatment</td>\n",
              "      <td>personalize-recommendation</td>\n",
              "      <td>71.018741</td>\n",
              "    </tr>\n",
              "  </tbody>\n",
              "</table>\n",
              "</div>\n",
              "    <div class=\"colab-df-buttons\">\n",
              "\n",
              "  <div class=\"colab-df-container\">\n",
              "    <button class=\"colab-df-convert\" onclick=\"convertToInteractive('df-b7e6db5d-e8fe-4f9f-b94f-cb62b8ecccea')\"\n",
              "            title=\"Convert this dataframe to an interactive table.\"\n",
              "            style=\"display:none;\">\n",
              "\n",
              "  <svg xmlns=\"http://www.w3.org/2000/svg\" height=\"24px\" viewBox=\"0 -960 960 960\">\n",
              "    <path d=\"M120-120v-720h720v720H120Zm60-500h600v-160H180v160Zm220 220h160v-160H400v160Zm0 220h160v-160H400v160ZM180-400h160v-160H180v160Zm440 0h160v-160H620v160ZM180-180h160v-160H180v160Zm440 0h160v-160H620v160Z\"/>\n",
              "  </svg>\n",
              "    </button>\n",
              "\n",
              "  <style>\n",
              "    .colab-df-container {\n",
              "      display:flex;\n",
              "      gap: 12px;\n",
              "    }\n",
              "\n",
              "    .colab-df-convert {\n",
              "      background-color: #E8F0FE;\n",
              "      border: none;\n",
              "      border-radius: 50%;\n",
              "      cursor: pointer;\n",
              "      display: none;\n",
              "      fill: #1967D2;\n",
              "      height: 32px;\n",
              "      padding: 0 0 0 0;\n",
              "      width: 32px;\n",
              "    }\n",
              "\n",
              "    .colab-df-convert:hover {\n",
              "      background-color: #E2EBFA;\n",
              "      box-shadow: 0px 1px 2px rgba(60, 64, 67, 0.3), 0px 1px 3px 1px rgba(60, 64, 67, 0.15);\n",
              "      fill: #174EA6;\n",
              "    }\n",
              "\n",
              "    .colab-df-buttons div {\n",
              "      margin-bottom: 4px;\n",
              "    }\n",
              "\n",
              "    [theme=dark] .colab-df-convert {\n",
              "      background-color: #3B4455;\n",
              "      fill: #D2E3FC;\n",
              "    }\n",
              "\n",
              "    [theme=dark] .colab-df-convert:hover {\n",
              "      background-color: #434B5C;\n",
              "      box-shadow: 0px 1px 3px 1px rgba(0, 0, 0, 0.15);\n",
              "      filter: drop-shadow(0px 1px 2px rgba(0, 0, 0, 0.3));\n",
              "      fill: #FFFFFF;\n",
              "    }\n",
              "  </style>\n",
              "\n",
              "    <script>\n",
              "      const buttonEl =\n",
              "        document.querySelector('#df-b7e6db5d-e8fe-4f9f-b94f-cb62b8ecccea button.colab-df-convert');\n",
              "      buttonEl.style.display =\n",
              "        google.colab.kernel.accessAllowed ? 'block' : 'none';\n",
              "\n",
              "      async function convertToInteractive(key) {\n",
              "        const element = document.querySelector('#df-b7e6db5d-e8fe-4f9f-b94f-cb62b8ecccea');\n",
              "        const dataTable =\n",
              "          await google.colab.kernel.invokeFunction('convertToInteractive',\n",
              "                                                    [key], {});\n",
              "        if (!dataTable) return;\n",
              "\n",
              "        const docLinkHtml = 'Like what you see? Visit the ' +\n",
              "          '<a target=\"_blank\" href=https://colab.research.google.com/notebooks/data_table.ipynb>data table notebook</a>'\n",
              "          + ' to learn more about interactive tables.';\n",
              "        element.innerHTML = '';\n",
              "        dataTable['output_type'] = 'display_data';\n",
              "        await google.colab.output.renderOutput(dataTable, element);\n",
              "        const docLink = document.createElement('div');\n",
              "        docLink.innerHTML = docLinkHtml;\n",
              "        element.appendChild(docLink);\n",
              "      }\n",
              "    </script>\n",
              "  </div>\n",
              "\n",
              "\n",
              "    <div id=\"df-4e143b18-7dc5-4a82-a426-174c41cce704\">\n",
              "      <button class=\"colab-df-quickchart\" onclick=\"quickchart('df-4e143b18-7dc5-4a82-a426-174c41cce704')\"\n",
              "                title=\"Suggest charts\"\n",
              "                style=\"display:none;\">\n",
              "\n",
              "<svg xmlns=\"http://www.w3.org/2000/svg\" height=\"24px\"viewBox=\"0 0 24 24\"\n",
              "     width=\"24px\">\n",
              "    <g>\n",
              "        <path d=\"M19 3H5c-1.1 0-2 .9-2 2v14c0 1.1.9 2 2 2h14c1.1 0 2-.9 2-2V5c0-1.1-.9-2-2-2zM9 17H7v-7h2v7zm4 0h-2V7h2v10zm4 0h-2v-4h2v4z\"/>\n",
              "    </g>\n",
              "</svg>\n",
              "      </button>\n",
              "\n",
              "<style>\n",
              "  .colab-df-quickchart {\n",
              "      --bg-color: #E8F0FE;\n",
              "      --fill-color: #1967D2;\n",
              "      --hover-bg-color: #E2EBFA;\n",
              "      --hover-fill-color: #174EA6;\n",
              "      --disabled-fill-color: #AAA;\n",
              "      --disabled-bg-color: #DDD;\n",
              "  }\n",
              "\n",
              "  [theme=dark] .colab-df-quickchart {\n",
              "      --bg-color: #3B4455;\n",
              "      --fill-color: #D2E3FC;\n",
              "      --hover-bg-color: #434B5C;\n",
              "      --hover-fill-color: #FFFFFF;\n",
              "      --disabled-bg-color: #3B4455;\n",
              "      --disabled-fill-color: #666;\n",
              "  }\n",
              "\n",
              "  .colab-df-quickchart {\n",
              "    background-color: var(--bg-color);\n",
              "    border: none;\n",
              "    border-radius: 50%;\n",
              "    cursor: pointer;\n",
              "    display: none;\n",
              "    fill: var(--fill-color);\n",
              "    height: 32px;\n",
              "    padding: 0;\n",
              "    width: 32px;\n",
              "  }\n",
              "\n",
              "  .colab-df-quickchart:hover {\n",
              "    background-color: var(--hover-bg-color);\n",
              "    box-shadow: 0 1px 2px rgba(60, 64, 67, 0.3), 0 1px 3px 1px rgba(60, 64, 67, 0.15);\n",
              "    fill: var(--button-hover-fill-color);\n",
              "  }\n",
              "\n",
              "  .colab-df-quickchart-complete:disabled,\n",
              "  .colab-df-quickchart-complete:disabled:hover {\n",
              "    background-color: var(--disabled-bg-color);\n",
              "    fill: var(--disabled-fill-color);\n",
              "    box-shadow: none;\n",
              "  }\n",
              "\n",
              "  .colab-df-spinner {\n",
              "    border: 2px solid var(--fill-color);\n",
              "    border-color: transparent;\n",
              "    border-bottom-color: var(--fill-color);\n",
              "    animation:\n",
              "      spin 1s steps(1) infinite;\n",
              "  }\n",
              "\n",
              "  @keyframes spin {\n",
              "    0% {\n",
              "      border-color: transparent;\n",
              "      border-bottom-color: var(--fill-color);\n",
              "      border-left-color: var(--fill-color);\n",
              "    }\n",
              "    20% {\n",
              "      border-color: transparent;\n",
              "      border-left-color: var(--fill-color);\n",
              "      border-top-color: var(--fill-color);\n",
              "    }\n",
              "    30% {\n",
              "      border-color: transparent;\n",
              "      border-left-color: var(--fill-color);\n",
              "      border-top-color: var(--fill-color);\n",
              "      border-right-color: var(--fill-color);\n",
              "    }\n",
              "    40% {\n",
              "      border-color: transparent;\n",
              "      border-right-color: var(--fill-color);\n",
              "      border-top-color: var(--fill-color);\n",
              "    }\n",
              "    60% {\n",
              "      border-color: transparent;\n",
              "      border-right-color: var(--fill-color);\n",
              "    }\n",
              "    80% {\n",
              "      border-color: transparent;\n",
              "      border-right-color: var(--fill-color);\n",
              "      border-bottom-color: var(--fill-color);\n",
              "    }\n",
              "    90% {\n",
              "      border-color: transparent;\n",
              "      border-bottom-color: var(--fill-color);\n",
              "    }\n",
              "  }\n",
              "</style>\n",
              "\n",
              "      <script>\n",
              "        async function quickchart(key) {\n",
              "          const quickchartButtonEl =\n",
              "            document.querySelector('#' + key + ' button');\n",
              "          quickchartButtonEl.disabled = true;  // To prevent multiple clicks.\n",
              "          quickchartButtonEl.classList.add('colab-df-spinner');\n",
              "          try {\n",
              "            const charts = await google.colab.kernel.invokeFunction(\n",
              "                'suggestCharts', [key], {});\n",
              "          } catch (error) {\n",
              "            console.error('Error during call to suggestCharts:', error);\n",
              "          }\n",
              "          quickchartButtonEl.classList.remove('colab-df-spinner');\n",
              "          quickchartButtonEl.classList.add('colab-df-quickchart-complete');\n",
              "        }\n",
              "        (() => {\n",
              "          let quickchartButtonEl =\n",
              "            document.querySelector('#df-4e143b18-7dc5-4a82-a426-174c41cce704 button');\n",
              "          quickchartButtonEl.style.display =\n",
              "            google.colab.kernel.accessAllowed ? 'block' : 'none';\n",
              "        })();\n",
              "      </script>\n",
              "    </div>\n",
              "\n",
              "    </div>\n",
              "  </div>\n"
            ],
            "application/vnd.google.colaboratory.intrinsic+json": {
              "type": "dataframe",
              "variable_name": "data_treatment",
              "summary": "{\n  \"name\": \"data_treatment\",\n  \"rows\": 1569,\n  \"fields\": [\n    {\n      \"column\": \"no\",\n      \"properties\": {\n        \"dtype\": \"number\",\n        \"std\": 913,\n        \"min\": 1,\n        \"max\": 3148,\n        \"num_unique_values\": 1569,\n        \"samples\": [\n          2817,\n          1980,\n          858\n        ],\n        \"semantic_type\": \"\",\n        \"description\": \"\"\n      }\n    },\n    {\n      \"column\": \"user_id\",\n      \"properties\": {\n        \"dtype\": \"number\",\n        \"std\": 34158,\n        \"min\": 109321143,\n        \"max\": 109442735,\n        \"num_unique_values\": 1569,\n        \"samples\": [\n          109414661,\n          109429422,\n          109324497\n        ],\n        \"semantic_type\": \"\",\n        \"description\": \"\"\n      }\n    },\n    {\n      \"column\": \"register_time\",\n      \"properties\": {\n        \"dtype\": \"object\",\n        \"num_unique_values\": 688,\n        \"samples\": [\n          \"2020-04-21 04:28:43 UTC\",\n          \"2020-06-20 01:23:37 UTC\",\n          \"2020-04-21 21:19:37 UTC\"\n        ],\n        \"semantic_type\": \"\",\n        \"description\": \"\"\n      }\n    },\n    {\n      \"column\": \"register_country\",\n      \"properties\": {\n        \"dtype\": \"category\",\n        \"num_unique_values\": 1,\n        \"samples\": [\n          \"United States\"\n        ],\n        \"semantic_type\": \"\",\n        \"description\": \"\"\n      }\n    },\n    {\n      \"column\": \"group\",\n      \"properties\": {\n        \"dtype\": \"category\",\n        \"num_unique_values\": 1,\n        \"samples\": [\n          \"treatment\"\n        ],\n        \"semantic_type\": \"\",\n        \"description\": \"\"\n      }\n    },\n    {\n      \"column\": \"type_algorithm\",\n      \"properties\": {\n        \"dtype\": \"category\",\n        \"num_unique_values\": 1,\n        \"samples\": [\n          \"personalize-recommendation\"\n        ],\n        \"semantic_type\": \"\",\n        \"description\": \"\"\n      }\n    },\n    {\n      \"column\": \"time_stream\",\n      \"properties\": {\n        \"dtype\": \"number\",\n        \"std\": 3.845164394788665,\n        \"min\": 64.14231233,\n        \"max\": 94.06247314,\n        \"num_unique_values\": 1569,\n        \"samples\": [\n          76.26752161\n        ],\n        \"semantic_type\": \"\",\n        \"description\": \"\"\n      }\n    }\n  ]\n}"
            }
          },
          "metadata": {},
          "execution_count": 14
        }
      ]
    },
    {
      "cell_type": "code",
      "source": [
        "# n user in in control group\n",
        "n_control = data_control.shape[0]\n",
        "\n",
        "n_control"
      ],
      "metadata": {
        "id": "vzvCbIg5CUzS",
        "colab": {
          "base_uri": "https://localhost:8080/"
        },
        "outputId": "90f427c2-5f51-4372-cb1e-e12f759dc66c"
      },
      "execution_count": 15,
      "outputs": [
        {
          "output_type": "execute_result",
          "data": {
            "text/plain": [
              "1569"
            ]
          },
          "metadata": {},
          "execution_count": 15
        }
      ]
    },
    {
      "cell_type": "code",
      "source": [
        "# n user n treatment group\n",
        "n_treatment = data_treatment.shape[0]\n",
        "\n",
        "n_treatment"
      ],
      "metadata": {
        "id": "nKUlxUYSCVlb",
        "colab": {
          "base_uri": "https://localhost:8080/"
        },
        "outputId": "86e0f3de-4e22-41ac-86cf-5f71366abf1d"
      },
      "execution_count": 16,
      "outputs": [
        {
          "output_type": "execute_result",
          "data": {
            "text/plain": [
              "1569"
            ]
          },
          "metadata": {},
          "execution_count": 16
        }
      ]
    },
    {
      "cell_type": "code",
      "source": [
        "# average time stream each group\n",
        "data.groupby('group')['time_stream'].mean()"
      ],
      "metadata": {
        "id": "nQ3NonRICW1F",
        "colab": {
          "base_uri": "https://localhost:8080/",
          "height": 178
        },
        "outputId": "c8cf2977-1ba8-4964-a216-c6d298d91597"
      },
      "execution_count": 17,
      "outputs": [
        {
          "output_type": "execute_result",
          "data": {
            "text/plain": [
              "group\n",
              "control      69.763342\n",
              "treatment    80.006694\n",
              "Name: time_stream, dtype: float64"
            ],
            "text/html": [
              "<div>\n",
              "<style scoped>\n",
              "    .dataframe tbody tr th:only-of-type {\n",
              "        vertical-align: middle;\n",
              "    }\n",
              "\n",
              "    .dataframe tbody tr th {\n",
              "        vertical-align: top;\n",
              "    }\n",
              "\n",
              "    .dataframe thead th {\n",
              "        text-align: right;\n",
              "    }\n",
              "</style>\n",
              "<table border=\"1\" class=\"dataframe\">\n",
              "  <thead>\n",
              "    <tr style=\"text-align: right;\">\n",
              "      <th></th>\n",
              "      <th>time_stream</th>\n",
              "    </tr>\n",
              "    <tr>\n",
              "      <th>group</th>\n",
              "      <th></th>\n",
              "    </tr>\n",
              "  </thead>\n",
              "  <tbody>\n",
              "    <tr>\n",
              "      <th>control</th>\n",
              "      <td>69.763342</td>\n",
              "    </tr>\n",
              "    <tr>\n",
              "      <th>treatment</th>\n",
              "      <td>80.006694</td>\n",
              "    </tr>\n",
              "  </tbody>\n",
              "</table>\n",
              "</div><br><label><b>dtype:</b> float64</label>"
            ]
          },
          "metadata": {},
          "execution_count": 17
        }
      ]
    },
    {
      "cell_type": "code",
      "source": [
        "# Visualize Boxplot\n",
        "\n",
        "import seaborn as sns\n",
        "\n",
        "sns.boxplot(x='group', y='time_stream', data=data)"
      ],
      "metadata": {
        "id": "Kd7z7eFYCYIu",
        "colab": {
          "base_uri": "https://localhost:8080/",
          "height": 466
        },
        "outputId": "3e567e9d-2b1c-4f0a-ee9c-34a3346acfdd"
      },
      "execution_count": 18,
      "outputs": [
        {
          "output_type": "execute_result",
          "data": {
            "text/plain": [
              "<Axes: xlabel='group', ylabel='time_stream'>"
            ]
          },
          "metadata": {},
          "execution_count": 18
        },
        {
          "output_type": "display_data",
          "data": {
            "text/plain": [
              "<Figure size 640x480 with 1 Axes>"
            ],
            "image/png": "[encoded data removed]"
          },
          "metadata": {}
        }
      ]
    },
    {
      "cell_type": "code",
      "source": [
        "# Histogram viz\n",
        "\n",
        "import matplotlib.pyplot as plt\n",
        "\n",
        "# define time_stream values by group\n",
        "treat = data.loc[data['group'] == 'treatment', 'time_stream']\n",
        "con = data.loc[data['group'] == 'control', 'time_stream']\n",
        "\n",
        "# add three histograms to one plot\n",
        "plt.hist(treat, alpha=0.5, label='treatment', bins=30)\n",
        "plt.hist(con, alpha=0.5, label='control', bins=30)\n",
        "\n",
        "# add plot title and axis labels\n",
        "plt.xlabel('time stream')\n",
        "plt.ylabel('Frequency')\n",
        "\n",
        "#a dd legend\n",
        "plt.legend()\n",
        "\n",
        "# display plot\n",
        "plt.show()"
      ],
      "metadata": {
        "id": "N-8glpbkCZIk",
        "colab": {
          "base_uri": "https://localhost:8080/",
          "height": 449
        },
        "outputId": "20b0fdcd-8931-4753-d3ad-c3329e6b2479"
      },
      "execution_count": 19,
      "outputs": [
        {
          "output_type": "display_data",
          "data": {
            "text/plain": [
              "<Figure size 640x480 with 1 Axes>"
            ],
            "image/png": "[encoded data removed]"
          },
          "metadata": {}
        }
      ]
    },
    {
      "cell_type": "markdown",
      "source": [
        "### 2. Hypothesis Testing"
      ],
      "metadata": {
        "id": "h0oMBjqHCbJv"
      }
    },
    {
      "cell_type": "markdown",
      "source": [
        "#### Define Null hypothesis ($H_0$) and alternative hypothesis ($H_1$)"
      ],
      "metadata": {
        "id": "8NRVkO-RCdOi"
      }
    },
    {
      "cell_type": "markdown",
      "source": [
        "- We want to prove: **Average-rata time stream** **New (treatment)** recsys algorithm **More** than existing recsys ** (control)**\n",
        "- Misal,\n",
        "  - $\\mu_1$ is average time stream **treatment**\n",
        "  - $\\mu_2$ is average time stream **control**"
      ],
      "metadata": {
        "id": "i2uF7QqtCeOR"
      }
    },
    {
      "cell_type": "markdown",
      "source": [
        "- Then we can define Null hypothesis ($H_0$) and Alternative hypothesis ($H_1$)\n",
        "\n",
        "    $$H_0 : \\mu_1 = \\mu_2$$\n",
        "    $$H_1 : \\mu_1 > \\mu_2$$\n",
        "\n",
        "- Set siginificance level (alpha)\n",
        " - Significance level = 0.05"
      ],
      "metadata": {
        "id": "lFyzm-0RCfLx"
      }
    },
    {
      "cell_type": "code",
      "source": [
        "# Calculate variant each group\n",
        "np.var(data_control['time_stream']), np.var(data_treatment['time_stream'])"
      ],
      "metadata": {
        "id": "Zgu_3_RJCgOJ",
        "colab": {
          "base_uri": "https://localhost:8080/"
        },
        "outputId": "4affd810-b58c-4f6d-d9e8-18e421a1a9b7"
      },
      "execution_count": 20,
      "outputs": [
        {
          "output_type": "execute_result",
          "data": {
            "text/plain": [
              "(100.19343372959342, 14.775865839124505)"
            ]
          },
          "metadata": {},
          "execution_count": 20
        }
      ]
    },
    {
      "cell_type": "code",
      "source": [
        "# define F-test function\n",
        "import scipy\n",
        "\n",
        "def f_test(x, y):\n",
        "    # 1. Set Significant Level\n",
        "    alpha=0.05\n",
        "\n",
        "    # Transform data to np array\n",
        "    x = np.array(x)\n",
        "    y = np.array(y)\n",
        "\n",
        "    # calculate F test statistics\n",
        "    f = np.var(x, ddof=1) / np.var(y, ddof=1)\n",
        "\n",
        "    # Define degree of freedom\n",
        "    dfn = x.size-1  # numerator\n",
        "    dfd = y.size-1  # denominator\n",
        "\n",
        "    # Calculate p-value & f_crit of F test statistics\n",
        "    p = 1-scipy.stats.f.cdf(f, dfn, dfd)\n",
        "    f_crit = scipy.stats.f.ppf(1-alpha,dfn,dfd)\n",
        "\n",
        "    # Print results\n",
        "    print(f\"f_statistic value : {f:.3f}\")\n",
        "    print(f\"f_critical value : {f_crit:.3f}\")\n",
        "    print(f\"P-value : {p:.3f}\")\n",
        "\n",
        "#perform F-test\n",
        "f_test(data_control['time_stream'], data_treatment['time_stream'])"
      ],
      "metadata": {
        "id": "oa4hKQhjChMI",
        "colab": {
          "base_uri": "https://localhost:8080/"
        },
        "outputId": "de0a2410-7686-47d2-ff72-5a564b99df00"
      },
      "execution_count": 21,
      "outputs": [
        {
          "output_type": "stream",
          "name": "stdout",
          "text": [
            "f_statistic value : 6.781\n",
            "f_critical value : 1.087\n",
            "P-value : 0.000\n"
          ]
        }
      ]
    },
    {
      "cell_type": "code",
      "source": [
        "from scipy import stats\n",
        "result = stats.ttest_ind(a = data_treatment['time_stream'],\n",
        "                         b = data_control['time_stream'],\n",
        "                         equal_var=False,\n",
        "                         alternative = \"greater\")"
      ],
      "metadata": {
        "id": "VDxyHwdNCiQJ"
      },
      "execution_count": 22,
      "outputs": []
    },
    {
      "cell_type": "code",
      "source": [
        "# show pvalue\n",
        "p_value = result.pvalue\n",
        "p_value"
      ],
      "metadata": {
        "id": "4wBKuaX4CjR9",
        "colab": {
          "base_uri": "https://localhost:8080/"
        },
        "outputId": "cf5e343d-2eae-4444-c4fa-398e8db893a0"
      },
      "execution_count": 23,
      "outputs": [
        {
          "output_type": "execute_result",
          "data": {
            "text/plain": [
              "np.float64(1.582015062342901e-237)"
            ]
          },
          "metadata": {},
          "execution_count": 23
        }
      ]
    },
    {
      "cell_type": "code",
      "source": [
        "# show t-statistics\n",
        "t_stats=result.statistic\n",
        "t_stats"
      ],
      "metadata": {
        "id": "dbInrneRCkO1",
        "colab": {
          "base_uri": "https://localhost:8080/"
        },
        "outputId": "3f23767a-b7c6-4d9f-a994-cabcea05e62c"
      },
      "execution_count": 24,
      "outputs": [
        {
          "output_type": "execute_result",
          "data": {
            "text/plain": [
              "np.float64(37.828941267278665)"
            ]
          },
          "metadata": {},
          "execution_count": 24
        }
      ]
    },
    {
      "cell_type": "code",
      "source": [
        "# Comparison of t-statistics with critical values\n",
        "# We have to calculate the t-critical first\n",
        "\n",
        "alpha = 0.05\n",
        "df = len(data_treatment['time_stream'])+len(data_control['time_stream'])-2  #df=n1+n2-2\n",
        "\n",
        "t_critical = stats.t.ppf(1 - alpha, df)\n",
        "print(f\"t-Critical : {t_critical:.3f}\")"
      ],
      "metadata": {
        "id": "pPYZJLEfClJ6",
        "colab": {
          "base_uri": "https://localhost:8080/"
        },
        "outputId": "39e048ce-6b54-46ce-f284-56543793b4ec"
      },
      "execution_count": 25,
      "outputs": [
        {
          "output_type": "stream",
          "name": "stdout",
          "text": [
            "t-Critical : 1.645\n"
          ]
        }
      ]
    },
    {
      "cell_type": "code",
      "source": [
        "# Make decisions from t-stats and t-crit\n",
        "if t_stats > t_critical:\n",
        "  print(\"Decision : Reject Null Hypothesis\")\n",
        "else:\n",
        "  print(\"Decision : Fail to Reject Null Hypothesis\")"
      ],
      "metadata": {
        "id": "RgW8Zj9XCnEx",
        "colab": {
          "base_uri": "https://localhost:8080/"
        },
        "outputId": "c44e9773-a5b1-4c21-f043-d5c1a998d27f"
      },
      "execution_count": 26,
      "outputs": [
        {
          "output_type": "stream",
          "name": "stdout",
          "text": [
            "Decision : Reject Null Hypothesis\n"
          ]
        }
      ]
    },
    {
      "cell_type": "code",
      "source": [
        "# Compare P-Value with alpha.\n",
        "if(p_value <  alpha):\n",
        "  print(\"Decision : Reject Null Hypothesis\")\n",
        "else:\n",
        "  print(\"Decision : Fail to Reject Null Hypothesis\")"
      ],
      "metadata": {
        "id": "5DVW6_j7CoCF",
        "colab": {
          "base_uri": "https://localhost:8080/"
        },
        "outputId": "5f0d0ec4-9152-4d1b-ed3a-32906bb8f7d6"
      },
      "execution_count": 27,
      "outputs": [
        {
          "output_type": "stream",
          "name": "stdout",
          "text": [
            "Decision : Reject Null Hypothesis\n"
          ]
        }
      ]
    },
    {
      "cell_type": "markdown",
      "source": [
        "#### Conclusion"
      ],
      "metadata": {
        "id": "bI4li0a_CqKk"
      }
    },
    {
      "cell_type": "markdown",
      "source": [
        "With a CL of 95%, the results obtained from the decision to test the hypothesis using both p-value and t-statistics give the same result, namely reject $H_0$. So, we can conclude that with a confidence level of 95%, there is sufficient evidence that the average time stream of users who received the new recommendation system algorithm is higher than the old one."
      ],
      "metadata": {
        "id": "uzj1Kq1yCrQV"
      }
    },
    {
      "cell_type": "markdown",
      "source": [
        "- We can calculate the difference between the average user time streams in the two groups using the confidence level.\n",
        "- Confidence level can be used to estimate (estimate) in what interval (range) what is the average difference (difference) between the two groups in the population"
      ],
      "metadata": {
        "id": "x4LaKe5WCs6z"
      }
    },
    {
      "cell_type": "code",
      "source": [
        "from statsmodels.stats.weightstats import DescrStatsW, CompareMeans\n",
        "\n",
        "cm = CompareMeans(d1 = DescrStatsW(data=data_treatment['time_stream']),\n",
        "                  d2 = DescrStatsW(data=data_control['time_stream']))\n",
        "\n",
        "lower, upper = cm.tconfint_diff(alpha=0.05,\n",
        "                                alternative='two-sided',\n",
        "                                usevar='unequal')\n",
        "\n",
        "print(\"Confidence Interval\", \":\", \"[\", lower, upper, \"]\")"
      ],
      "metadata": {
        "id": "ql0DRp7HEFTB",
        "colab": {
          "base_uri": "https://localhost:8080/"
        },
        "outputId": "e1de5600-b097-4e66-c996-5b59c93a70da"
      },
      "execution_count": 28,
      "outputs": [
        {
          "output_type": "stream",
          "name": "stdout",
          "text": [
            "Confidence Interval : [ 9.712313315114612 10.774390841341729 ]\n"
          ]
        }
      ]
    },
    {
      "cell_type": "markdown",
      "source": [
        "## **Study Case 2 : Marketplace Voucher Code**\n",
        "___\n"
      ],
      "metadata": {
        "id": "ozTORkZJEIwT"
      }
    },
    {
      "cell_type": "markdown",
      "source": [
        "* Bukatoko is a new marketplace.\n",
        "* To increase revenue and the number of items purchased, the BukaToko team proposed a new initiative in the marketplace application.\n",
        "* The new initiative is adding **Voucher Code** on the payment page.\n",
        "* However, before the initiative was launched, the BukaToko team conducted an experiment to determine whether the initiative was feasible.\n",
        "* Below is the display of the current payment page (control) and the appearance of the payment page with the addition of a code voucher (treatment)."
      ],
      "metadata": {
        "id": "-xUFD5ToEKnK"
      }
    },
    {
      "cell_type": "markdown",
      "source": [
        "<img src=\"https://sekolahdata-assets.s3.ap-southeast-1.amazonaws.com/notebook-images/marketing-analytics-1/live_12_1.png\">"
      ],
      "metadata": {
        "id": "fqZISspmENBq"
      }
    },
    {
      "cell_type": "markdown",
      "source": [
        "#### Import Data\n"
      ],
      "metadata": {
        "id": "lVlyhl2oEP4E"
      }
    },
    {
      "cell_type": "code",
      "source": [
        "import pandas as pd\n",
        "import numpy as np\n",
        "\n",
        "# path\n",
        "filename = \"coupon_code.csv\"\n",
        "\n",
        "# Import data\n",
        "data2 = pd.read_csv(filename)\n",
        "\n",
        "# Display 5 top rows of the data\n",
        "data2.head()"
      ],
      "metadata": {
        "id": "l08tVwPdERPE",
        "colab": {
          "base_uri": "https://localhost:8080/",
          "height": 206
        },
        "outputId": "2b7faa6b-64b6-43f8-b0a2-df3e6471ad93"
      },
      "execution_count": 30,
      "outputs": [
        {
          "output_type": "execute_result",
          "data": {
            "text/plain": [
              "       user_id group  purchase\n",
              "0  user-688937     A         0\n",
              "1  user-884319     B         1\n",
              "2  user-801251     B         1\n",
              "3  user-821916     B         0\n",
              "4  user-817695     B         0"
            ],
            "text/html": [
              "\n",
              "  <div id=\"df-e234bf1e-d210-4247-8c62-4a0802565f96\" class=\"colab-df-container\">\n",
              "    <div>\n",
              "<style scoped>\n",
              "    .dataframe tbody tr th:only-of-type {\n",
              "        vertical-align: middle;\n",
              "    }\n",
              "\n",
              "    .dataframe tbody tr th {\n",
              "        vertical-align: top;\n",
              "    }\n",
              "\n",
              "    .dataframe thead th {\n",
              "        text-align: right;\n",
              "    }\n",
              "</style>\n",
              "<table border=\"1\" class=\"dataframe\">\n",
              "  <thead>\n",
              "    <tr style=\"text-align: right;\">\n",
              "      <th></th>\n",
              "      <th>user_id</th>\n",
              "      <th>group</th>\n",
              "      <th>purchase</th>\n",
              "    </tr>\n",
              "  </thead>\n",
              "  <tbody>\n",
              "    <tr>\n",
              "      <th>0</th>\n",
              "      <td>user-688937</td>\n",
              "      <td>A</td>\n",
              "      <td>0</td>\n",
              "    </tr>\n",
              "    <tr>\n",
              "      <th>1</th>\n",
              "      <td>user-884319</td>\n",
              "      <td>B</td>\n",
              "      <td>1</td>\n",
              "    </tr>\n",
              "    <tr>\n",
              "      <th>2</th>\n",
              "      <td>user-801251</td>\n",
              "      <td>B</td>\n",
              "      <td>1</td>\n",
              "    </tr>\n",
              "    <tr>\n",
              "      <th>3</th>\n",
              "      <td>user-821916</td>\n",
              "      <td>B</td>\n",
              "      <td>0</td>\n",
              "    </tr>\n",
              "    <tr>\n",
              "      <th>4</th>\n",
              "      <td>user-817695</td>\n",
              "      <td>B</td>\n",
              "      <td>0</td>\n",
              "    </tr>\n",
              "  </tbody>\n",
              "</table>\n",
              "</div>\n",
              "    <div class=\"colab-df-buttons\">\n",
              "\n",
              "  <div class=\"colab-df-container\">\n",
              "    <button class=\"colab-df-convert\" onclick=\"convertToInteractive('df-e234bf1e-d210-4247-8c62-4a0802565f96')\"\n",
              "            title=\"Convert this dataframe to an interactive table.\"\n",
              "            style=\"display:none;\">\n",
              "\n",
              "  <svg xmlns=\"http://www.w3.org/2000/svg\" height=\"24px\" viewBox=\"0 -960 960 960\">\n",
              "    <path d=\"M120-120v-720h720v720H120Zm60-500h600v-160H180v160Zm220 220h160v-160H400v160Zm0 220h160v-160H400v160ZM180-400h160v-160H180v160Zm440 0h160v-160H620v160ZM180-180h160v-160H180v160Zm440 0h160v-160H620v160Z\"/>\n",
              "  </svg>\n",
              "    </button>\n",
              "\n",
              "  <style>\n",
              "    .colab-df-container {\n",
              "      display:flex;\n",
              "      gap: 12px;\n",
              "    }\n",
              "\n",
              "    .colab-df-convert {\n",
              "      background-color: #E8F0FE;\n",
              "      border: none;\n",
              "      border-radius: 50%;\n",
              "      cursor: pointer;\n",
              "      display: none;\n",
              "      fill: #1967D2;\n",
              "      height: 32px;\n",
              "      padding: 0 0 0 0;\n",
              "      width: 32px;\n",
              "    }\n",
              "\n",
              "    .colab-df-convert:hover {\n",
              "      background-color: #E2EBFA;\n",
              "      box-shadow: 0px 1px 2px rgba(60, 64, 67, 0.3), 0px 1px 3px 1px rgba(60, 64, 67, 0.15);\n",
              "      fill: #174EA6;\n",
              "    }\n",
              "\n",
              "    .colab-df-buttons div {\n",
              "      margin-bottom: 4px;\n",
              "    }\n",
              "\n",
              "    [theme=dark] .colab-df-convert {\n",
              "      background-color: #3B4455;\n",
              "      fill: #D2E3FC;\n",
              "    }\n",
              "\n",
              "    [theme=dark] .colab-df-convert:hover {\n",
              "      background-color: #434B5C;\n",
              "      box-shadow: 0px 1px 3px 1px rgba(0, 0, 0, 0.15);\n",
              "      filter: drop-shadow(0px 1px 2px rgba(0, 0, 0, 0.3));\n",
              "      fill: #FFFFFF;\n",
              "    }\n",
              "  </style>\n",
              "\n",
              "    <script>\n",
              "      const buttonEl =\n",
              "        document.querySelector('#df-e234bf1e-d210-4247-8c62-4a0802565f96 button.colab-df-convert');\n",
              "      buttonEl.style.display =\n",
              "        google.colab.kernel.accessAllowed ? 'block' : 'none';\n",
              "\n",
              "      async function convertToInteractive(key) {\n",
              "        const element = document.querySelector('#df-e234bf1e-d210-4247-8c62-4a0802565f96');\n",
              "        const dataTable =\n",
              "          await google.colab.kernel.invokeFunction('convertToInteractive',\n",
              "                                                    [key], {});\n",
              "        if (!dataTable) return;\n",
              "\n",
              "        const docLinkHtml = 'Like what you see? Visit the ' +\n",
              "          '<a target=\"_blank\" href=https://colab.research.google.com/notebooks/data_table.ipynb>data table notebook</a>'\n",
              "          + ' to learn more about interactive tables.';\n",
              "        element.innerHTML = '';\n",
              "        dataTable['output_type'] = 'display_data';\n",
              "        await google.colab.output.renderOutput(dataTable, element);\n",
              "        const docLink = document.createElement('div');\n",
              "        docLink.innerHTML = docLinkHtml;\n",
              "        element.appendChild(docLink);\n",
              "      }\n",
              "    </script>\n",
              "  </div>\n",
              "\n",
              "\n",
              "    <div id=\"df-272ff74a-7fa7-4f0c-baf7-ff80d35f597a\">\n",
              "      <button class=\"colab-df-quickchart\" onclick=\"quickchart('df-272ff74a-7fa7-4f0c-baf7-ff80d35f597a')\"\n",
              "                title=\"Suggest charts\"\n",
              "                style=\"display:none;\">\n",
              "\n",
              "<svg xmlns=\"http://www.w3.org/2000/svg\" height=\"24px\"viewBox=\"0 0 24 24\"\n",
              "     width=\"24px\">\n",
              "    <g>\n",
              "        <path d=\"M19 3H5c-1.1 0-2 .9-2 2v14c0 1.1.9 2 2 2h14c1.1 0 2-.9 2-2V5c0-1.1-.9-2-2-2zM9 17H7v-7h2v7zm4 0h-2V7h2v10zm4 0h-2v-4h2v4z\"/>\n",
              "    </g>\n",
              "</svg>\n",
              "      </button>\n",
              "\n",
              "<style>\n",
              "  .colab-df-quickchart {\n",
              "      --bg-color: #E8F0FE;\n",
              "      --fill-color: #1967D2;\n",
              "      --hover-bg-color: #E2EBFA;\n",
              "      --hover-fill-color: #174EA6;\n",
              "      --disabled-fill-color: #AAA;\n",
              "      --disabled-bg-color: #DDD;\n",
              "  }\n",
              "\n",
              "  [theme=dark] .colab-df-quickchart {\n",
              "      --bg-color: #3B4455;\n",
              "      --fill-color: #D2E3FC;\n",
              "      --hover-bg-color: #434B5C;\n",
              "      --hover-fill-color: #FFFFFF;\n",
              "      --disabled-bg-color: #3B4455;\n",
              "      --disabled-fill-color: #666;\n",
              "  }\n",
              "\n",
              "  .colab-df-quickchart {\n",
              "    background-color: var(--bg-color);\n",
              "    border: none;\n",
              "    border-radius: 50%;\n",
              "    cursor: pointer;\n",
              "    display: none;\n",
              "    fill: var(--fill-color);\n",
              "    height: 32px;\n",
              "    padding: 0;\n",
              "    width: 32px;\n",
              "  }\n",
              "\n",
              "  .colab-df-quickchart:hover {\n",
              "    background-color: var(--hover-bg-color);\n",
              "    box-shadow: 0 1px 2px rgba(60, 64, 67, 0.3), 0 1px 3px 1px rgba(60, 64, 67, 0.15);\n",
              "    fill: var(--button-hover-fill-color);\n",
              "  }\n",
              "\n",
              "  .colab-df-quickchart-complete:disabled,\n",
              "  .colab-df-quickchart-complete:disabled:hover {\n",
              "    background-color: var(--disabled-bg-color);\n",
              "    fill: var(--disabled-fill-color);\n",
              "    box-shadow: none;\n",
              "  }\n",
              "\n",
              "  .colab-df-spinner {\n",
              "    border: 2px solid var(--fill-color);\n",
              "    border-color: transparent;\n",
              "    border-bottom-color: var(--fill-color);\n",
              "    animation:\n",
              "      spin 1s steps(1) infinite;\n",
              "  }\n",
              "\n",
              "  @keyframes spin {\n",
              "    0% {\n",
              "      border-color: transparent;\n",
              "      border-bottom-color: var(--fill-color);\n",
              "      border-left-color: var(--fill-color);\n",
              "    }\n",
              "    20% {\n",
              "      border-color: transparent;\n",
              "      border-left-color: var(--fill-color);\n",
              "      border-top-color: var(--fill-color);\n",
              "    }\n",
              "    30% {\n",
              "      border-color: transparent;\n",
              "      border-left-color: var(--fill-color);\n",
              "      border-top-color: var(--fill-color);\n",
              "      border-right-color: var(--fill-color);\n",
              "    }\n",
              "    40% {\n",
              "      border-color: transparent;\n",
              "      border-right-color: var(--fill-color);\n",
              "      border-top-color: var(--fill-color);\n",
              "    }\n",
              "    60% {\n",
              "      border-color: transparent;\n",
              "      border-right-color: var(--fill-color);\n",
              "    }\n",
              "    80% {\n",
              "      border-color: transparent;\n",
              "      border-right-color: var(--fill-color);\n",
              "      border-bottom-color: var(--fill-color);\n",
              "    }\n",
              "    90% {\n",
              "      border-color: transparent;\n",
              "      border-bottom-color: var(--fill-color);\n",
              "    }\n",
              "  }\n",
              "</style>\n",
              "\n",
              "      <script>\n",
              "        async function quickchart(key) {\n",
              "          const quickchartButtonEl =\n",
              "            document.querySelector('#' + key + ' button');\n",
              "          quickchartButtonEl.disabled = true;  // To prevent multiple clicks.\n",
              "          quickchartButtonEl.classList.add('colab-df-spinner');\n",
              "          try {\n",
              "            const charts = await google.colab.kernel.invokeFunction(\n",
              "                'suggestCharts', [key], {});\n",
              "          } catch (error) {\n",
              "            console.error('Error during call to suggestCharts:', error);\n",
              "          }\n",
              "          quickchartButtonEl.classList.remove('colab-df-spinner');\n",
              "          quickchartButtonEl.classList.add('colab-df-quickchart-complete');\n",
              "        }\n",
              "        (() => {\n",
              "          let quickchartButtonEl =\n",
              "            document.querySelector('#df-272ff74a-7fa7-4f0c-baf7-ff80d35f597a button');\n",
              "          quickchartButtonEl.style.display =\n",
              "            google.colab.kernel.accessAllowed ? 'block' : 'none';\n",
              "        })();\n",
              "      </script>\n",
              "    </div>\n",
              "\n",
              "    </div>\n",
              "  </div>\n"
            ],
            "application/vnd.google.colaboratory.intrinsic+json": {
              "type": "dataframe",
              "variable_name": "data2",
              "summary": "{\n  \"name\": \"data2\",\n  \"rows\": 1802,\n  \"fields\": [\n    {\n      \"column\": \"user_id\",\n      \"properties\": {\n        \"dtype\": \"string\",\n        \"num_unique_values\": 1802,\n        \"samples\": [\n          \"user-858119\",\n          \"user-697492\",\n          \"user-728235\"\n        ],\n        \"semantic_type\": \"\",\n        \"description\": \"\"\n      }\n    },\n    {\n      \"column\": \"group\",\n      \"properties\": {\n        \"dtype\": \"category\",\n        \"num_unique_values\": 2,\n        \"samples\": [\n          \"B\",\n          \"A\"\n        ],\n        \"semantic_type\": \"\",\n        \"description\": \"\"\n      }\n    },\n    {\n      \"column\": \"purchase\",\n      \"properties\": {\n        \"dtype\": \"number\",\n        \"std\": 0,\n        \"min\": 0,\n        \"max\": 1,\n        \"num_unique_values\": 2,\n        \"samples\": [\n          1,\n          0\n        ],\n        \"semantic_type\": \"\",\n        \"description\": \"\"\n      }\n    }\n  ]\n}"
            }
          },
          "metadata": {},
          "execution_count": 30
        }
      ]
    },
    {
      "cell_type": "code",
      "source": [
        "# Get data shape\n",
        "data2.shape"
      ],
      "metadata": {
        "id": "XryQJ2LCESk5",
        "colab": {
          "base_uri": "https://localhost:8080/"
        },
        "outputId": "a353dd9f-d7c5-44b2-ec85-9c514e4001db"
      },
      "execution_count": 31,
      "outputs": [
        {
          "output_type": "execute_result",
          "data": {
            "text/plain": [
              "(1802, 3)"
            ]
          },
          "metadata": {},
          "execution_count": 31
        }
      ]
    },
    {
      "cell_type": "code",
      "source": [
        "# Overview data\n",
        "data2.info()"
      ],
      "metadata": {
        "id": "Sr4r7X1YETp8",
        "colab": {
          "base_uri": "https://localhost:8080/"
        },
        "outputId": "3a40379d-79e9-4e0d-d4e0-40195891ca33"
      },
      "execution_count": 32,
      "outputs": [
        {
          "output_type": "stream",
          "name": "stdout",
          "text": [
            "<class 'pandas.core.frame.DataFrame'>\n",
            "RangeIndex: 1802 entries, 0 to 1801\n",
            "Data columns (total 3 columns):\n",
            " #   Column    Non-Null Count  Dtype \n",
            "---  ------    --------------  ----- \n",
            " 0   user_id   1802 non-null   object\n",
            " 1   group     1800 non-null   object\n",
            " 2   purchase  1802 non-null   int64 \n",
            "dtypes: int64(1), object(2)\n",
            "memory usage: 42.4+ KB\n"
          ]
        }
      ]
    },
    {
      "cell_type": "code",
      "source": [
        "# duplicate check\n",
        "data2.duplicated(['user_id']).sum()"
      ],
      "metadata": {
        "id": "t19p9niUEUr4",
        "colab": {
          "base_uri": "https://localhost:8080/"
        },
        "outputId": "3d63f7bb-d896-42e0-953b-9e4826e12601"
      },
      "execution_count": 33,
      "outputs": [
        {
          "output_type": "execute_result",
          "data": {
            "text/plain": [
              "np.int64(0)"
            ]
          },
          "metadata": {},
          "execution_count": 33
        }
      ]
    },
    {
      "cell_type": "code",
      "source": [
        "# Checking missing value\n",
        "data2.isna().sum()"
      ],
      "metadata": {
        "id": "4AmSWOAjEVp6",
        "colab": {
          "base_uri": "https://localhost:8080/",
          "height": 178
        },
        "outputId": "5e95e8e7-afe5-48f3-8cbc-85644de2bf7f"
      },
      "execution_count": 34,
      "outputs": [
        {
          "output_type": "execute_result",
          "data": {
            "text/plain": [
              "user_id     0\n",
              "group       2\n",
              "purchase    0\n",
              "dtype: int64"
            ],
            "text/html": [
              "<div>\n",
              "<style scoped>\n",
              "    .dataframe tbody tr th:only-of-type {\n",
              "        vertical-align: middle;\n",
              "    }\n",
              "\n",
              "    .dataframe tbody tr th {\n",
              "        vertical-align: top;\n",
              "    }\n",
              "\n",
              "    .dataframe thead th {\n",
              "        text-align: right;\n",
              "    }\n",
              "</style>\n",
              "<table border=\"1\" class=\"dataframe\">\n",
              "  <thead>\n",
              "    <tr style=\"text-align: right;\">\n",
              "      <th></th>\n",
              "      <th>0</th>\n",
              "    </tr>\n",
              "  </thead>\n",
              "  <tbody>\n",
              "    <tr>\n",
              "      <th>user_id</th>\n",
              "      <td>0</td>\n",
              "    </tr>\n",
              "    <tr>\n",
              "      <th>group</th>\n",
              "      <td>2</td>\n",
              "    </tr>\n",
              "    <tr>\n",
              "      <th>purchase</th>\n",
              "      <td>0</td>\n",
              "    </tr>\n",
              "  </tbody>\n",
              "</table>\n",
              "</div><br><label><b>dtype:</b> int64</label>"
            ]
          },
          "metadata": {},
          "execution_count": 34
        }
      ]
    },
    {
      "cell_type": "code",
      "source": [
        "# drop missing value\n",
        "data2=data2.dropna()"
      ],
      "metadata": {
        "id": "IRktR1sREWqd"
      },
      "execution_count": 35,
      "outputs": []
    },
    {
      "cell_type": "code",
      "source": [
        "# Checking missing value\n",
        "data2.isna().sum()"
      ],
      "metadata": {
        "id": "hWHj3uiAEXoH",
        "colab": {
          "base_uri": "https://localhost:8080/",
          "height": 178
        },
        "outputId": "5465cdd0-45a2-4c1e-9074-59e0f725ce0f"
      },
      "execution_count": 36,
      "outputs": [
        {
          "output_type": "execute_result",
          "data": {
            "text/plain": [
              "user_id     0\n",
              "group       0\n",
              "purchase    0\n",
              "dtype: int64"
            ],
            "text/html": [
              "<div>\n",
              "<style scoped>\n",
              "    .dataframe tbody tr th:only-of-type {\n",
              "        vertical-align: middle;\n",
              "    }\n",
              "\n",
              "    .dataframe tbody tr th {\n",
              "        vertical-align: top;\n",
              "    }\n",
              "\n",
              "    .dataframe thead th {\n",
              "        text-align: right;\n",
              "    }\n",
              "</style>\n",
              "<table border=\"1\" class=\"dataframe\">\n",
              "  <thead>\n",
              "    <tr style=\"text-align: right;\">\n",
              "      <th></th>\n",
              "      <th>0</th>\n",
              "    </tr>\n",
              "  </thead>\n",
              "  <tbody>\n",
              "    <tr>\n",
              "      <th>user_id</th>\n",
              "      <td>0</td>\n",
              "    </tr>\n",
              "    <tr>\n",
              "      <th>group</th>\n",
              "      <td>0</td>\n",
              "    </tr>\n",
              "    <tr>\n",
              "      <th>purchase</th>\n",
              "      <td>0</td>\n",
              "    </tr>\n",
              "  </tbody>\n",
              "</table>\n",
              "</div><br><label><b>dtype:</b> int64</label>"
            ]
          },
          "metadata": {},
          "execution_count": 36
        }
      ]
    },
    {
      "cell_type": "code",
      "source": [
        "# Get data shape\n",
        "data2.shape"
      ],
      "metadata": {
        "id": "60iligOKEYtY",
        "colab": {
          "base_uri": "https://localhost:8080/"
        },
        "outputId": "6aea3940-c22b-46ac-ccff-66b384359943"
      },
      "execution_count": 37,
      "outputs": [
        {
          "output_type": "execute_result",
          "data": {
            "text/plain": [
              "(1800, 3)"
            ]
          },
          "metadata": {},
          "execution_count": 37
        }
      ]
    },
    {
      "cell_type": "markdown",
      "source": [
        "#### Calculste Purchase Rate"
      ],
      "metadata": {
        "id": "BzDMz7c0EbV5"
      }
    },
    {
      "cell_type": "markdown",
      "source": [
        "Since we want to know the purchase rate, fill in the following table!\n",
        "\n",
        "<center>\n",
        "\n",
        "|Group|#User|#Purchase|Purchase Rate\n",
        "|:--|:--:|:--:|:--:|\n",
        "|Control|-|-|-|\n",
        "|Treatment|-|-|-|\n",
        "\n",
        "</center>"
      ],
      "metadata": {
        "id": "pQpMpNtHEedZ"
      }
    },
    {
      "cell_type": "code",
      "source": [
        "# create data control (A)\n",
        "data2_A = data2[data2[\"group\"] == \"A\"]\n",
        "\n",
        "data2_A.head()"
      ],
      "metadata": {
        "id": "MDacd69OEf2D",
        "colab": {
          "base_uri": "https://localhost:8080/",
          "height": 206
        },
        "outputId": "084d232c-32ae-4b3a-8050-c07458df0d82"
      },
      "execution_count": 38,
      "outputs": [
        {
          "output_type": "execute_result",
          "data": {
            "text/plain": [
              "        user_id group  purchase\n",
              "0   user-688937     A         0\n",
              "9   user-667989     A         1\n",
              "16  user-733230     A         0\n",
              "17  user-930977     A         0\n",
              "18  user-672815     A         0"
            ],
            "text/html": [
              "\n",
              "  <div id=\"df-d4fda4bc-a7f6-4e89-a14c-1f52c0e6fbe9\" class=\"colab-df-container\">\n",
              "    <div>\n",
              "<style scoped>\n",
              "    .dataframe tbody tr th:only-of-type {\n",
              "        vertical-align: middle;\n",
              "    }\n",
              "\n",
              "    .dataframe tbody tr th {\n",
              "        vertical-align: top;\n",
              "    }\n",
              "\n",
              "    .dataframe thead th {\n",
              "        text-align: right;\n",
              "    }\n",
              "</style>\n",
              "<table border=\"1\" class=\"dataframe\">\n",
              "  <thead>\n",
              "    <tr style=\"text-align: right;\">\n",
              "      <th></th>\n",
              "      <th>user_id</th>\n",
              "      <th>group</th>\n",
              "      <th>purchase</th>\n",
              "    </tr>\n",
              "  </thead>\n",
              "  <tbody>\n",
              "    <tr>\n",
              "      <th>0</th>\n",
              "      <td>user-688937</td>\n",
              "      <td>A</td>\n",
              "      <td>0</td>\n",
              "    </tr>\n",
              "    <tr>\n",
              "      <th>9</th>\n",
              "      <td>user-667989</td>\n",
              "      <td>A</td>\n",
              "      <td>1</td>\n",
              "    </tr>\n",
              "    <tr>\n",
              "      <th>16</th>\n",
              "      <td>user-733230</td>\n",
              "      <td>A</td>\n",
              "      <td>0</td>\n",
              "    </tr>\n",
              "    <tr>\n",
              "      <th>17</th>\n",
              "      <td>user-930977</td>\n",
              "      <td>A</td>\n",
              "      <td>0</td>\n",
              "    </tr>\n",
              "    <tr>\n",
              "      <th>18</th>\n",
              "      <td>user-672815</td>\n",
              "      <td>A</td>\n",
              "      <td>0</td>\n",
              "    </tr>\n",
              "  </tbody>\n",
              "</table>\n",
              "</div>\n",
              "    <div class=\"colab-df-buttons\">\n",
              "\n",
              "  <div class=\"colab-df-container\">\n",
              "    <button class=\"colab-df-convert\" onclick=\"convertToInteractive('df-d4fda4bc-a7f6-4e89-a14c-1f52c0e6fbe9')\"\n",
              "            title=\"Convert this dataframe to an interactive table.\"\n",
              "            style=\"display:none;\">\n",
              "\n",
              "  <svg xmlns=\"http://www.w3.org/2000/svg\" height=\"24px\" viewBox=\"0 -960 960 960\">\n",
              "    <path d=\"M120-120v-720h720v720H120Zm60-500h600v-160H180v160Zm220 220h160v-160H400v160Zm0 220h160v-160H400v160ZM180-400h160v-160H180v160Zm440 0h160v-160H620v160ZM180-180h160v-160H180v160Zm440 0h160v-160H620v160Z\"/>\n",
              "  </svg>\n",
              "    </button>\n",
              "\n",
              "  <style>\n",
              "    .colab-df-container {\n",
              "      display:flex;\n",
              "      gap: 12px;\n",
              "    }\n",
              "\n",
              "    .colab-df-convert {\n",
              "      background-color: #E8F0FE;\n",
              "      border: none;\n",
              "      border-radius: 50%;\n",
              "      cursor: pointer;\n",
              "      display: none;\n",
              "      fill: #1967D2;\n",
              "      height: 32px;\n",
              "      padding: 0 0 0 0;\n",
              "      width: 32px;\n",
              "    }\n",
              "\n",
              "    .colab-df-convert:hover {\n",
              "      background-color: #E2EBFA;\n",
              "      box-shadow: 0px 1px 2px rgba(60, 64, 67, 0.3), 0px 1px 3px 1px rgba(60, 64, 67, 0.15);\n",
              "      fill: #174EA6;\n",
              "    }\n",
              "\n",
              "    .colab-df-buttons div {\n",
              "      margin-bottom: 4px;\n",
              "    }\n",
              "\n",
              "    [theme=dark] .colab-df-convert {\n",
              "      background-color: #3B4455;\n",
              "      fill: #D2E3FC;\n",
              "    }\n",
              "\n",
              "    [theme=dark] .colab-df-convert:hover {\n",
              "      background-color: #434B5C;\n",
              "      box-shadow: 0px 1px 3px 1px rgba(0, 0, 0, 0.15);\n",
              "      filter: drop-shadow(0px 1px 2px rgba(0, 0, 0, 0.3));\n",
              "      fill: #FFFFFF;\n",
              "    }\n",
              "  </style>\n",
              "\n",
              "    <script>\n",
              "      const buttonEl =\n",
              "        document.querySelector('#df-d4fda4bc-a7f6-4e89-a14c-1f52c0e6fbe9 button.colab-df-convert');\n",
              "      buttonEl.style.display =\n",
              "        google.colab.kernel.accessAllowed ? 'block' : 'none';\n",
              "\n",
              "      async function convertToInteractive(key) {\n",
              "        const element = document.querySelector('#df-d4fda4bc-a7f6-4e89-a14c-1f52c0e6fbe9');\n",
              "        const dataTable =\n",
              "          await google.colab.kernel.invokeFunction('convertToInteractive',\n",
              "                                                    [key], {});\n",
              "        if (!dataTable) return;\n",
              "\n",
              "        const docLinkHtml = 'Like what you see? Visit the ' +\n",
              "          '<a target=\"_blank\" href=https://colab.research.google.com/notebooks/data_table.ipynb>data table notebook</a>'\n",
              "          + ' to learn more about interactive tables.';\n",
              "        element.innerHTML = '';\n",
              "        dataTable['output_type'] = 'display_data';\n",
              "        await google.colab.output.renderOutput(dataTable, element);\n",
              "        const docLink = document.createElement('div');\n",
              "        docLink.innerHTML = docLinkHtml;\n",
              "        element.appendChild(docLink);\n",
              "      }\n",
              "    </script>\n",
              "  </div>\n",
              "\n",
              "\n",
              "    <div id=\"df-000eacbd-d7d0-40ee-bbe5-6d70dba67bb9\">\n",
              "      <button class=\"colab-df-quickchart\" onclick=\"quickchart('df-000eacbd-d7d0-40ee-bbe5-6d70dba67bb9')\"\n",
              "                title=\"Suggest charts\"\n",
              "                style=\"display:none;\">\n",
              "\n",
              "<svg xmlns=\"http://www.w3.org/2000/svg\" height=\"24px\"viewBox=\"0 0 24 24\"\n",
              "     width=\"24px\">\n",
              "    <g>\n",
              "        <path d=\"M19 3H5c-1.1 0-2 .9-2 2v14c0 1.1.9 2 2 2h14c1.1 0 2-.9 2-2V5c0-1.1-.9-2-2-2zM9 17H7v-7h2v7zm4 0h-2V7h2v10zm4 0h-2v-4h2v4z\"/>\n",
              "    </g>\n",
              "</svg>\n",
              "      </button>\n",
              "\n",
              "<style>\n",
              "  .colab-df-quickchart {\n",
              "      --bg-color: #E8F0FE;\n",
              "      --fill-color: #1967D2;\n",
              "      --hover-bg-color: #E2EBFA;\n",
              "      --hover-fill-color: #174EA6;\n",
              "      --disabled-fill-color: #AAA;\n",
              "      --disabled-bg-color: #DDD;\n",
              "  }\n",
              "\n",
              "  [theme=dark] .colab-df-quickchart {\n",
              "      --bg-color: #3B4455;\n",
              "      --fill-color: #D2E3FC;\n",
              "      --hover-bg-color: #434B5C;\n",
              "      --hover-fill-color: #FFFFFF;\n",
              "      --disabled-bg-color: #3B4455;\n",
              "      --disabled-fill-color: #666;\n",
              "  }\n",
              "\n",
              "  .colab-df-quickchart {\n",
              "    background-color: var(--bg-color);\n",
              "    border: none;\n",
              "    border-radius: 50%;\n",
              "    cursor: pointer;\n",
              "    display: none;\n",
              "    fill: var(--fill-color);\n",
              "    height: 32px;\n",
              "    padding: 0;\n",
              "    width: 32px;\n",
              "  }\n",
              "\n",
              "  .colab-df-quickchart:hover {\n",
              "    background-color: var(--hover-bg-color);\n",
              "    box-shadow: 0 1px 2px rgba(60, 64, 67, 0.3), 0 1px 3px 1px rgba(60, 64, 67, 0.15);\n",
              "    fill: var(--button-hover-fill-color);\n",
              "  }\n",
              "\n",
              "  .colab-df-quickchart-complete:disabled,\n",
              "  .colab-df-quickchart-complete:disabled:hover {\n",
              "    background-color: var(--disabled-bg-color);\n",
              "    fill: var(--disabled-fill-color);\n",
              "    box-shadow: none;\n",
              "  }\n",
              "\n",
              "  .colab-df-spinner {\n",
              "    border: 2px solid var(--fill-color);\n",
              "    border-color: transparent;\n",
              "    border-bottom-color: var(--fill-color);\n",
              "    animation:\n",
              "      spin 1s steps(1) infinite;\n",
              "  }\n",
              "\n",
              "  @keyframes spin {\n",
              "    0% {\n",
              "      border-color: transparent;\n",
              "      border-bottom-color: var(--fill-color);\n",
              "      border-left-color: var(--fill-color);\n",
              "    }\n",
              "    20% {\n",
              "      border-color: transparent;\n",
              "      border-left-color: var(--fill-color);\n",
              "      border-top-color: var(--fill-color);\n",
              "    }\n",
              "    30% {\n",
              "      border-color: transparent;\n",
              "      border-left-color: var(--fill-color);\n",
              "      border-top-color: var(--fill-color);\n",
              "      border-right-color: var(--fill-color);\n",
              "    }\n",
              "    40% {\n",
              "      border-color: transparent;\n",
              "      border-right-color: var(--fill-color);\n",
              "      border-top-color: var(--fill-color);\n",
              "    }\n",
              "    60% {\n",
              "      border-color: transparent;\n",
              "      border-right-color: var(--fill-color);\n",
              "    }\n",
              "    80% {\n",
              "      border-color: transparent;\n",
              "      border-right-color: var(--fill-color);\n",
              "      border-bottom-color: var(--fill-color);\n",
              "    }\n",
              "    90% {\n",
              "      border-color: transparent;\n",
              "      border-bottom-color: var(--fill-color);\n",
              "    }\n",
              "  }\n",
              "</style>\n",
              "\n",
              "      <script>\n",
              "        async function quickchart(key) {\n",
              "          const quickchartButtonEl =\n",
              "            document.querySelector('#' + key + ' button');\n",
              "          quickchartButtonEl.disabled = true;  // To prevent multiple clicks.\n",
              "          quickchartButtonEl.classList.add('colab-df-spinner');\n",
              "          try {\n",
              "            const charts = await google.colab.kernel.invokeFunction(\n",
              "                'suggestCharts', [key], {});\n",
              "          } catch (error) {\n",
              "            console.error('Error during call to suggestCharts:', error);\n",
              "          }\n",
              "          quickchartButtonEl.classList.remove('colab-df-spinner');\n",
              "          quickchartButtonEl.classList.add('colab-df-quickchart-complete');\n",
              "        }\n",
              "        (() => {\n",
              "          let quickchartButtonEl =\n",
              "            document.querySelector('#df-000eacbd-d7d0-40ee-bbe5-6d70dba67bb9 button');\n",
              "          quickchartButtonEl.style.display =\n",
              "            google.colab.kernel.accessAllowed ? 'block' : 'none';\n",
              "        })();\n",
              "      </script>\n",
              "    </div>\n",
              "\n",
              "    </div>\n",
              "  </div>\n"
            ],
            "application/vnd.google.colaboratory.intrinsic+json": {
              "type": "dataframe",
              "variable_name": "data2_A",
              "summary": "{\n  \"name\": \"data2_A\",\n  \"rows\": 900,\n  \"fields\": [\n    {\n      \"column\": \"user_id\",\n      \"properties\": {\n        \"dtype\": \"string\",\n        \"num_unique_values\": 900,\n        \"samples\": [\n          \"user-739414\",\n          \"user-867032\",\n          \"user-875124\"\n        ],\n        \"semantic_type\": \"\",\n        \"description\": \"\"\n      }\n    },\n    {\n      \"column\": \"group\",\n      \"properties\": {\n        \"dtype\": \"category\",\n        \"num_unique_values\": 1,\n        \"samples\": [\n          \"A\"\n        ],\n        \"semantic_type\": \"\",\n        \"description\": \"\"\n      }\n    },\n    {\n      \"column\": \"purchase\",\n      \"properties\": {\n        \"dtype\": \"number\",\n        \"std\": 0,\n        \"min\": 0,\n        \"max\": 1,\n        \"num_unique_values\": 2,\n        \"samples\": [\n          1\n        ],\n        \"semantic_type\": \"\",\n        \"description\": \"\"\n      }\n    }\n  ]\n}"
            }
          },
          "metadata": {},
          "execution_count": 38
        }
      ]
    },
    {
      "cell_type": "code",
      "source": [
        "# Create data treatment (B)\n",
        "data2_B = data2[data2[\"group\"] == \"B\"]\n",
        "\n",
        "data2_B.head()"
      ],
      "metadata": {
        "id": "H0jaXLryEgzj",
        "colab": {
          "base_uri": "https://localhost:8080/",
          "height": 206
        },
        "outputId": "46a970dd-37d3-4edf-b605-d24638763c50"
      },
      "execution_count": 39,
      "outputs": [
        {
          "output_type": "execute_result",
          "data": {
            "text/plain": [
              "       user_id group  purchase\n",
              "1  user-884319     B         1\n",
              "2  user-801251     B         1\n",
              "3  user-821916     B         0\n",
              "4  user-817695     B         0\n",
              "5  user-908149     B         0"
            ],
            "text/html": [
              "\n",
              "  <div id=\"df-43907410-4e4e-4af8-9735-6512a555c0ef\" class=\"colab-df-container\">\n",
              "    <div>\n",
              "<style scoped>\n",
              "    .dataframe tbody tr th:only-of-type {\n",
              "        vertical-align: middle;\n",
              "    }\n",
              "\n",
              "    .dataframe tbody tr th {\n",
              "        vertical-align: top;\n",
              "    }\n",
              "\n",
              "    .dataframe thead th {\n",
              "        text-align: right;\n",
              "    }\n",
              "</style>\n",
              "<table border=\"1\" class=\"dataframe\">\n",
              "  <thead>\n",
              "    <tr style=\"text-align: right;\">\n",
              "      <th></th>\n",
              "      <th>user_id</th>\n",
              "      <th>group</th>\n",
              "      <th>purchase</th>\n",
              "    </tr>\n",
              "  </thead>\n",
              "  <tbody>\n",
              "    <tr>\n",
              "      <th>1</th>\n",
              "      <td>user-884319</td>\n",
              "      <td>B</td>\n",
              "      <td>1</td>\n",
              "    </tr>\n",
              "    <tr>\n",
              "      <th>2</th>\n",
              "      <td>user-801251</td>\n",
              "      <td>B</td>\n",
              "      <td>1</td>\n",
              "    </tr>\n",
              "    <tr>\n",
              "      <th>3</th>\n",
              "      <td>user-821916</td>\n",
              "      <td>B</td>\n",
              "      <td>0</td>\n",
              "    </tr>\n",
              "    <tr>\n",
              "      <th>4</th>\n",
              "      <td>user-817695</td>\n",
              "      <td>B</td>\n",
              "      <td>0</td>\n",
              "    </tr>\n",
              "    <tr>\n",
              "      <th>5</th>\n",
              "      <td>user-908149</td>\n",
              "      <td>B</td>\n",
              "      <td>0</td>\n",
              "    </tr>\n",
              "  </tbody>\n",
              "</table>\n",
              "</div>\n",
              "    <div class=\"colab-df-buttons\">\n",
              "\n",
              "  <div class=\"colab-df-container\">\n",
              "    <button class=\"colab-df-convert\" onclick=\"convertToInteractive('df-43907410-4e4e-4af8-9735-6512a555c0ef')\"\n",
              "            title=\"Convert this dataframe to an interactive table.\"\n",
              "            style=\"display:none;\">\n",
              "\n",
              "  <svg xmlns=\"http://www.w3.org/2000/svg\" height=\"24px\" viewBox=\"0 -960 960 960\">\n",
              "    <path d=\"M120-120v-720h720v720H120Zm60-500h600v-160H180v160Zm220 220h160v-160H400v160Zm0 220h160v-160H400v160ZM180-400h160v-160H180v160Zm440 0h160v-160H620v160ZM180-180h160v-160H180v160Zm440 0h160v-160H620v160Z\"/>\n",
              "  </svg>\n",
              "    </button>\n",
              "\n",
              "  <style>\n",
              "    .colab-df-container {\n",
              "      display:flex;\n",
              "      gap: 12px;\n",
              "    }\n",
              "\n",
              "    .colab-df-convert {\n",
              "      background-color: #E8F0FE;\n",
              "      border: none;\n",
              "      border-radius: 50%;\n",
              "      cursor: pointer;\n",
              "      display: none;\n",
              "      fill: #1967D2;\n",
              "      height: 32px;\n",
              "      padding: 0 0 0 0;\n",
              "      width: 32px;\n",
              "    }\n",
              "\n",
              "    .colab-df-convert:hover {\n",
              "      background-color: #E2EBFA;\n",
              "      box-shadow: 0px 1px 2px rgba(60, 64, 67, 0.3), 0px 1px 3px 1px rgba(60, 64, 67, 0.15);\n",
              "      fill: #174EA6;\n",
              "    }\n",
              "\n",
              "    .colab-df-buttons div {\n",
              "      margin-bottom: 4px;\n",
              "    }\n",
              "\n",
              "    [theme=dark] .colab-df-convert {\n",
              "      background-color: #3B4455;\n",
              "      fill: #D2E3FC;\n",
              "    }\n",
              "\n",
              "    [theme=dark] .colab-df-convert:hover {\n",
              "      background-color: #434B5C;\n",
              "      box-shadow: 0px 1px 3px 1px rgba(0, 0, 0, 0.15);\n",
              "      filter: drop-shadow(0px 1px 2px rgba(0, 0, 0, 0.3));\n",
              "      fill: #FFFFFF;\n",
              "    }\n",
              "  </style>\n",
              "\n",
              "    <script>\n",
              "      const buttonEl =\n",
              "        document.querySelector('#df-43907410-4e4e-4af8-9735-6512a555c0ef button.colab-df-convert');\n",
              "      buttonEl.style.display =\n",
              "        google.colab.kernel.accessAllowed ? 'block' : 'none';\n",
              "\n",
              "      async function convertToInteractive(key) {\n",
              "        const element = document.querySelector('#df-43907410-4e4e-4af8-9735-6512a555c0ef');\n",
              "        const dataTable =\n",
              "          await google.colab.kernel.invokeFunction('convertToInteractive',\n",
              "                                                    [key], {});\n",
              "        if (!dataTable) return;\n",
              "\n",
              "        const docLinkHtml = 'Like what you see? Visit the ' +\n",
              "          '<a target=\"_blank\" href=https://colab.research.google.com/notebooks/data_table.ipynb>data table notebook</a>'\n",
              "          + ' to learn more about interactive tables.';\n",
              "        element.innerHTML = '';\n",
              "        dataTable['output_type'] = 'display_data';\n",
              "        await google.colab.output.renderOutput(dataTable, element);\n",
              "        const docLink = document.createElement('div');\n",
              "        docLink.innerHTML = docLinkHtml;\n",
              "        element.appendChild(docLink);\n",
              "      }\n",
              "    </script>\n",
              "  </div>\n",
              "\n",
              "\n",
              "    <div id=\"df-bac36345-b140-44ff-9ea8-8901b56a5655\">\n",
              "      <button class=\"colab-df-quickchart\" onclick=\"quickchart('df-bac36345-b140-44ff-9ea8-8901b56a5655')\"\n",
              "                title=\"Suggest charts\"\n",
              "                style=\"display:none;\">\n",
              "\n",
              "<svg xmlns=\"http://www.w3.org/2000/svg\" height=\"24px\"viewBox=\"0 0 24 24\"\n",
              "     width=\"24px\">\n",
              "    <g>\n",
              "        <path d=\"M19 3H5c-1.1 0-2 .9-2 2v14c0 1.1.9 2 2 2h14c1.1 0 2-.9 2-2V5c0-1.1-.9-2-2-2zM9 17H7v-7h2v7zm4 0h-2V7h2v10zm4 0h-2v-4h2v4z\"/>\n",
              "    </g>\n",
              "</svg>\n",
              "      </button>\n",
              "\n",
              "<style>\n",
              "  .colab-df-quickchart {\n",
              "      --bg-color: #E8F0FE;\n",
              "      --fill-color: #1967D2;\n",
              "      --hover-bg-color: #E2EBFA;\n",
              "      --hover-fill-color: #174EA6;\n",
              "      --disabled-fill-color: #AAA;\n",
              "      --disabled-bg-color: #DDD;\n",
              "  }\n",
              "\n",
              "  [theme=dark] .colab-df-quickchart {\n",
              "      --bg-color: #3B4455;\n",
              "      --fill-color: #D2E3FC;\n",
              "      --hover-bg-color: #434B5C;\n",
              "      --hover-fill-color: #FFFFFF;\n",
              "      --disabled-bg-color: #3B4455;\n",
              "      --disabled-fill-color: #666;\n",
              "  }\n",
              "\n",
              "  .colab-df-quickchart {\n",
              "    background-color: var(--bg-color);\n",
              "    border: none;\n",
              "    border-radius: 50%;\n",
              "    cursor: pointer;\n",
              "    display: none;\n",
              "    fill: var(--fill-color);\n",
              "    height: 32px;\n",
              "    padding: 0;\n",
              "    width: 32px;\n",
              "  }\n",
              "\n",
              "  .colab-df-quickchart:hover {\n",
              "    background-color: var(--hover-bg-color);\n",
              "    box-shadow: 0 1px 2px rgba(60, 64, 67, 0.3), 0 1px 3px 1px rgba(60, 64, 67, 0.15);\n",
              "    fill: var(--button-hover-fill-color);\n",
              "  }\n",
              "\n",
              "  .colab-df-quickchart-complete:disabled,\n",
              "  .colab-df-quickchart-complete:disabled:hover {\n",
              "    background-color: var(--disabled-bg-color);\n",
              "    fill: var(--disabled-fill-color);\n",
              "    box-shadow: none;\n",
              "  }\n",
              "\n",
              "  .colab-df-spinner {\n",
              "    border: 2px solid var(--fill-color);\n",
              "    border-color: transparent;\n",
              "    border-bottom-color: var(--fill-color);\n",
              "    animation:\n",
              "      spin 1s steps(1) infinite;\n",
              "  }\n",
              "\n",
              "  @keyframes spin {\n",
              "    0% {\n",
              "      border-color: transparent;\n",
              "      border-bottom-color: var(--fill-color);\n",
              "      border-left-color: var(--fill-color);\n",
              "    }\n",
              "    20% {\n",
              "      border-color: transparent;\n",
              "      border-left-color: var(--fill-color);\n",
              "      border-top-color: var(--fill-color);\n",
              "    }\n",
              "    30% {\n",
              "      border-color: transparent;\n",
              "      border-left-color: var(--fill-color);\n",
              "      border-top-color: var(--fill-color);\n",
              "      border-right-color: var(--fill-color);\n",
              "    }\n",
              "    40% {\n",
              "      border-color: transparent;\n",
              "      border-right-color: var(--fill-color);\n",
              "      border-top-color: var(--fill-color);\n",
              "    }\n",
              "    60% {\n",
              "      border-color: transparent;\n",
              "      border-right-color: var(--fill-color);\n",
              "    }\n",
              "    80% {\n",
              "      border-color: transparent;\n",
              "      border-right-color: var(--fill-color);\n",
              "      border-bottom-color: var(--fill-color);\n",
              "    }\n",
              "    90% {\n",
              "      border-color: transparent;\n",
              "      border-bottom-color: var(--fill-color);\n",
              "    }\n",
              "  }\n",
              "</style>\n",
              "\n",
              "      <script>\n",
              "        async function quickchart(key) {\n",
              "          const quickchartButtonEl =\n",
              "            document.querySelector('#' + key + ' button');\n",
              "          quickchartButtonEl.disabled = true;  // To prevent multiple clicks.\n",
              "          quickchartButtonEl.classList.add('colab-df-spinner');\n",
              "          try {\n",
              "            const charts = await google.colab.kernel.invokeFunction(\n",
              "                'suggestCharts', [key], {});\n",
              "          } catch (error) {\n",
              "            console.error('Error during call to suggestCharts:', error);\n",
              "          }\n",
              "          quickchartButtonEl.classList.remove('colab-df-spinner');\n",
              "          quickchartButtonEl.classList.add('colab-df-quickchart-complete');\n",
              "        }\n",
              "        (() => {\n",
              "          let quickchartButtonEl =\n",
              "            document.querySelector('#df-bac36345-b140-44ff-9ea8-8901b56a5655 button');\n",
              "          quickchartButtonEl.style.display =\n",
              "            google.colab.kernel.accessAllowed ? 'block' : 'none';\n",
              "        })();\n",
              "      </script>\n",
              "    </div>\n",
              "\n",
              "    </div>\n",
              "  </div>\n"
            ],
            "application/vnd.google.colaboratory.intrinsic+json": {
              "type": "dataframe",
              "variable_name": "data2_B",
              "summary": "{\n  \"name\": \"data2_B\",\n  \"rows\": 900,\n  \"fields\": [\n    {\n      \"column\": \"user_id\",\n      \"properties\": {\n        \"dtype\": \"string\",\n        \"num_unique_values\": 900,\n        \"samples\": [\n          \"user-907159\",\n          \"user-767017\",\n          \"user-904789\"\n        ],\n        \"semantic_type\": \"\",\n        \"description\": \"\"\n      }\n    },\n    {\n      \"column\": \"group\",\n      \"properties\": {\n        \"dtype\": \"category\",\n        \"num_unique_values\": 1,\n        \"samples\": [\n          \"B\"\n        ],\n        \"semantic_type\": \"\",\n        \"description\": \"\"\n      }\n    },\n    {\n      \"column\": \"purchase\",\n      \"properties\": {\n        \"dtype\": \"number\",\n        \"std\": 0,\n        \"min\": 0,\n        \"max\": 1,\n        \"num_unique_values\": 2,\n        \"samples\": [\n          0\n        ],\n        \"semantic_type\": \"\",\n        \"description\": \"\"\n      }\n    }\n  ]\n}"
            }
          },
          "metadata": {},
          "execution_count": 39
        }
      ]
    },
    {
      "cell_type": "code",
      "source": [
        "# n user in control group\n",
        "n_A = data2_A.shape[0]\n",
        "\n",
        "n_A"
      ],
      "metadata": {
        "id": "c6P-fHOeEh1p",
        "colab": {
          "base_uri": "https://localhost:8080/"
        },
        "outputId": "bd43ff3b-6b7e-40eb-bec0-7e5dd1fbf11b"
      },
      "execution_count": 40,
      "outputs": [
        {
          "output_type": "execute_result",
          "data": {
            "text/plain": [
              "900"
            ]
          },
          "metadata": {},
          "execution_count": 40
        }
      ]
    },
    {
      "cell_type": "code",
      "source": [
        "# n user in treatment group\n",
        "n_B = data2_B.shape[0]\n",
        "\n",
        "n_B"
      ],
      "metadata": {
        "id": "MNF-38tSEi3Q",
        "colab": {
          "base_uri": "https://localhost:8080/"
        },
        "outputId": "9fd2c91f-4f49-40ae-d1a8-4d8fb527da1d"
      },
      "execution_count": 41,
      "outputs": [
        {
          "output_type": "execute_result",
          "data": {
            "text/plain": [
              "900"
            ]
          },
          "metadata": {},
          "execution_count": 41
        }
      ]
    },
    {
      "cell_type": "code",
      "source": [
        "# n user in control group\n",
        "n_purchaseA = data2_A['purchase'].sum()\n",
        "\n",
        "n_purchaseA"
      ],
      "metadata": {
        "id": "Goz1lIK9Ej9X",
        "colab": {
          "base_uri": "https://localhost:8080/"
        },
        "outputId": "3c59db2c-eb68-4362-d721-66ee49dd86fa"
      },
      "execution_count": 42,
      "outputs": [
        {
          "output_type": "execute_result",
          "data": {
            "text/plain": [
              "np.int64(182)"
            ]
          },
          "metadata": {},
          "execution_count": 42
        }
      ]
    },
    {
      "cell_type": "code",
      "source": [
        "# n user in treatment group\n",
        "n_purchaseB = data2_B['purchase'].sum()\n",
        "\n",
        "n_purchaseB"
      ],
      "metadata": {
        "id": "FNpldSkdEk9r",
        "colab": {
          "base_uri": "https://localhost:8080/"
        },
        "outputId": "343e3676-0164-4c19-93cb-d52f532cb474"
      },
      "execution_count": 43,
      "outputs": [
        {
          "output_type": "execute_result",
          "data": {
            "text/plain": [
              "np.int64(227)"
            ]
          },
          "metadata": {},
          "execution_count": 43
        }
      ]
    },
    {
      "cell_type": "code",
      "source": [
        "pr_A = n_purchaseA/n_A\n",
        "pr_B = n_purchaseB/n_B\n",
        "\n",
        "print(f\"purchase rate A : {pr_A:.3f}\")\n",
        "print(f\"purchase rate B : {pr_B:.3f}\")"
      ],
      "metadata": {
        "id": "1wRCl3mXEoan",
        "colab": {
          "base_uri": "https://localhost:8080/"
        },
        "outputId": "5094ad99-5511-4c2d-b911-6c2d4fe99025"
      },
      "execution_count": 44,
      "outputs": [
        {
          "output_type": "stream",
          "name": "stdout",
          "text": [
            "purchase rate A : 0.202\n",
            "purchase rate B : 0.252\n"
          ]
        }
      ]
    },
    {
      "cell_type": "code",
      "source": [
        "# Visualize\n",
        "import matplotlib.pyplot as plt\n",
        "fig, ax = plt.subplots(nrows=1, ncols=1, figsize=(10, 7))\n",
        "\n",
        "# Buat plot\n",
        "ax.bar(\"control\", pr_A, label=\"Control\")\n",
        "ax.bar(\"treatment\", pr_B, label=\"Treatment\")\n",
        "\n",
        "# Styling plot\n",
        "ax.set_ylabel(\"Purchase Rate\", fontsize=16)\n",
        "ax.set_xlabel(\"Group\", fontsize=16)\n",
        "ax.set_xticklabels(labels=[\"control\", \"treatment\"], fontsize=16)\n",
        "ax.legend(fontsize=16)\n",
        "plt.show()"
      ],
      "metadata": {
        "id": "m8rI_JEgEpR4",
        "colab": {
          "base_uri": "https://localhost:8080/",
          "height": 680
        },
        "outputId": "25ef8891-7cdf-4177-8757-4817354beea3"
      },
      "execution_count": 45,
      "outputs": [
        {
          "output_type": "stream",
          "name": "stderr",
          "text": [
            "<ipython-input-45-b758ae03e14d>:12: UserWarning: set_ticklabels() should only be used with a fixed number of ticks, i.e. after set_ticks() or using a FixedLocator.\n",
            "  ax.set_xticklabels(labels=[\"control\", \"treatment\"], fontsize=16)\n"
          ]
        },
        {
          "output_type": "display_data",
          "data": {
            "text/plain": [
              "<Figure size 1000x700 with 1 Axes>"
            ],
            "image/png": "[encoded data removed]"
          },
          "metadata": {}
        }
      ]
    },
    {
      "cell_type": "markdown",
      "source": [
        "### Hypothesis Testing"
      ],
      "metadata": {
        "id": "Vm0HB5VrEthD"
      }
    },
    {
      "cell_type": "markdown",
      "source": [
        "#### Define Null hypothesis ($H_0$) and alternative hypothesis ($H_1$)"
      ],
      "metadata": {
        "id": "EFmOFRzuEvBe"
      }
    },
    {
      "cell_type": "markdown",
      "source": [
        "- We want to prove: **purchase rate** or **proportion** of users who purchase **with a voucher code (treatment)** is **greater** than **purchase rate** or **proportion** of users those who purchase ** without a voucher code (control) **\n",
        "- For example,\n",
        "  - $p_1$ is **treatment** purchase rate\n",
        "  - $p_2$ is **control** purchase rate"
      ],
      "metadata": {
        "id": "PcIfqNwUEvza"
      }
    },
    {
      "cell_type": "markdown",
      "source": [
        "- So we can define Null hypothesis ($H_0$) and Alternative hypothesis ($H_1$)\n",
        "\n",
        "    $$H_0 : p_1 = p_2$$\n",
        "    $$H_1 : p_1 > p_2$$\n",
        "\n",
        "- Set siginificance level (alpha)\n",
        " - Significance level = 0.05"
      ],
      "metadata": {
        "id": "M2NzoObbExBr"
      }
    },
    {
      "cell_type": "markdown",
      "source": [
        "Then we can calculate the z-statistics and p-values using a function in the `statsmodels` library, namely `proportions_ztest` with the following steps:\n",
        "1. import library\n",
        "\n",
        "   - from statsmodels.stats.proportion import [proportions_ztest](https://www.statsmodels.org/dev/generated/statsmodels.stats.proportion.proportions_ztest.html)\n",
        "2. Create function\n",
        "\n",
        "  ```python\n",
        "z_stat, p_value = proportions_ztest(count = ...,\n",
        "                                        nobs = ...,\n",
        "                                        alternative = ...)\n",
        "  ```\n",
        "\n",
        "  - With\n",
        "    - `count` is the number of **successful** observations\n",
        "    - `nobs` n observation\n",
        "    - `alternative` depending on the alternative hypothesis. Can be filled with `two-sided`, `smaller`, or `larger`"
      ],
      "metadata": {
        "id": "i-rRBMhREylb"
      }
    },
    {
      "cell_type": "code",
      "source": [
        "# Create count purchase & total observation\n",
        "count_purchase = [n_purchaseB, n_purchaseA]\n",
        "count_observation = [n_B, n_A]"
      ],
      "metadata": {
        "id": "KzJo2O0eE0FG"
      },
      "execution_count": 46,
      "outputs": []
    },
    {
      "cell_type": "code",
      "source": [
        "# Create alternative\n",
        "alternative_option = \"larger\""
      ],
      "metadata": {
        "id": "II0Qjh4SE1YX"
      },
      "execution_count": 47,
      "outputs": []
    },
    {
      "cell_type": "code",
      "source": [
        "# import library\n",
        "from statsmodels.stats.proportion import proportions_ztest\n",
        "\n",
        "# Panggil fungsi\n",
        "z_stat, p_value = proportions_ztest(count = count_purchase,\n",
        "                                       nobs = count_observation,\n",
        "                                       alternative = alternative_option)\n",
        "\n",
        "print(f\"Z stats : {z_stat:.4f}\")\n",
        "print(f\"P-value : {p_value:.4f}\")"
      ],
      "metadata": {
        "id": "OTYXyrXXE2cS",
        "colab": {
          "base_uri": "https://localhost:8080/"
        },
        "outputId": "79264b20-8c2c-471e-f3c6-8e0d451729c6"
      },
      "execution_count": 48,
      "outputs": [
        {
          "output_type": "stream",
          "name": "stdout",
          "text": [
            "Z stats : 2.5312\n",
            "P-value : 0.0057\n"
          ]
        }
      ]
    },
    {
      "cell_type": "code",
      "source": [
        "from scipy import stats\n",
        "\n",
        "# critical value\n",
        "alpha= 0.05\n",
        "z_crit = stats.norm.ppf(1-alpha)\n",
        "\n",
        "print(f\"z critical value : {z_crit:.4f}\")"
      ],
      "metadata": {
        "id": "lO5a9KoqE4Tj",
        "colab": {
          "base_uri": "https://localhost:8080/"
        },
        "outputId": "ebacc739-bf4d-41e5-9291-7a4a90dde80e"
      },
      "execution_count": 49,
      "outputs": [
        {
          "output_type": "stream",
          "name": "stdout",
          "text": [
            "z critical value : 1.6449\n"
          ]
        }
      ]
    },
    {
      "cell_type": "code",
      "source": [
        "# Make decisions from z-stats and z-crit\n",
        "if z_stat > z_crit:\n",
        "  print(\"Decision : Reject Null Hypothesis\")\n",
        "else:\n",
        "  print(\"Decision : Fail to Reject Null Hypothesis\")"
      ],
      "metadata": {
        "id": "zKSjfjmSE5NT",
        "colab": {
          "base_uri": "https://localhost:8080/"
        },
        "outputId": "5a12fbd7-e08b-4af9-f482-a5336b1211c9"
      },
      "execution_count": 50,
      "outputs": [
        {
          "output_type": "stream",
          "name": "stdout",
          "text": [
            "Decision : Reject Null Hypothesis\n"
          ]
        }
      ]
    },
    {
      "cell_type": "code",
      "source": [
        "# Comparison of P-Value with alpha.\n",
        "if p_value<0.05:\n",
        "  print(\"Decision : Reject Null Hypothesis\")\n",
        "else:\n",
        "  print(\"Decision : Fail to Reject Null Hypothesis\")"
      ],
      "metadata": {
        "id": "CvFCcJ32E6M9",
        "colab": {
          "base_uri": "https://localhost:8080/"
        },
        "outputId": "852c41aa-d16d-4922-fa1f-63d7352155ba"
      },
      "execution_count": 51,
      "outputs": [
        {
          "output_type": "stream",
          "name": "stdout",
          "text": [
            "Decision : Reject Null Hypothesis\n"
          ]
        }
      ]
    },
    {
      "cell_type": "code",
      "source": [
        "fig = plt.subplots(nrows=1, ncols=1, figsize=(10, 7))\n",
        "\n",
        "# plot sample distribution\n",
        "x = np.arange(-4, 4, 0.001)\n",
        "plt.plot(x, stats.norm.pdf(x, 0, 1),\n",
        "         color='blue')\n",
        "\n",
        "# plot alpha region\n",
        "x_alpha = np.arange(z_crit,4, 0.01)\n",
        "y_alpha = stats.norm.pdf(x_alpha)\n",
        "plt.fill_between(x = x_alpha,\n",
        "                 y1 = y_alpha,\n",
        "                 facecolor = 'red',\n",
        "                 alpha = 0.35,\n",
        "                 label = 'alpha')\n",
        "\n",
        "# plot pvalue\n",
        "x_pvalue = np.arange(z_stat,4, 0.01)\n",
        "y_pvalue = stats.norm.pdf(x_pvalue)\n",
        "plt.fill_between(x = x_pvalue,\n",
        "                 y1 = y_pvalue,\n",
        "                 facecolor = 'green',\n",
        "                 alpha = 0.35,\n",
        "                 label = 'pvalue')\n",
        "\n",
        "# plot z-crit and z-stats\n",
        "plt.axvline(np.round(z_stat, 4),\n",
        "            color =\"green\",\n",
        "            linestyle = \"--\",\n",
        "            label =\"z-stat\")\n",
        "\n",
        "plt.axvline(z_crit,\n",
        "            color =\"red\",\n",
        "            linestyle = \"--\",\n",
        "            label =\"z-crit\")\n",
        "\n",
        "plt.legend()\n",
        "plt.xlabel(\"z\")\n",
        "plt.ylabel(\"density\")\n",
        "plt.show()\n",
        "\n",
        "print(f\"z statistics : {z_stat:.4f}\")\n",
        "print(f\"z critical : {z_crit:.4f}\")"
      ],
      "metadata": {
        "id": "pst43LI1E7DJ",
        "colab": {
          "base_uri": "https://localhost:8080/",
          "height": 652
        },
        "outputId": "952d406a-4cd8-4878-ff22-afd38080b4b6"
      },
      "execution_count": 52,
      "outputs": [
        {
          "output_type": "display_data",
          "data": {
            "text/plain": [
              "<Figure size 1000x700 with 1 Axes>"
            ],
            "image/png": "[encoded data removed]"
          },
          "metadata": {}
        },
        {
          "output_type": "stream",
          "name": "stdout",
          "text": [
            "z statistics : 2.5312\n",
            "z critical : 1.6449\n"
          ]
        }
      ]
    },
    {
      "cell_type": "markdown",
      "source": [
        "#### Conclusion"
      ],
      "metadata": {
        "id": "dbvD1CFrE89V"
      }
    },
    {
      "cell_type": "markdown",
      "source": [
        "With a confidence level of 95%, there is sufficient evidence that the purchase rate in a market place with a voucher code on the payment page (treatment) is **higher** than a market place without a voucher code (control)."
      ],
      "metadata": {
        "id": "xQOngoeME-LP"
      }
    },
    {
      "cell_type": "markdown",
      "source": [
        "After that, we will calculate the confidence interval to estimate within what range, the difference (difference or difference) of the proportion in the population"
      ],
      "metadata": {
        "id": "4jJRA7cyE_am"
      }
    },
    {
      "cell_type": "markdown",
      "source": [
        "* To calculate the confidence interval for proportion, we can use [statsmodels.stats.proportion.confint_proportions_2indep](https://https://www.statsmodels.org/stable/generated/statsmodels.stats.proportion.confint_proportions_2indep.html)"
      ],
      "metadata": {
        "id": "3Xn0nXNsFA3A"
      }
    },
    {
      "cell_type": "code",
      "source": [
        "from statsmodels.stats.proportion import confint_proportions_2indep\n",
        "\n",
        "confidence_interval = confint_proportions_2indep(count1 = n_purchaseB, nobs1 = n_B,\n",
        "                                                 count2 = n_purchaseA, nobs2 = n_A,\n",
        "                                                 compare='diff', alpha=0.05)\n",
        "print(confidence_interval)"
      ],
      "metadata": {
        "id": "tFWYASUvFB2b",
        "colab": {
          "base_uri": "https://localhost:8080/"
        },
        "outputId": "83b0dd34-9130-4d0d-d61d-a3588d46fd45"
      },
      "execution_count": 53,
      "outputs": [
        {
          "output_type": "stream",
          "name": "stdout",
          "text": [
            "(np.float64(0.011278178182498579), np.float64(0.08854880037383925))\n"
          ]
        }
      ]
    },
    {
      "cell_type": "markdown",
      "source": [
        "Based on these results, we are 95% sure that the difference or difference in the proportion of users who purchase (purchase rate) in the treatment (B) and control (A) groups lies between 0.011 and 0.088.\n",
        "\n",
        "Or it can be said that the increase in market place purchase rate with a voucher code on the payment (treatment) page increased by 0.011 to 0.088."
      ],
      "metadata": {
        "id": "BI9oWvn6FC5X"
      }
    },
    {
      "cell_type": "markdown",
      "source": [
        "#### Recommendation"
      ],
      "metadata": {
        "id": "Wz8VkEerFGRr"
      }
    },
    {
      "cell_type": "markdown",
      "source": [
        "Recommendation for the marketplace: based on the statistical test results the results are **statistically significant**, but to make a decision whether to add a voucher code feature or not, it must be ascertained whether it is **practically significant** such as costs for launching features, maintenance costs etc. loss with an uplift of 0.011 to 0.08"
      ],
      "metadata": {
        "id": "fZUDvriIFD-J"
      }
    }
  ]
}