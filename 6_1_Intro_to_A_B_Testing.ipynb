{
  "nbformat": 4,
  "nbformat_minor": 0,
  "metadata": {
    "colab": {
      "provenance": []
    },
    "kernelspec": {
      "name": "python3",
      "display_name": "Python 3"
    },
    "language_info": {
      "name": "python"
    }
  },
  "cells": [
    {
      "cell_type": "markdown",
      "source": [
        "# **6-1 - Intro to A/B Testing**\n",
        "\n",
        "Marketing & Customer Analytics\n"
      ],
      "metadata": {
        "id": "xSECwuVQ0Q2g"
      }
    },
    {
      "cell_type": "markdown",
      "source": [
        "**Outline**\n",
        "\n",
        "1. Review about Hypothesis Testing: Single Sample Test\n",
        "2. Case 1 - Site Revenue\n",
        "3. Case 2 - Advertisement\n",
        "4. Case 3 - Marketplace Customer Satisfaction"
      ],
      "metadata": {
        "id": "58UsF7F40cfv"
      }
    },
    {
      "cell_type": "markdown",
      "source": [
        "### **Intro to Hypothesis Testing**\n",
        "\n",
        "\n",
        "- **Hypothesis** is a statement or assumption that contains an uncertainty value (needs to be tested or proven)\n",
        "\n",
        "   Example: the average weight of chocolate is not equal to 50 gr.\n",
        "\n",
        "- **Hypothesis Test**, namely the process of collecting data and evaluating hypotheses (the process of proving the hypothesis).\n",
        "\n",
        "- **Statistical Hypothesis**\n",
        "   - Null hypothesis ($H_0$): Relating to the status quo as opposed to new ideas\n",
        "   - Alternative hypothesis ($H_1$): Claims that will be tested for validity because they are usually new things/discoveries\n",
        "\n",
        "- **Statistical Test** is a calculation to determine whether there is sufficient evidence to reject or fail to reject null hyporhesis ($H_0$).\n",
        "<br>\n",
        "\n",
        "- **Type of test**\n",
        "     - One Sided (Right)\n",
        "    $$[H_0 : \\theta = \\theta_0]$$\n",
        "    $$[H_1 : \\theta > \\theta_0]$$\n",
        "     - One sided (Left)\n",
        "    $$[H_0 : \\theta = \\theta_0]$$\n",
        "    $$[H_1 : \\theta < \\theta_0]$$\n",
        "     - Two Sided\n",
        "    $$[H_0 : \\theta = \\theta_0]$$\n",
        "    $$[H_1 : \\theta \\neq \\theta_0]$$"
      ],
      "metadata": {
        "id": "HtCvtN710dk_"
      }
    },
    {
      "cell_type": "markdown",
      "source": [
        "### **Choosing Appropriate Statistical Test for Your Problem**"
      ],
      "metadata": {
        "id": "0cF9YBpF0fVG"
      }
    },
    {
      "cell_type": "markdown",
      "source": [
        "- In experiments, the parameters that are often tested are the <font color=\"blue\">mean</font> and <font color=\"blue\">proportion</font> parameters. So it is rare to test the variance parameter.\n",
        "- It is often difficult to know the population variance, because it costs a lot to collect population data, so we will work more with samples. So that more widely used to test the mean parameter is to use the t-test.\n",
        "\n",
        "\n",
        "- Therefore, we will discuss more about the t-test and z-test for proportions"
      ],
      "metadata": {
        "id": "an5FhqKs0gpq"
      }
    },
    {
      "cell_type": "markdown",
      "source": [
        "#### **T-Test**"
      ],
      "metadata": {
        "id": "6w6GinyW0idJ"
      }
    },
    {
      "cell_type": "markdown",
      "source": [
        "T-test formula: \\begin{equation}\n",
        "t = \\frac{\\bar{x}-μ_0}{\\frac{s}{\\sqrt{n}}}\n",
        "\\end{equation}\n",
        "where :<br>\n",
        "$\\bar{x}$ = Sample mean<br>\n",
        "$μ_0$ = Population mean<br>\n",
        "$s$ = Sample standard deviation<br>\n",
        "$n$ = Sample size"
      ],
      "metadata": {
        "id": "aqQuWhFn0jYO"
      }
    },
    {
      "cell_type": "markdown",
      "source": [
        "#### **Z-Test for Proportion**"
      ],
      "metadata": {
        "id": "th12MSi30lGN"
      }
    },
    {
      "cell_type": "markdown",
      "source": [
        "For the proportion test, we use this formula:\n",
        "\n",
        "$$\n",
        "z = \\frac{\\hat p- p_0}{\\sqrt{\\frac{p_0(1-p_0)}{n}}}\n",
        "$$\n",
        "\n",
        "keterangan :<br>\n",
        "$\\hat{p}$ = Sample proportion $(\\hat{p}=\\frac{x}{n})$<br>\n",
        "$p_0$ = Population proportion<br>\n",
        "$n$ = Sample size"
      ],
      "metadata": {
        "id": "54-DVVgG0mB_"
      }
    },
    {
      "cell_type": "markdown",
      "source": [
        "### **Hypothesis Testing Steps**"
      ],
      "metadata": {
        "id": "08v1NwqO0nqa"
      }
    },
    {
      "cell_type": "markdown",
      "source": [
        "1.   **Define hypothesis ($H_0$ dan $H_1$) and Significance Level (α)**\n",
        " - We can build statistical hypotheses based on research questions that we want to know or what claims we want to prove\n",
        " - Significance level (α) : The probability of error in rejecting $H_0$ (Type I Error).\n",
        "  Usually determined by the researcher for 0.01, and 0.05.\n",
        "<br>\n",
        "2.   **Define statistical test and calculate the value**\n",
        "  \n",
        "\n",
        "3. **Define decision rules**\n",
        "<br> In this step, we will define the rejection criteria $H_0$.\n",
        "We can compare the calculated statistical test values with the critical values\n",
        "\n",
        "\n",
        "4. **Make decisions and conclusions**\n",
        "<br>\n",
        "- Decision making on hypothesis testing based on :\n",
        "  - Comparison of the value of the test statistic with the critical value\n",
        "    - If the statistical test used is the z-test :\n",
        "      - One-tailed (right), $z > z_{\\alpha}$  → reject $H_0$\n",
        "      - One-tailed (left), $z < -z_{\\alpha}$ → reject $H_0$\n",
        "      - Two-tailed, $z > z_{\\alpha/2}$ atau $ < -z_{\\alpha/2}$ → tolak $H_0$\n",
        "      <br>\n",
        "    - If the statistical test used is the t-test :\n",
        "      - One-tailed (right), $t > t_{\\alpha,df}$  → reject $H_0$\n",
        "      - One-tailed (left), $t < -t_{\\alpha,df}$ → reject $H_0$\n",
        "      - Two-tailed, $t > t_{\\alpha/2,df}$ atau $-t < -t_{\\alpha/2,df}$ → reject $H_0$\n",
        "\n",
        "\n",
        "- Compare p-value with alpha\n",
        "  - pvalue < $\\alpha$ reject → $H_0$\n",
        "\n",
        "\n",
        "\n",
        "Notes : df is degree of freedom, its calculated with formula $n-1$\n"
      ],
      "metadata": {
        "id": "pY5kRum80pIJ"
      }
    },
    {
      "cell_type": "markdown",
      "source": [
        "## **Study Case 1 : Site Revenue**\n",
        "___________________________\n",
        "\n"
      ],
      "metadata": {
        "id": "v2nLOQuO0qbn"
      }
    },
    {
      "cell_type": "markdown",
      "source": [
        "- Company A conducted an experiment, namely launching a website with a new design for some of its users.\n",
        "- From the sample user data, we will test whether it is true that the average revenue for the new design is more than 73 dollars.\n",
        "- The company requires a confidence level of 80%."
      ],
      "metadata": {
        "id": "4S462F_W0rcX"
      }
    },
    {
      "cell_type": "markdown",
      "source": [
        "### 1.  Import Data\n"
      ],
      "metadata": {
        "id": "38HIxFpo0srv"
      }
    },
    {
      "cell_type": "code",
      "source": [
        "# load data\n",
        "import pandas as pd\n",
        "import numpy as np\n",
        "\n",
        "# visualization\n",
        "import matplotlib.pyplot as plt"
      ],
      "metadata": {
        "id": "Up53I2ZZ05DN"
      },
      "execution_count": 1,
      "outputs": []
    },
    {
      "cell_type": "code",
      "source": [
        "# Initialization filename\n",
        "filename = \"site_revenue.csv\"\n",
        "\n",
        "# Import data\n",
        "data = pd.read_csv(filename)\n",
        "\n",
        "# Display 5 top rows of the data\n",
        "data.head()"
      ],
      "metadata": {
        "id": "K743ft4v06VV",
        "colab": {
          "base_uri": "https://localhost:8080/",
          "height": 206
        },
        "outputId": "b3c7fcd1-b26c-4aa3-d511-01a513096d0d"
      },
      "execution_count": 2,
      "outputs": [
        {
          "output_type": "execute_result",
          "data": {
            "text/plain": [
              "      USER_ID VARIANT_NAME  REVENUE\n",
              "0  pac-688937      variant     52.3\n",
              "1  pac-884319      variant     68.5\n",
              "2  pac-692455      control     45.6\n",
              "3  pac-801251      control     78.1\n",
              "4  pac-637815      control     48.4"
            ],
            "text/html": [
              "\n",
              "  <div id=\"df-12350d66-4202-42d7-a106-810bff47eb07\" class=\"colab-df-container\">\n",
              "    <div>\n",
              "<style scoped>\n",
              "    .dataframe tbody tr th:only-of-type {\n",
              "        vertical-align: middle;\n",
              "    }\n",
              "\n",
              "    .dataframe tbody tr th {\n",
              "        vertical-align: top;\n",
              "    }\n",
              "\n",
              "    .dataframe thead th {\n",
              "        text-align: right;\n",
              "    }\n",
              "</style>\n",
              "<table border=\"1\" class=\"dataframe\">\n",
              "  <thead>\n",
              "    <tr style=\"text-align: right;\">\n",
              "      <th></th>\n",
              "      <th>USER_ID</th>\n",
              "      <th>VARIANT_NAME</th>\n",
              "      <th>REVENUE</th>\n",
              "    </tr>\n",
              "  </thead>\n",
              "  <tbody>\n",
              "    <tr>\n",
              "      <th>0</th>\n",
              "      <td>pac-688937</td>\n",
              "      <td>variant</td>\n",
              "      <td>52.3</td>\n",
              "    </tr>\n",
              "    <tr>\n",
              "      <th>1</th>\n",
              "      <td>pac-884319</td>\n",
              "      <td>variant</td>\n",
              "      <td>68.5</td>\n",
              "    </tr>\n",
              "    <tr>\n",
              "      <th>2</th>\n",
              "      <td>pac-692455</td>\n",
              "      <td>control</td>\n",
              "      <td>45.6</td>\n",
              "    </tr>\n",
              "    <tr>\n",
              "      <th>3</th>\n",
              "      <td>pac-801251</td>\n",
              "      <td>control</td>\n",
              "      <td>78.1</td>\n",
              "    </tr>\n",
              "    <tr>\n",
              "      <th>4</th>\n",
              "      <td>pac-637815</td>\n",
              "      <td>control</td>\n",
              "      <td>48.4</td>\n",
              "    </tr>\n",
              "  </tbody>\n",
              "</table>\n",
              "</div>\n",
              "    <div class=\"colab-df-buttons\">\n",
              "\n",
              "  <div class=\"colab-df-container\">\n",
              "    <button class=\"colab-df-convert\" onclick=\"convertToInteractive('df-12350d66-4202-42d7-a106-810bff47eb07')\"\n",
              "            title=\"Convert this dataframe to an interactive table.\"\n",
              "            style=\"display:none;\">\n",
              "\n",
              "  <svg xmlns=\"http://www.w3.org/2000/svg\" height=\"24px\" viewBox=\"0 -960 960 960\">\n",
              "    <path d=\"M120-120v-720h720v720H120Zm60-500h600v-160H180v160Zm220 220h160v-160H400v160Zm0 220h160v-160H400v160ZM180-400h160v-160H180v160Zm440 0h160v-160H620v160ZM180-180h160v-160H180v160Zm440 0h160v-160H620v160Z\"/>\n",
              "  </svg>\n",
              "    </button>\n",
              "\n",
              "  <style>\n",
              "    .colab-df-container {\n",
              "      display:flex;\n",
              "      gap: 12px;\n",
              "    }\n",
              "\n",
              "    .colab-df-convert {\n",
              "      background-color: #E8F0FE;\n",
              "      border: none;\n",
              "      border-radius: 50%;\n",
              "      cursor: pointer;\n",
              "      display: none;\n",
              "      fill: #1967D2;\n",
              "      height: 32px;\n",
              "      padding: 0 0 0 0;\n",
              "      width: 32px;\n",
              "    }\n",
              "\n",
              "    .colab-df-convert:hover {\n",
              "      background-color: #E2EBFA;\n",
              "      box-shadow: 0px 1px 2px rgba(60, 64, 67, 0.3), 0px 1px 3px 1px rgba(60, 64, 67, 0.15);\n",
              "      fill: #174EA6;\n",
              "    }\n",
              "\n",
              "    .colab-df-buttons div {\n",
              "      margin-bottom: 4px;\n",
              "    }\n",
              "\n",
              "    [theme=dark] .colab-df-convert {\n",
              "      background-color: #3B4455;\n",
              "      fill: #D2E3FC;\n",
              "    }\n",
              "\n",
              "    [theme=dark] .colab-df-convert:hover {\n",
              "      background-color: #434B5C;\n",
              "      box-shadow: 0px 1px 3px 1px rgba(0, 0, 0, 0.15);\n",
              "      filter: drop-shadow(0px 1px 2px rgba(0, 0, 0, 0.3));\n",
              "      fill: #FFFFFF;\n",
              "    }\n",
              "  </style>\n",
              "\n",
              "    <script>\n",
              "      const buttonEl =\n",
              "        document.querySelector('#df-12350d66-4202-42d7-a106-810bff47eb07 button.colab-df-convert');\n",
              "      buttonEl.style.display =\n",
              "        google.colab.kernel.accessAllowed ? 'block' : 'none';\n",
              "\n",
              "      async function convertToInteractive(key) {\n",
              "        const element = document.querySelector('#df-12350d66-4202-42d7-a106-810bff47eb07');\n",
              "        const dataTable =\n",
              "          await google.colab.kernel.invokeFunction('convertToInteractive',\n",
              "                                                    [key], {});\n",
              "        if (!dataTable) return;\n",
              "\n",
              "        const docLinkHtml = 'Like what you see? Visit the ' +\n",
              "          '<a target=\"_blank\" href=https://colab.research.google.com/notebooks/data_table.ipynb>data table notebook</a>'\n",
              "          + ' to learn more about interactive tables.';\n",
              "        element.innerHTML = '';\n",
              "        dataTable['output_type'] = 'display_data';\n",
              "        await google.colab.output.renderOutput(dataTable, element);\n",
              "        const docLink = document.createElement('div');\n",
              "        docLink.innerHTML = docLinkHtml;\n",
              "        element.appendChild(docLink);\n",
              "      }\n",
              "    </script>\n",
              "  </div>\n",
              "\n",
              "\n",
              "    <div id=\"df-4162a016-d242-43b5-8779-5b2feae71d49\">\n",
              "      <button class=\"colab-df-quickchart\" onclick=\"quickchart('df-4162a016-d242-43b5-8779-5b2feae71d49')\"\n",
              "                title=\"Suggest charts\"\n",
              "                style=\"display:none;\">\n",
              "\n",
              "<svg xmlns=\"http://www.w3.org/2000/svg\" height=\"24px\"viewBox=\"0 0 24 24\"\n",
              "     width=\"24px\">\n",
              "    <g>\n",
              "        <path d=\"M19 3H5c-1.1 0-2 .9-2 2v14c0 1.1.9 2 2 2h14c1.1 0 2-.9 2-2V5c0-1.1-.9-2-2-2zM9 17H7v-7h2v7zm4 0h-2V7h2v10zm4 0h-2v-4h2v4z\"/>\n",
              "    </g>\n",
              "</svg>\n",
              "      </button>\n",
              "\n",
              "<style>\n",
              "  .colab-df-quickchart {\n",
              "      --bg-color: #E8F0FE;\n",
              "      --fill-color: #1967D2;\n",
              "      --hover-bg-color: #E2EBFA;\n",
              "      --hover-fill-color: #174EA6;\n",
              "      --disabled-fill-color: #AAA;\n",
              "      --disabled-bg-color: #DDD;\n",
              "  }\n",
              "\n",
              "  [theme=dark] .colab-df-quickchart {\n",
              "      --bg-color: #3B4455;\n",
              "      --fill-color: #D2E3FC;\n",
              "      --hover-bg-color: #434B5C;\n",
              "      --hover-fill-color: #FFFFFF;\n",
              "      --disabled-bg-color: #3B4455;\n",
              "      --disabled-fill-color: #666;\n",
              "  }\n",
              "\n",
              "  .colab-df-quickchart {\n",
              "    background-color: var(--bg-color);\n",
              "    border: none;\n",
              "    border-radius: 50%;\n",
              "    cursor: pointer;\n",
              "    display: none;\n",
              "    fill: var(--fill-color);\n",
              "    height: 32px;\n",
              "    padding: 0;\n",
              "    width: 32px;\n",
              "  }\n",
              "\n",
              "  .colab-df-quickchart:hover {\n",
              "    background-color: var(--hover-bg-color);\n",
              "    box-shadow: 0 1px 2px rgba(60, 64, 67, 0.3), 0 1px 3px 1px rgba(60, 64, 67, 0.15);\n",
              "    fill: var(--button-hover-fill-color);\n",
              "  }\n",
              "\n",
              "  .colab-df-quickchart-complete:disabled,\n",
              "  .colab-df-quickchart-complete:disabled:hover {\n",
              "    background-color: var(--disabled-bg-color);\n",
              "    fill: var(--disabled-fill-color);\n",
              "    box-shadow: none;\n",
              "  }\n",
              "\n",
              "  .colab-df-spinner {\n",
              "    border: 2px solid var(--fill-color);\n",
              "    border-color: transparent;\n",
              "    border-bottom-color: var(--fill-color);\n",
              "    animation:\n",
              "      spin 1s steps(1) infinite;\n",
              "  }\n",
              "\n",
              "  @keyframes spin {\n",
              "    0% {\n",
              "      border-color: transparent;\n",
              "      border-bottom-color: var(--fill-color);\n",
              "      border-left-color: var(--fill-color);\n",
              "    }\n",
              "    20% {\n",
              "      border-color: transparent;\n",
              "      border-left-color: var(--fill-color);\n",
              "      border-top-color: var(--fill-color);\n",
              "    }\n",
              "    30% {\n",
              "      border-color: transparent;\n",
              "      border-left-color: var(--fill-color);\n",
              "      border-top-color: var(--fill-color);\n",
              "      border-right-color: var(--fill-color);\n",
              "    }\n",
              "    40% {\n",
              "      border-color: transparent;\n",
              "      border-right-color: var(--fill-color);\n",
              "      border-top-color: var(--fill-color);\n",
              "    }\n",
              "    60% {\n",
              "      border-color: transparent;\n",
              "      border-right-color: var(--fill-color);\n",
              "    }\n",
              "    80% {\n",
              "      border-color: transparent;\n",
              "      border-right-color: var(--fill-color);\n",
              "      border-bottom-color: var(--fill-color);\n",
              "    }\n",
              "    90% {\n",
              "      border-color: transparent;\n",
              "      border-bottom-color: var(--fill-color);\n",
              "    }\n",
              "  }\n",
              "</style>\n",
              "\n",
              "      <script>\n",
              "        async function quickchart(key) {\n",
              "          const quickchartButtonEl =\n",
              "            document.querySelector('#' + key + ' button');\n",
              "          quickchartButtonEl.disabled = true;  // To prevent multiple clicks.\n",
              "          quickchartButtonEl.classList.add('colab-df-spinner');\n",
              "          try {\n",
              "            const charts = await google.colab.kernel.invokeFunction(\n",
              "                'suggestCharts', [key], {});\n",
              "          } catch (error) {\n",
              "            console.error('Error during call to suggestCharts:', error);\n",
              "          }\n",
              "          quickchartButtonEl.classList.remove('colab-df-spinner');\n",
              "          quickchartButtonEl.classList.add('colab-df-quickchart-complete');\n",
              "        }\n",
              "        (() => {\n",
              "          let quickchartButtonEl =\n",
              "            document.querySelector('#df-4162a016-d242-43b5-8779-5b2feae71d49 button');\n",
              "          quickchartButtonEl.style.display =\n",
              "            google.colab.kernel.accessAllowed ? 'block' : 'none';\n",
              "        })();\n",
              "      </script>\n",
              "    </div>\n",
              "\n",
              "    </div>\n",
              "  </div>\n"
            ],
            "application/vnd.google.colaboratory.intrinsic+json": {
              "type": "dataframe",
              "variable_name": "data",
              "summary": "{\n  \"name\": \"data\",\n  \"rows\": 877,\n  \"fields\": [\n    {\n      \"column\": \"USER_ID\",\n      \"properties\": {\n        \"dtype\": \"string\",\n        \"num_unique_values\": 850,\n        \"samples\": [\n          \"pac-708305\",\n          \"pac-770137\",\n          \"pac-777437\"\n        ],\n        \"semantic_type\": \"\",\n        \"description\": \"\"\n      }\n    },\n    {\n      \"column\": \"VARIANT_NAME\",\n      \"properties\": {\n        \"dtype\": \"category\",\n        \"num_unique_values\": 2,\n        \"samples\": [\n          \"control\",\n          \"variant\"\n        ],\n        \"semantic_type\": \"\",\n        \"description\": \"\"\n      }\n    },\n    {\n      \"column\": \"REVENUE\",\n      \"properties\": {\n        \"dtype\": \"number\",\n        \"std\": 38.13164849167891,\n        \"min\": 1.0,\n        \"max\": 150.0,\n        \"num_unique_values\": 641,\n        \"samples\": [\n          93.9,\n          17.2\n        ],\n        \"semantic_type\": \"\",\n        \"description\": \"\"\n      }\n    }\n  ]\n}"
            }
          },
          "metadata": {},
          "execution_count": 2
        }
      ]
    },
    {
      "cell_type": "code",
      "source": [
        "# Select only variant type\n",
        "data = data[data['VARIANT_NAME']=='variant'].reset_index(drop=True)\n",
        "data.head()"
      ],
      "metadata": {
        "id": "Jhgm06YF07xm",
        "colab": {
          "base_uri": "https://localhost:8080/",
          "height": 206
        },
        "outputId": "90e8a563-d4e4-4df1-f2d8-70f437b2ec51"
      },
      "execution_count": 3,
      "outputs": [
        {
          "output_type": "execute_result",
          "data": {
            "text/plain": [
              "      USER_ID VARIANT_NAME  REVENUE\n",
              "0  pac-688937      variant     52.3\n",
              "1  pac-884319      variant     68.5\n",
              "2  pac-821916      variant     68.6\n",
              "3  pac-853373      variant     87.6\n",
              "4  pac-761154      variant     20.0"
            ],
            "text/html": [
              "\n",
              "  <div id=\"df-0b9bc3f7-c3ad-470d-b0ef-653879a87aed\" class=\"colab-df-container\">\n",
              "    <div>\n",
              "<style scoped>\n",
              "    .dataframe tbody tr th:only-of-type {\n",
              "        vertical-align: middle;\n",
              "    }\n",
              "\n",
              "    .dataframe tbody tr th {\n",
              "        vertical-align: top;\n",
              "    }\n",
              "\n",
              "    .dataframe thead th {\n",
              "        text-align: right;\n",
              "    }\n",
              "</style>\n",
              "<table border=\"1\" class=\"dataframe\">\n",
              "  <thead>\n",
              "    <tr style=\"text-align: right;\">\n",
              "      <th></th>\n",
              "      <th>USER_ID</th>\n",
              "      <th>VARIANT_NAME</th>\n",
              "      <th>REVENUE</th>\n",
              "    </tr>\n",
              "  </thead>\n",
              "  <tbody>\n",
              "    <tr>\n",
              "      <th>0</th>\n",
              "      <td>pac-688937</td>\n",
              "      <td>variant</td>\n",
              "      <td>52.3</td>\n",
              "    </tr>\n",
              "    <tr>\n",
              "      <th>1</th>\n",
              "      <td>pac-884319</td>\n",
              "      <td>variant</td>\n",
              "      <td>68.5</td>\n",
              "    </tr>\n",
              "    <tr>\n",
              "      <th>2</th>\n",
              "      <td>pac-821916</td>\n",
              "      <td>variant</td>\n",
              "      <td>68.6</td>\n",
              "    </tr>\n",
              "    <tr>\n",
              "      <th>3</th>\n",
              "      <td>pac-853373</td>\n",
              "      <td>variant</td>\n",
              "      <td>87.6</td>\n",
              "    </tr>\n",
              "    <tr>\n",
              "      <th>4</th>\n",
              "      <td>pac-761154</td>\n",
              "      <td>variant</td>\n",
              "      <td>20.0</td>\n",
              "    </tr>\n",
              "  </tbody>\n",
              "</table>\n",
              "</div>\n",
              "    <div class=\"colab-df-buttons\">\n",
              "\n",
              "  <div class=\"colab-df-container\">\n",
              "    <button class=\"colab-df-convert\" onclick=\"convertToInteractive('df-0b9bc3f7-c3ad-470d-b0ef-653879a87aed')\"\n",
              "            title=\"Convert this dataframe to an interactive table.\"\n",
              "            style=\"display:none;\">\n",
              "\n",
              "  <svg xmlns=\"http://www.w3.org/2000/svg\" height=\"24px\" viewBox=\"0 -960 960 960\">\n",
              "    <path d=\"M120-120v-720h720v720H120Zm60-500h600v-160H180v160Zm220 220h160v-160H400v160Zm0 220h160v-160H400v160ZM180-400h160v-160H180v160Zm440 0h160v-160H620v160ZM180-180h160v-160H180v160Zm440 0h160v-160H620v160Z\"/>\n",
              "  </svg>\n",
              "    </button>\n",
              "\n",
              "  <style>\n",
              "    .colab-df-container {\n",
              "      display:flex;\n",
              "      gap: 12px;\n",
              "    }\n",
              "\n",
              "    .colab-df-convert {\n",
              "      background-color: #E8F0FE;\n",
              "      border: none;\n",
              "      border-radius: 50%;\n",
              "      cursor: pointer;\n",
              "      display: none;\n",
              "      fill: #1967D2;\n",
              "      height: 32px;\n",
              "      padding: 0 0 0 0;\n",
              "      width: 32px;\n",
              "    }\n",
              "\n",
              "    .colab-df-convert:hover {\n",
              "      background-color: #E2EBFA;\n",
              "      box-shadow: 0px 1px 2px rgba(60, 64, 67, 0.3), 0px 1px 3px 1px rgba(60, 64, 67, 0.15);\n",
              "      fill: #174EA6;\n",
              "    }\n",
              "\n",
              "    .colab-df-buttons div {\n",
              "      margin-bottom: 4px;\n",
              "    }\n",
              "\n",
              "    [theme=dark] .colab-df-convert {\n",
              "      background-color: #3B4455;\n",
              "      fill: #D2E3FC;\n",
              "    }\n",
              "\n",
              "    [theme=dark] .colab-df-convert:hover {\n",
              "      background-color: #434B5C;\n",
              "      box-shadow: 0px 1px 3px 1px rgba(0, 0, 0, 0.15);\n",
              "      filter: drop-shadow(0px 1px 2px rgba(0, 0, 0, 0.3));\n",
              "      fill: #FFFFFF;\n",
              "    }\n",
              "  </style>\n",
              "\n",
              "    <script>\n",
              "      const buttonEl =\n",
              "        document.querySelector('#df-0b9bc3f7-c3ad-470d-b0ef-653879a87aed button.colab-df-convert');\n",
              "      buttonEl.style.display =\n",
              "        google.colab.kernel.accessAllowed ? 'block' : 'none';\n",
              "\n",
              "      async function convertToInteractive(key) {\n",
              "        const element = document.querySelector('#df-0b9bc3f7-c3ad-470d-b0ef-653879a87aed');\n",
              "        const dataTable =\n",
              "          await google.colab.kernel.invokeFunction('convertToInteractive',\n",
              "                                                    [key], {});\n",
              "        if (!dataTable) return;\n",
              "\n",
              "        const docLinkHtml = 'Like what you see? Visit the ' +\n",
              "          '<a target=\"_blank\" href=https://colab.research.google.com/notebooks/data_table.ipynb>data table notebook</a>'\n",
              "          + ' to learn more about interactive tables.';\n",
              "        element.innerHTML = '';\n",
              "        dataTable['output_type'] = 'display_data';\n",
              "        await google.colab.output.renderOutput(dataTable, element);\n",
              "        const docLink = document.createElement('div');\n",
              "        docLink.innerHTML = docLinkHtml;\n",
              "        element.appendChild(docLink);\n",
              "      }\n",
              "    </script>\n",
              "  </div>\n",
              "\n",
              "\n",
              "    <div id=\"df-166a71e9-4377-4934-87aa-b8cfab733233\">\n",
              "      <button class=\"colab-df-quickchart\" onclick=\"quickchart('df-166a71e9-4377-4934-87aa-b8cfab733233')\"\n",
              "                title=\"Suggest charts\"\n",
              "                style=\"display:none;\">\n",
              "\n",
              "<svg xmlns=\"http://www.w3.org/2000/svg\" height=\"24px\"viewBox=\"0 0 24 24\"\n",
              "     width=\"24px\">\n",
              "    <g>\n",
              "        <path d=\"M19 3H5c-1.1 0-2 .9-2 2v14c0 1.1.9 2 2 2h14c1.1 0 2-.9 2-2V5c0-1.1-.9-2-2-2zM9 17H7v-7h2v7zm4 0h-2V7h2v10zm4 0h-2v-4h2v4z\"/>\n",
              "    </g>\n",
              "</svg>\n",
              "      </button>\n",
              "\n",
              "<style>\n",
              "  .colab-df-quickchart {\n",
              "      --bg-color: #E8F0FE;\n",
              "      --fill-color: #1967D2;\n",
              "      --hover-bg-color: #E2EBFA;\n",
              "      --hover-fill-color: #174EA6;\n",
              "      --disabled-fill-color: #AAA;\n",
              "      --disabled-bg-color: #DDD;\n",
              "  }\n",
              "\n",
              "  [theme=dark] .colab-df-quickchart {\n",
              "      --bg-color: #3B4455;\n",
              "      --fill-color: #D2E3FC;\n",
              "      --hover-bg-color: #434B5C;\n",
              "      --hover-fill-color: #FFFFFF;\n",
              "      --disabled-bg-color: #3B4455;\n",
              "      --disabled-fill-color: #666;\n",
              "  }\n",
              "\n",
              "  .colab-df-quickchart {\n",
              "    background-color: var(--bg-color);\n",
              "    border: none;\n",
              "    border-radius: 50%;\n",
              "    cursor: pointer;\n",
              "    display: none;\n",
              "    fill: var(--fill-color);\n",
              "    height: 32px;\n",
              "    padding: 0;\n",
              "    width: 32px;\n",
              "  }\n",
              "\n",
              "  .colab-df-quickchart:hover {\n",
              "    background-color: var(--hover-bg-color);\n",
              "    box-shadow: 0 1px 2px rgba(60, 64, 67, 0.3), 0 1px 3px 1px rgba(60, 64, 67, 0.15);\n",
              "    fill: var(--button-hover-fill-color);\n",
              "  }\n",
              "\n",
              "  .colab-df-quickchart-complete:disabled,\n",
              "  .colab-df-quickchart-complete:disabled:hover {\n",
              "    background-color: var(--disabled-bg-color);\n",
              "    fill: var(--disabled-fill-color);\n",
              "    box-shadow: none;\n",
              "  }\n",
              "\n",
              "  .colab-df-spinner {\n",
              "    border: 2px solid var(--fill-color);\n",
              "    border-color: transparent;\n",
              "    border-bottom-color: var(--fill-color);\n",
              "    animation:\n",
              "      spin 1s steps(1) infinite;\n",
              "  }\n",
              "\n",
              "  @keyframes spin {\n",
              "    0% {\n",
              "      border-color: transparent;\n",
              "      border-bottom-color: var(--fill-color);\n",
              "      border-left-color: var(--fill-color);\n",
              "    }\n",
              "    20% {\n",
              "      border-color: transparent;\n",
              "      border-left-color: var(--fill-color);\n",
              "      border-top-color: var(--fill-color);\n",
              "    }\n",
              "    30% {\n",
              "      border-color: transparent;\n",
              "      border-left-color: var(--fill-color);\n",
              "      border-top-color: var(--fill-color);\n",
              "      border-right-color: var(--fill-color);\n",
              "    }\n",
              "    40% {\n",
              "      border-color: transparent;\n",
              "      border-right-color: var(--fill-color);\n",
              "      border-top-color: var(--fill-color);\n",
              "    }\n",
              "    60% {\n",
              "      border-color: transparent;\n",
              "      border-right-color: var(--fill-color);\n",
              "    }\n",
              "    80% {\n",
              "      border-color: transparent;\n",
              "      border-right-color: var(--fill-color);\n",
              "      border-bottom-color: var(--fill-color);\n",
              "    }\n",
              "    90% {\n",
              "      border-color: transparent;\n",
              "      border-bottom-color: var(--fill-color);\n",
              "    }\n",
              "  }\n",
              "</style>\n",
              "\n",
              "      <script>\n",
              "        async function quickchart(key) {\n",
              "          const quickchartButtonEl =\n",
              "            document.querySelector('#' + key + ' button');\n",
              "          quickchartButtonEl.disabled = true;  // To prevent multiple clicks.\n",
              "          quickchartButtonEl.classList.add('colab-df-spinner');\n",
              "          try {\n",
              "            const charts = await google.colab.kernel.invokeFunction(\n",
              "                'suggestCharts', [key], {});\n",
              "          } catch (error) {\n",
              "            console.error('Error during call to suggestCharts:', error);\n",
              "          }\n",
              "          quickchartButtonEl.classList.remove('colab-df-spinner');\n",
              "          quickchartButtonEl.classList.add('colab-df-quickchart-complete');\n",
              "        }\n",
              "        (() => {\n",
              "          let quickchartButtonEl =\n",
              "            document.querySelector('#df-166a71e9-4377-4934-87aa-b8cfab733233 button');\n",
              "          quickchartButtonEl.style.display =\n",
              "            google.colab.kernel.accessAllowed ? 'block' : 'none';\n",
              "        })();\n",
              "      </script>\n",
              "    </div>\n",
              "\n",
              "    </div>\n",
              "  </div>\n"
            ],
            "application/vnd.google.colaboratory.intrinsic+json": {
              "type": "dataframe",
              "variable_name": "data",
              "summary": "{\n  \"name\": \"data\",\n  \"rows\": 444,\n  \"fields\": [\n    {\n      \"column\": \"USER_ID\",\n      \"properties\": {\n        \"dtype\": \"string\",\n        \"num_unique_values\": 425,\n        \"samples\": [\n          \"pac-799468\",\n          \"pac-937296\",\n          \"pac-718530\"\n        ],\n        \"semantic_type\": \"\",\n        \"description\": \"\"\n      }\n    },\n    {\n      \"column\": \"VARIANT_NAME\",\n      \"properties\": {\n        \"dtype\": \"category\",\n        \"num_unique_values\": 1,\n        \"samples\": [\n          \"variant\"\n        ],\n        \"semantic_type\": \"\",\n        \"description\": \"\"\n      }\n    },\n    {\n      \"column\": \"REVENUE\",\n      \"properties\": {\n        \"dtype\": \"number\",\n        \"std\": 42.233047608867935,\n        \"min\": 2.2,\n        \"max\": 150.0,\n        \"num_unique_values\": 371,\n        \"samples\": [\n          102.5\n        ],\n        \"semantic_type\": \"\",\n        \"description\": \"\"\n      }\n    }\n  ]\n}"
            }
          },
          "metadata": {},
          "execution_count": 3
        }
      ]
    },
    {
      "cell_type": "code",
      "source": [
        "# Get data shape\n",
        "data.shape"
      ],
      "metadata": {
        "id": "TeKTY3zw0-_K",
        "colab": {
          "base_uri": "https://localhost:8080/"
        },
        "outputId": "6aa1d7c6-7326-482e-8134-825cefb87745"
      },
      "execution_count": 4,
      "outputs": [
        {
          "output_type": "execute_result",
          "data": {
            "text/plain": [
              "(444, 3)"
            ]
          },
          "metadata": {},
          "execution_count": 4
        }
      ]
    },
    {
      "cell_type": "markdown",
      "source": [
        "### Data Cleaning"
      ],
      "metadata": {
        "id": "f8hbLQN_1ENP"
      }
    },
    {
      "cell_type": "code",
      "source": [
        "# Checking duplicate data\n",
        "data.duplicated(['USER_ID']).sum()"
      ],
      "metadata": {
        "id": "MxLCNYnh1GKF",
        "colab": {
          "base_uri": "https://localhost:8080/"
        },
        "outputId": "874892bd-3958-4750-ab78-ceda85f8c94d"
      },
      "execution_count": 5,
      "outputs": [
        {
          "output_type": "execute_result",
          "data": {
            "text/plain": [
              "np.int64(19)"
            ]
          },
          "metadata": {},
          "execution_count": 5
        }
      ]
    },
    {
      "cell_type": "code",
      "source": [
        "# show duplicate\n",
        "ids = data['USER_ID']\n",
        "data_dup=data[ids.isin(ids[ids.duplicated()])].sort_values(\"USER_ID\")\n",
        "data_dup"
      ],
      "metadata": {
        "id": "DU5WdIMC1HP3",
        "colab": {
          "base_uri": "https://localhost:8080/",
          "height": 1000
        },
        "outputId": "5c5bb967-4083-4fb8-e445-47a9d334a0c5"
      },
      "execution_count": 6,
      "outputs": [
        {
          "output_type": "execute_result",
          "data": {
            "text/plain": [
              "        USER_ID VARIANT_NAME  REVENUE\n",
              "420  pac-662210      variant      7.5\n",
              "439  pac-662210      variant      7.5\n",
              "435  pac-727266      variant     94.3\n",
              "416  pac-727266      variant     94.3\n",
              "433  pac-788382      variant     85.1\n",
              "414  pac-788382      variant     85.1\n",
              "417  pac-799468      variant     39.0\n",
              "436  pac-799468      variant     39.0\n",
              "429  pac-832764      variant    130.8\n",
              "410  pac-832764      variant    130.8\n",
              "407  pac-833696      variant     74.0\n",
              "426  pac-833696      variant     74.0\n",
              "432  pac-833716      variant      6.0\n",
              "413  pac-833716      variant      6.0\n",
              "423  pac-840454      variant     25.0\n",
              "442  pac-840454      variant     25.0\n",
              "440  pac-841288      variant    118.4\n",
              "421  pac-841288      variant    118.4\n",
              "415  pac-858659      variant     50.1\n",
              "434  pac-858659      variant     50.1\n",
              "409  pac-860168      variant    115.7\n",
              "428  pac-860168      variant    115.7\n",
              "425  pac-866500      variant     29.2\n",
              "406  pac-866500      variant     29.2\n",
              "441  pac-871671      variant      5.0\n",
              "422  pac-871671      variant      5.0\n",
              "408  pac-873364      variant     29.2\n",
              "427  pac-873364      variant     29.2\n",
              "424  pac-875502      variant    123.7\n",
              "443  pac-875502      variant    123.7\n",
              "412  pac-901195      variant     99.0\n",
              "431  pac-901195      variant     99.0\n",
              "419  pac-911150      variant    116.8\n",
              "438  pac-911150      variant    116.8\n",
              "430  pac-919791      variant      9.0\n",
              "411  pac-919791      variant      9.0\n",
              "437  pac-921628      variant     28.8\n",
              "418  pac-921628      variant     28.8"
            ],
            "text/html": [
              "\n",
              "  <div id=\"df-c191dee0-ddaf-4a02-8dd6-b01aeb6bb608\" class=\"colab-df-container\">\n",
              "    <div>\n",
              "<style scoped>\n",
              "    .dataframe tbody tr th:only-of-type {\n",
              "        vertical-align: middle;\n",
              "    }\n",
              "\n",
              "    .dataframe tbody tr th {\n",
              "        vertical-align: top;\n",
              "    }\n",
              "\n",
              "    .dataframe thead th {\n",
              "        text-align: right;\n",
              "    }\n",
              "</style>\n",
              "<table border=\"1\" class=\"dataframe\">\n",
              "  <thead>\n",
              "    <tr style=\"text-align: right;\">\n",
              "      <th></th>\n",
              "      <th>USER_ID</th>\n",
              "      <th>VARIANT_NAME</th>\n",
              "      <th>REVENUE</th>\n",
              "    </tr>\n",
              "  </thead>\n",
              "  <tbody>\n",
              "    <tr>\n",
              "      <th>420</th>\n",
              "      <td>pac-662210</td>\n",
              "      <td>variant</td>\n",
              "      <td>7.5</td>\n",
              "    </tr>\n",
              "    <tr>\n",
              "      <th>439</th>\n",
              "      <td>pac-662210</td>\n",
              "      <td>variant</td>\n",
              "      <td>7.5</td>\n",
              "    </tr>\n",
              "    <tr>\n",
              "      <th>435</th>\n",
              "      <td>pac-727266</td>\n",
              "      <td>variant</td>\n",
              "      <td>94.3</td>\n",
              "    </tr>\n",
              "    <tr>\n",
              "      <th>416</th>\n",
              "      <td>pac-727266</td>\n",
              "      <td>variant</td>\n",
              "      <td>94.3</td>\n",
              "    </tr>\n",
              "    <tr>\n",
              "      <th>433</th>\n",
              "      <td>pac-788382</td>\n",
              "      <td>variant</td>\n",
              "      <td>85.1</td>\n",
              "    </tr>\n",
              "    <tr>\n",
              "      <th>414</th>\n",
              "      <td>pac-788382</td>\n",
              "      <td>variant</td>\n",
              "      <td>85.1</td>\n",
              "    </tr>\n",
              "    <tr>\n",
              "      <th>417</th>\n",
              "      <td>pac-799468</td>\n",
              "      <td>variant</td>\n",
              "      <td>39.0</td>\n",
              "    </tr>\n",
              "    <tr>\n",
              "      <th>436</th>\n",
              "      <td>pac-799468</td>\n",
              "      <td>variant</td>\n",
              "      <td>39.0</td>\n",
              "    </tr>\n",
              "    <tr>\n",
              "      <th>429</th>\n",
              "      <td>pac-832764</td>\n",
              "      <td>variant</td>\n",
              "      <td>130.8</td>\n",
              "    </tr>\n",
              "    <tr>\n",
              "      <th>410</th>\n",
              "      <td>pac-832764</td>\n",
              "      <td>variant</td>\n",
              "      <td>130.8</td>\n",
              "    </tr>\n",
              "    <tr>\n",
              "      <th>407</th>\n",
              "      <td>pac-833696</td>\n",
              "      <td>variant</td>\n",
              "      <td>74.0</td>\n",
              "    </tr>\n",
              "    <tr>\n",
              "      <th>426</th>\n",
              "      <td>pac-833696</td>\n",
              "      <td>variant</td>\n",
              "      <td>74.0</td>\n",
              "    </tr>\n",
              "    <tr>\n",
              "      <th>432</th>\n",
              "      <td>pac-833716</td>\n",
              "      <td>variant</td>\n",
              "      <td>6.0</td>\n",
              "    </tr>\n",
              "    <tr>\n",
              "      <th>413</th>\n",
              "      <td>pac-833716</td>\n",
              "      <td>variant</td>\n",
              "      <td>6.0</td>\n",
              "    </tr>\n",
              "    <tr>\n",
              "      <th>423</th>\n",
              "      <td>pac-840454</td>\n",
              "      <td>variant</td>\n",
              "      <td>25.0</td>\n",
              "    </tr>\n",
              "    <tr>\n",
              "      <th>442</th>\n",
              "      <td>pac-840454</td>\n",
              "      <td>variant</td>\n",
              "      <td>25.0</td>\n",
              "    </tr>\n",
              "    <tr>\n",
              "      <th>440</th>\n",
              "      <td>pac-841288</td>\n",
              "      <td>variant</td>\n",
              "      <td>118.4</td>\n",
              "    </tr>\n",
              "    <tr>\n",
              "      <th>421</th>\n",
              "      <td>pac-841288</td>\n",
              "      <td>variant</td>\n",
              "      <td>118.4</td>\n",
              "    </tr>\n",
              "    <tr>\n",
              "      <th>415</th>\n",
              "      <td>pac-858659</td>\n",
              "      <td>variant</td>\n",
              "      <td>50.1</td>\n",
              "    </tr>\n",
              "    <tr>\n",
              "      <th>434</th>\n",
              "      <td>pac-858659</td>\n",
              "      <td>variant</td>\n",
              "      <td>50.1</td>\n",
              "    </tr>\n",
              "    <tr>\n",
              "      <th>409</th>\n",
              "      <td>pac-860168</td>\n",
              "      <td>variant</td>\n",
              "      <td>115.7</td>\n",
              "    </tr>\n",
              "    <tr>\n",
              "      <th>428</th>\n",
              "      <td>pac-860168</td>\n",
              "      <td>variant</td>\n",
              "      <td>115.7</td>\n",
              "    </tr>\n",
              "    <tr>\n",
              "      <th>425</th>\n",
              "      <td>pac-866500</td>\n",
              "      <td>variant</td>\n",
              "      <td>29.2</td>\n",
              "    </tr>\n",
              "    <tr>\n",
              "      <th>406</th>\n",
              "      <td>pac-866500</td>\n",
              "      <td>variant</td>\n",
              "      <td>29.2</td>\n",
              "    </tr>\n",
              "    <tr>\n",
              "      <th>441</th>\n",
              "      <td>pac-871671</td>\n",
              "      <td>variant</td>\n",
              "      <td>5.0</td>\n",
              "    </tr>\n",
              "    <tr>\n",
              "      <th>422</th>\n",
              "      <td>pac-871671</td>\n",
              "      <td>variant</td>\n",
              "      <td>5.0</td>\n",
              "    </tr>\n",
              "    <tr>\n",
              "      <th>408</th>\n",
              "      <td>pac-873364</td>\n",
              "      <td>variant</td>\n",
              "      <td>29.2</td>\n",
              "    </tr>\n",
              "    <tr>\n",
              "      <th>427</th>\n",
              "      <td>pac-873364</td>\n",
              "      <td>variant</td>\n",
              "      <td>29.2</td>\n",
              "    </tr>\n",
              "    <tr>\n",
              "      <th>424</th>\n",
              "      <td>pac-875502</td>\n",
              "      <td>variant</td>\n",
              "      <td>123.7</td>\n",
              "    </tr>\n",
              "    <tr>\n",
              "      <th>443</th>\n",
              "      <td>pac-875502</td>\n",
              "      <td>variant</td>\n",
              "      <td>123.7</td>\n",
              "    </tr>\n",
              "    <tr>\n",
              "      <th>412</th>\n",
              "      <td>pac-901195</td>\n",
              "      <td>variant</td>\n",
              "      <td>99.0</td>\n",
              "    </tr>\n",
              "    <tr>\n",
              "      <th>431</th>\n",
              "      <td>pac-901195</td>\n",
              "      <td>variant</td>\n",
              "      <td>99.0</td>\n",
              "    </tr>\n",
              "    <tr>\n",
              "      <th>419</th>\n",
              "      <td>pac-911150</td>\n",
              "      <td>variant</td>\n",
              "      <td>116.8</td>\n",
              "    </tr>\n",
              "    <tr>\n",
              "      <th>438</th>\n",
              "      <td>pac-911150</td>\n",
              "      <td>variant</td>\n",
              "      <td>116.8</td>\n",
              "    </tr>\n",
              "    <tr>\n",
              "      <th>430</th>\n",
              "      <td>pac-919791</td>\n",
              "      <td>variant</td>\n",
              "      <td>9.0</td>\n",
              "    </tr>\n",
              "    <tr>\n",
              "      <th>411</th>\n",
              "      <td>pac-919791</td>\n",
              "      <td>variant</td>\n",
              "      <td>9.0</td>\n",
              "    </tr>\n",
              "    <tr>\n",
              "      <th>437</th>\n",
              "      <td>pac-921628</td>\n",
              "      <td>variant</td>\n",
              "      <td>28.8</td>\n",
              "    </tr>\n",
              "    <tr>\n",
              "      <th>418</th>\n",
              "      <td>pac-921628</td>\n",
              "      <td>variant</td>\n",
              "      <td>28.8</td>\n",
              "    </tr>\n",
              "  </tbody>\n",
              "</table>\n",
              "</div>\n",
              "    <div class=\"colab-df-buttons\">\n",
              "\n",
              "  <div class=\"colab-df-container\">\n",
              "    <button class=\"colab-df-convert\" onclick=\"convertToInteractive('df-c191dee0-ddaf-4a02-8dd6-b01aeb6bb608')\"\n",
              "            title=\"Convert this dataframe to an interactive table.\"\n",
              "            style=\"display:none;\">\n",
              "\n",
              "  <svg xmlns=\"http://www.w3.org/2000/svg\" height=\"24px\" viewBox=\"0 -960 960 960\">\n",
              "    <path d=\"M120-120v-720h720v720H120Zm60-500h600v-160H180v160Zm220 220h160v-160H400v160Zm0 220h160v-160H400v160ZM180-400h160v-160H180v160Zm440 0h160v-160H620v160ZM180-180h160v-160H180v160Zm440 0h160v-160H620v160Z\"/>\n",
              "  </svg>\n",
              "    </button>\n",
              "\n",
              "  <style>\n",
              "    .colab-df-container {\n",
              "      display:flex;\n",
              "      gap: 12px;\n",
              "    }\n",
              "\n",
              "    .colab-df-convert {\n",
              "      background-color: #E8F0FE;\n",
              "      border: none;\n",
              "      border-radius: 50%;\n",
              "      cursor: pointer;\n",
              "      display: none;\n",
              "      fill: #1967D2;\n",
              "      height: 32px;\n",
              "      padding: 0 0 0 0;\n",
              "      width: 32px;\n",
              "    }\n",
              "\n",
              "    .colab-df-convert:hover {\n",
              "      background-color: #E2EBFA;\n",
              "      box-shadow: 0px 1px 2px rgba(60, 64, 67, 0.3), 0px 1px 3px 1px rgba(60, 64, 67, 0.15);\n",
              "      fill: #174EA6;\n",
              "    }\n",
              "\n",
              "    .colab-df-buttons div {\n",
              "      margin-bottom: 4px;\n",
              "    }\n",
              "\n",
              "    [theme=dark] .colab-df-convert {\n",
              "      background-color: #3B4455;\n",
              "      fill: #D2E3FC;\n",
              "    }\n",
              "\n",
              "    [theme=dark] .colab-df-convert:hover {\n",
              "      background-color: #434B5C;\n",
              "      box-shadow: 0px 1px 3px 1px rgba(0, 0, 0, 0.15);\n",
              "      filter: drop-shadow(0px 1px 2px rgba(0, 0, 0, 0.3));\n",
              "      fill: #FFFFFF;\n",
              "    }\n",
              "  </style>\n",
              "\n",
              "    <script>\n",
              "      const buttonEl =\n",
              "        document.querySelector('#df-c191dee0-ddaf-4a02-8dd6-b01aeb6bb608 button.colab-df-convert');\n",
              "      buttonEl.style.display =\n",
              "        google.colab.kernel.accessAllowed ? 'block' : 'none';\n",
              "\n",
              "      async function convertToInteractive(key) {\n",
              "        const element = document.querySelector('#df-c191dee0-ddaf-4a02-8dd6-b01aeb6bb608');\n",
              "        const dataTable =\n",
              "          await google.colab.kernel.invokeFunction('convertToInteractive',\n",
              "                                                    [key], {});\n",
              "        if (!dataTable) return;\n",
              "\n",
              "        const docLinkHtml = 'Like what you see? Visit the ' +\n",
              "          '<a target=\"_blank\" href=https://colab.research.google.com/notebooks/data_table.ipynb>data table notebook</a>'\n",
              "          + ' to learn more about interactive tables.';\n",
              "        element.innerHTML = '';\n",
              "        dataTable['output_type'] = 'display_data';\n",
              "        await google.colab.output.renderOutput(dataTable, element);\n",
              "        const docLink = document.createElement('div');\n",
              "        docLink.innerHTML = docLinkHtml;\n",
              "        element.appendChild(docLink);\n",
              "      }\n",
              "    </script>\n",
              "  </div>\n",
              "\n",
              "\n",
              "    <div id=\"df-44c0de5b-92f2-4773-8d63-8df47f08a4f4\">\n",
              "      <button class=\"colab-df-quickchart\" onclick=\"quickchart('df-44c0de5b-92f2-4773-8d63-8df47f08a4f4')\"\n",
              "                title=\"Suggest charts\"\n",
              "                style=\"display:none;\">\n",
              "\n",
              "<svg xmlns=\"http://www.w3.org/2000/svg\" height=\"24px\"viewBox=\"0 0 24 24\"\n",
              "     width=\"24px\">\n",
              "    <g>\n",
              "        <path d=\"M19 3H5c-1.1 0-2 .9-2 2v14c0 1.1.9 2 2 2h14c1.1 0 2-.9 2-2V5c0-1.1-.9-2-2-2zM9 17H7v-7h2v7zm4 0h-2V7h2v10zm4 0h-2v-4h2v4z\"/>\n",
              "    </g>\n",
              "</svg>\n",
              "      </button>\n",
              "\n",
              "<style>\n",
              "  .colab-df-quickchart {\n",
              "      --bg-color: #E8F0FE;\n",
              "      --fill-color: #1967D2;\n",
              "      --hover-bg-color: #E2EBFA;\n",
              "      --hover-fill-color: #174EA6;\n",
              "      --disabled-fill-color: #AAA;\n",
              "      --disabled-bg-color: #DDD;\n",
              "  }\n",
              "\n",
              "  [theme=dark] .colab-df-quickchart {\n",
              "      --bg-color: #3B4455;\n",
              "      --fill-color: #D2E3FC;\n",
              "      --hover-bg-color: #434B5C;\n",
              "      --hover-fill-color: #FFFFFF;\n",
              "      --disabled-bg-color: #3B4455;\n",
              "      --disabled-fill-color: #666;\n",
              "  }\n",
              "\n",
              "  .colab-df-quickchart {\n",
              "    background-color: var(--bg-color);\n",
              "    border: none;\n",
              "    border-radius: 50%;\n",
              "    cursor: pointer;\n",
              "    display: none;\n",
              "    fill: var(--fill-color);\n",
              "    height: 32px;\n",
              "    padding: 0;\n",
              "    width: 32px;\n",
              "  }\n",
              "\n",
              "  .colab-df-quickchart:hover {\n",
              "    background-color: var(--hover-bg-color);\n",
              "    box-shadow: 0 1px 2px rgba(60, 64, 67, 0.3), 0 1px 3px 1px rgba(60, 64, 67, 0.15);\n",
              "    fill: var(--button-hover-fill-color);\n",
              "  }\n",
              "\n",
              "  .colab-df-quickchart-complete:disabled,\n",
              "  .colab-df-quickchart-complete:disabled:hover {\n",
              "    background-color: var(--disabled-bg-color);\n",
              "    fill: var(--disabled-fill-color);\n",
              "    box-shadow: none;\n",
              "  }\n",
              "\n",
              "  .colab-df-spinner {\n",
              "    border: 2px solid var(--fill-color);\n",
              "    border-color: transparent;\n",
              "    border-bottom-color: var(--fill-color);\n",
              "    animation:\n",
              "      spin 1s steps(1) infinite;\n",
              "  }\n",
              "\n",
              "  @keyframes spin {\n",
              "    0% {\n",
              "      border-color: transparent;\n",
              "      border-bottom-color: var(--fill-color);\n",
              "      border-left-color: var(--fill-color);\n",
              "    }\n",
              "    20% {\n",
              "      border-color: transparent;\n",
              "      border-left-color: var(--fill-color);\n",
              "      border-top-color: var(--fill-color);\n",
              "    }\n",
              "    30% {\n",
              "      border-color: transparent;\n",
              "      border-left-color: var(--fill-color);\n",
              "      border-top-color: var(--fill-color);\n",
              "      border-right-color: var(--fill-color);\n",
              "    }\n",
              "    40% {\n",
              "      border-color: transparent;\n",
              "      border-right-color: var(--fill-color);\n",
              "      border-top-color: var(--fill-color);\n",
              "    }\n",
              "    60% {\n",
              "      border-color: transparent;\n",
              "      border-right-color: var(--fill-color);\n",
              "    }\n",
              "    80% {\n",
              "      border-color: transparent;\n",
              "      border-right-color: var(--fill-color);\n",
              "      border-bottom-color: var(--fill-color);\n",
              "    }\n",
              "    90% {\n",
              "      border-color: transparent;\n",
              "      border-bottom-color: var(--fill-color);\n",
              "    }\n",
              "  }\n",
              "</style>\n",
              "\n",
              "      <script>\n",
              "        async function quickchart(key) {\n",
              "          const quickchartButtonEl =\n",
              "            document.querySelector('#' + key + ' button');\n",
              "          quickchartButtonEl.disabled = true;  // To prevent multiple clicks.\n",
              "          quickchartButtonEl.classList.add('colab-df-spinner');\n",
              "          try {\n",
              "            const charts = await google.colab.kernel.invokeFunction(\n",
              "                'suggestCharts', [key], {});\n",
              "          } catch (error) {\n",
              "            console.error('Error during call to suggestCharts:', error);\n",
              "          }\n",
              "          quickchartButtonEl.classList.remove('colab-df-spinner');\n",
              "          quickchartButtonEl.classList.add('colab-df-quickchart-complete');\n",
              "        }\n",
              "        (() => {\n",
              "          let quickchartButtonEl =\n",
              "            document.querySelector('#df-44c0de5b-92f2-4773-8d63-8df47f08a4f4 button');\n",
              "          quickchartButtonEl.style.display =\n",
              "            google.colab.kernel.accessAllowed ? 'block' : 'none';\n",
              "        })();\n",
              "      </script>\n",
              "    </div>\n",
              "\n",
              "  <div id=\"id_1ea45afb-2af1-4039-8384-a06535f92051\">\n",
              "    <style>\n",
              "      .colab-df-generate {\n",
              "        background-color: #E8F0FE;\n",
              "        border: none;\n",
              "        border-radius: 50%;\n",
              "        cursor: pointer;\n",
              "        display: none;\n",
              "        fill: #1967D2;\n",
              "        height: 32px;\n",
              "        padding: 0 0 0 0;\n",
              "        width: 32px;\n",
              "      }\n",
              "\n",
              "      .colab-df-generate:hover {\n",
              "        background-color: #E2EBFA;\n",
              "        box-shadow: 0px 1px 2px rgba(60, 64, 67, 0.3), 0px 1px 3px 1px rgba(60, 64, 67, 0.15);\n",
              "        fill: #174EA6;\n",
              "      }\n",
              "\n",
              "      [theme=dark] .colab-df-generate {\n",
              "        background-color: #3B4455;\n",
              "        fill: #D2E3FC;\n",
              "      }\n",
              "\n",
              "      [theme=dark] .colab-df-generate:hover {\n",
              "        background-color: #434B5C;\n",
              "        box-shadow: 0px 1px 3px 1px rgba(0, 0, 0, 0.15);\n",
              "        filter: drop-shadow(0px 1px 2px rgba(0, 0, 0, 0.3));\n",
              "        fill: #FFFFFF;\n",
              "      }\n",
              "    </style>\n",
              "    <button class=\"colab-df-generate\" onclick=\"generateWithVariable('data_dup')\"\n",
              "            title=\"Generate code using this dataframe.\"\n",
              "            style=\"display:none;\">\n",
              "\n",
              "  <svg xmlns=\"http://www.w3.org/2000/svg\" height=\"24px\"viewBox=\"0 0 24 24\"\n",
              "       width=\"24px\">\n",
              "    <path d=\"M7,19H8.4L18.45,9,17,7.55,7,17.6ZM5,21V16.75L18.45,3.32a2,2,0,0,1,2.83,0l1.4,1.43a1.91,1.91,0,0,1,.58,1.4,1.91,1.91,0,0,1-.58,1.4L9.25,21ZM18.45,9,17,7.55Zm-12,3A5.31,5.31,0,0,0,4.9,8.1,5.31,5.31,0,0,0,1,6.5,5.31,5.31,0,0,0,4.9,4.9,5.31,5.31,0,0,0,6.5,1,5.31,5.31,0,0,0,8.1,4.9,5.31,5.31,0,0,0,12,6.5,5.46,5.46,0,0,0,6.5,12Z\"/>\n",
              "  </svg>\n",
              "    </button>\n",
              "    <script>\n",
              "      (() => {\n",
              "      const buttonEl =\n",
              "        document.querySelector('#id_1ea45afb-2af1-4039-8384-a06535f92051 button.colab-df-generate');\n",
              "      buttonEl.style.display =\n",
              "        google.colab.kernel.accessAllowed ? 'block' : 'none';\n",
              "\n",
              "      buttonEl.onclick = () => {\n",
              "        google.colab.notebook.generateWithVariable('data_dup');\n",
              "      }\n",
              "      })();\n",
              "    </script>\n",
              "  </div>\n",
              "\n",
              "    </div>\n",
              "  </div>\n"
            ],
            "application/vnd.google.colaboratory.intrinsic+json": {
              "type": "dataframe",
              "variable_name": "data_dup",
              "summary": "{\n  \"name\": \"data_dup\",\n  \"rows\": 38,\n  \"fields\": [\n    {\n      \"column\": \"USER_ID\",\n      \"properties\": {\n        \"dtype\": \"string\",\n        \"num_unique_values\": 19,\n        \"samples\": [\n          \"pac-662210\",\n          \"pac-833696\",\n          \"pac-866500\"\n        ],\n        \"semantic_type\": \"\",\n        \"description\": \"\"\n      }\n    },\n    {\n      \"column\": \"VARIANT_NAME\",\n      \"properties\": {\n        \"dtype\": \"category\",\n        \"num_unique_values\": 1,\n        \"samples\": [\n          \"variant\"\n        ],\n        \"semantic_type\": \"\",\n        \"description\": \"\"\n      }\n    },\n    {\n      \"column\": \"REVENUE\",\n      \"properties\": {\n        \"dtype\": \"number\",\n        \"std\": 45.41211135536961,\n        \"min\": 5.0,\n        \"max\": 130.8,\n        \"num_unique_values\": 18,\n        \"samples\": [\n          7.5\n        ],\n        \"semantic_type\": \"\",\n        \"description\": \"\"\n      }\n    }\n  ]\n}"
            }
          },
          "metadata": {},
          "execution_count": 6
        }
      ]
    },
    {
      "cell_type": "code",
      "source": [
        "# Drop duplicate\n",
        "data.drop_duplicates(subset='USER_ID',keep='first',inplace=True)  #yang di keep yang pertama karena yang pertama adalah data yg pertama kali dicatat.\n",
        "data.shape"
      ],
      "metadata": {
        "id": "-ikfTpfu1Igm",
        "colab": {
          "base_uri": "https://localhost:8080/"
        },
        "outputId": "fb758202-f5ba-4345-909b-510a5d18e27a"
      },
      "execution_count": 7,
      "outputs": [
        {
          "output_type": "execute_result",
          "data": {
            "text/plain": [
              "(425, 3)"
            ]
          },
          "metadata": {},
          "execution_count": 7
        }
      ]
    },
    {
      "cell_type": "code",
      "source": [
        "# Checking missing value\n",
        "data.isna().sum()"
      ],
      "metadata": {
        "id": "YxrqbT-g1JeI",
        "colab": {
          "base_uri": "https://localhost:8080/",
          "height": 178
        },
        "outputId": "2b669831-0c4b-47f5-cfd5-d6c77993fe47"
      },
      "execution_count": 8,
      "outputs": [
        {
          "output_type": "execute_result",
          "data": {
            "text/plain": [
              "USER_ID         0\n",
              "VARIANT_NAME    0\n",
              "REVENUE         0\n",
              "dtype: int64"
            ],
            "text/html": [
              "<div>\n",
              "<style scoped>\n",
              "    .dataframe tbody tr th:only-of-type {\n",
              "        vertical-align: middle;\n",
              "    }\n",
              "\n",
              "    .dataframe tbody tr th {\n",
              "        vertical-align: top;\n",
              "    }\n",
              "\n",
              "    .dataframe thead th {\n",
              "        text-align: right;\n",
              "    }\n",
              "</style>\n",
              "<table border=\"1\" class=\"dataframe\">\n",
              "  <thead>\n",
              "    <tr style=\"text-align: right;\">\n",
              "      <th></th>\n",
              "      <th>0</th>\n",
              "    </tr>\n",
              "  </thead>\n",
              "  <tbody>\n",
              "    <tr>\n",
              "      <th>USER_ID</th>\n",
              "      <td>0</td>\n",
              "    </tr>\n",
              "    <tr>\n",
              "      <th>VARIANT_NAME</th>\n",
              "      <td>0</td>\n",
              "    </tr>\n",
              "    <tr>\n",
              "      <th>REVENUE</th>\n",
              "      <td>0</td>\n",
              "    </tr>\n",
              "  </tbody>\n",
              "</table>\n",
              "</div><br><label><b>dtype:</b> int64</label>"
            ]
          },
          "metadata": {},
          "execution_count": 8
        }
      ]
    },
    {
      "cell_type": "code",
      "source": [
        "# describe stats\n",
        "data.describe()"
      ],
      "metadata": {
        "id": "XeE4mBtb1W04",
        "colab": {
          "base_uri": "https://localhost:8080/",
          "height": 301
        },
        "outputId": "980cee64-033a-456d-bbc2-80e922682462"
      },
      "execution_count": 9,
      "outputs": [
        {
          "output_type": "execute_result",
          "data": {
            "text/plain": [
              "          REVENUE\n",
              "count  425.000000\n",
              "mean    74.908235\n",
              "std     42.034769\n",
              "min      2.200000\n",
              "25%     39.300000\n",
              "50%     75.000000\n",
              "75%    109.600000\n",
              "max    150.000000"
            ],
            "text/html": [
              "\n",
              "  <div id=\"df-eefca39f-ac4f-404d-8f1f-95e418207405\" class=\"colab-df-container\">\n",
              "    <div>\n",
              "<style scoped>\n",
              "    .dataframe tbody tr th:only-of-type {\n",
              "        vertical-align: middle;\n",
              "    }\n",
              "\n",
              "    .dataframe tbody tr th {\n",
              "        vertical-align: top;\n",
              "    }\n",
              "\n",
              "    .dataframe thead th {\n",
              "        text-align: right;\n",
              "    }\n",
              "</style>\n",
              "<table border=\"1\" class=\"dataframe\">\n",
              "  <thead>\n",
              "    <tr style=\"text-align: right;\">\n",
              "      <th></th>\n",
              "      <th>REVENUE</th>\n",
              "    </tr>\n",
              "  </thead>\n",
              "  <tbody>\n",
              "    <tr>\n",
              "      <th>count</th>\n",
              "      <td>425.000000</td>\n",
              "    </tr>\n",
              "    <tr>\n",
              "      <th>mean</th>\n",
              "      <td>74.908235</td>\n",
              "    </tr>\n",
              "    <tr>\n",
              "      <th>std</th>\n",
              "      <td>42.034769</td>\n",
              "    </tr>\n",
              "    <tr>\n",
              "      <th>min</th>\n",
              "      <td>2.200000</td>\n",
              "    </tr>\n",
              "    <tr>\n",
              "      <th>25%</th>\n",
              "      <td>39.300000</td>\n",
              "    </tr>\n",
              "    <tr>\n",
              "      <th>50%</th>\n",
              "      <td>75.000000</td>\n",
              "    </tr>\n",
              "    <tr>\n",
              "      <th>75%</th>\n",
              "      <td>109.600000</td>\n",
              "    </tr>\n",
              "    <tr>\n",
              "      <th>max</th>\n",
              "      <td>150.000000</td>\n",
              "    </tr>\n",
              "  </tbody>\n",
              "</table>\n",
              "</div>\n",
              "    <div class=\"colab-df-buttons\">\n",
              "\n",
              "  <div class=\"colab-df-container\">\n",
              "    <button class=\"colab-df-convert\" onclick=\"convertToInteractive('df-eefca39f-ac4f-404d-8f1f-95e418207405')\"\n",
              "            title=\"Convert this dataframe to an interactive table.\"\n",
              "            style=\"display:none;\">\n",
              "\n",
              "  <svg xmlns=\"http://www.w3.org/2000/svg\" height=\"24px\" viewBox=\"0 -960 960 960\">\n",
              "    <path d=\"M120-120v-720h720v720H120Zm60-500h600v-160H180v160Zm220 220h160v-160H400v160Zm0 220h160v-160H400v160ZM180-400h160v-160H180v160Zm440 0h160v-160H620v160ZM180-180h160v-160H180v160Zm440 0h160v-160H620v160Z\"/>\n",
              "  </svg>\n",
              "    </button>\n",
              "\n",
              "  <style>\n",
              "    .colab-df-container {\n",
              "      display:flex;\n",
              "      gap: 12px;\n",
              "    }\n",
              "\n",
              "    .colab-df-convert {\n",
              "      background-color: #E8F0FE;\n",
              "      border: none;\n",
              "      border-radius: 50%;\n",
              "      cursor: pointer;\n",
              "      display: none;\n",
              "      fill: #1967D2;\n",
              "      height: 32px;\n",
              "      padding: 0 0 0 0;\n",
              "      width: 32px;\n",
              "    }\n",
              "\n",
              "    .colab-df-convert:hover {\n",
              "      background-color: #E2EBFA;\n",
              "      box-shadow: 0px 1px 2px rgba(60, 64, 67, 0.3), 0px 1px 3px 1px rgba(60, 64, 67, 0.15);\n",
              "      fill: #174EA6;\n",
              "    }\n",
              "\n",
              "    .colab-df-buttons div {\n",
              "      margin-bottom: 4px;\n",
              "    }\n",
              "\n",
              "    [theme=dark] .colab-df-convert {\n",
              "      background-color: #3B4455;\n",
              "      fill: #D2E3FC;\n",
              "    }\n",
              "\n",
              "    [theme=dark] .colab-df-convert:hover {\n",
              "      background-color: #434B5C;\n",
              "      box-shadow: 0px 1px 3px 1px rgba(0, 0, 0, 0.15);\n",
              "      filter: drop-shadow(0px 1px 2px rgba(0, 0, 0, 0.3));\n",
              "      fill: #FFFFFF;\n",
              "    }\n",
              "  </style>\n",
              "\n",
              "    <script>\n",
              "      const buttonEl =\n",
              "        document.querySelector('#df-eefca39f-ac4f-404d-8f1f-95e418207405 button.colab-df-convert');\n",
              "      buttonEl.style.display =\n",
              "        google.colab.kernel.accessAllowed ? 'block' : 'none';\n",
              "\n",
              "      async function convertToInteractive(key) {\n",
              "        const element = document.querySelector('#df-eefca39f-ac4f-404d-8f1f-95e418207405');\n",
              "        const dataTable =\n",
              "          await google.colab.kernel.invokeFunction('convertToInteractive',\n",
              "                                                    [key], {});\n",
              "        if (!dataTable) return;\n",
              "\n",
              "        const docLinkHtml = 'Like what you see? Visit the ' +\n",
              "          '<a target=\"_blank\" href=https://colab.research.google.com/notebooks/data_table.ipynb>data table notebook</a>'\n",
              "          + ' to learn more about interactive tables.';\n",
              "        element.innerHTML = '';\n",
              "        dataTable['output_type'] = 'display_data';\n",
              "        await google.colab.output.renderOutput(dataTable, element);\n",
              "        const docLink = document.createElement('div');\n",
              "        docLink.innerHTML = docLinkHtml;\n",
              "        element.appendChild(docLink);\n",
              "      }\n",
              "    </script>\n",
              "  </div>\n",
              "\n",
              "\n",
              "    <div id=\"df-75224d5f-e81f-4819-a19f-998fdb196d4c\">\n",
              "      <button class=\"colab-df-quickchart\" onclick=\"quickchart('df-75224d5f-e81f-4819-a19f-998fdb196d4c')\"\n",
              "                title=\"Suggest charts\"\n",
              "                style=\"display:none;\">\n",
              "\n",
              "<svg xmlns=\"http://www.w3.org/2000/svg\" height=\"24px\"viewBox=\"0 0 24 24\"\n",
              "     width=\"24px\">\n",
              "    <g>\n",
              "        <path d=\"M19 3H5c-1.1 0-2 .9-2 2v14c0 1.1.9 2 2 2h14c1.1 0 2-.9 2-2V5c0-1.1-.9-2-2-2zM9 17H7v-7h2v7zm4 0h-2V7h2v10zm4 0h-2v-4h2v4z\"/>\n",
              "    </g>\n",
              "</svg>\n",
              "      </button>\n",
              "\n",
              "<style>\n",
              "  .colab-df-quickchart {\n",
              "      --bg-color: #E8F0FE;\n",
              "      --fill-color: #1967D2;\n",
              "      --hover-bg-color: #E2EBFA;\n",
              "      --hover-fill-color: #174EA6;\n",
              "      --disabled-fill-color: #AAA;\n",
              "      --disabled-bg-color: #DDD;\n",
              "  }\n",
              "\n",
              "  [theme=dark] .colab-df-quickchart {\n",
              "      --bg-color: #3B4455;\n",
              "      --fill-color: #D2E3FC;\n",
              "      --hover-bg-color: #434B5C;\n",
              "      --hover-fill-color: #FFFFFF;\n",
              "      --disabled-bg-color: #3B4455;\n",
              "      --disabled-fill-color: #666;\n",
              "  }\n",
              "\n",
              "  .colab-df-quickchart {\n",
              "    background-color: var(--bg-color);\n",
              "    border: none;\n",
              "    border-radius: 50%;\n",
              "    cursor: pointer;\n",
              "    display: none;\n",
              "    fill: var(--fill-color);\n",
              "    height: 32px;\n",
              "    padding: 0;\n",
              "    width: 32px;\n",
              "  }\n",
              "\n",
              "  .colab-df-quickchart:hover {\n",
              "    background-color: var(--hover-bg-color);\n",
              "    box-shadow: 0 1px 2px rgba(60, 64, 67, 0.3), 0 1px 3px 1px rgba(60, 64, 67, 0.15);\n",
              "    fill: var(--button-hover-fill-color);\n",
              "  }\n",
              "\n",
              "  .colab-df-quickchart-complete:disabled,\n",
              "  .colab-df-quickchart-complete:disabled:hover {\n",
              "    background-color: var(--disabled-bg-color);\n",
              "    fill: var(--disabled-fill-color);\n",
              "    box-shadow: none;\n",
              "  }\n",
              "\n",
              "  .colab-df-spinner {\n",
              "    border: 2px solid var(--fill-color);\n",
              "    border-color: transparent;\n",
              "    border-bottom-color: var(--fill-color);\n",
              "    animation:\n",
              "      spin 1s steps(1) infinite;\n",
              "  }\n",
              "\n",
              "  @keyframes spin {\n",
              "    0% {\n",
              "      border-color: transparent;\n",
              "      border-bottom-color: var(--fill-color);\n",
              "      border-left-color: var(--fill-color);\n",
              "    }\n",
              "    20% {\n",
              "      border-color: transparent;\n",
              "      border-left-color: var(--fill-color);\n",
              "      border-top-color: var(--fill-color);\n",
              "    }\n",
              "    30% {\n",
              "      border-color: transparent;\n",
              "      border-left-color: var(--fill-color);\n",
              "      border-top-color: var(--fill-color);\n",
              "      border-right-color: var(--fill-color);\n",
              "    }\n",
              "    40% {\n",
              "      border-color: transparent;\n",
              "      border-right-color: var(--fill-color);\n",
              "      border-top-color: var(--fill-color);\n",
              "    }\n",
              "    60% {\n",
              "      border-color: transparent;\n",
              "      border-right-color: var(--fill-color);\n",
              "    }\n",
              "    80% {\n",
              "      border-color: transparent;\n",
              "      border-right-color: var(--fill-color);\n",
              "      border-bottom-color: var(--fill-color);\n",
              "    }\n",
              "    90% {\n",
              "      border-color: transparent;\n",
              "      border-bottom-color: var(--fill-color);\n",
              "    }\n",
              "  }\n",
              "</style>\n",
              "\n",
              "      <script>\n",
              "        async function quickchart(key) {\n",
              "          const quickchartButtonEl =\n",
              "            document.querySelector('#' + key + ' button');\n",
              "          quickchartButtonEl.disabled = true;  // To prevent multiple clicks.\n",
              "          quickchartButtonEl.classList.add('colab-df-spinner');\n",
              "          try {\n",
              "            const charts = await google.colab.kernel.invokeFunction(\n",
              "                'suggestCharts', [key], {});\n",
              "          } catch (error) {\n",
              "            console.error('Error during call to suggestCharts:', error);\n",
              "          }\n",
              "          quickchartButtonEl.classList.remove('colab-df-spinner');\n",
              "          quickchartButtonEl.classList.add('colab-df-quickchart-complete');\n",
              "        }\n",
              "        (() => {\n",
              "          let quickchartButtonEl =\n",
              "            document.querySelector('#df-75224d5f-e81f-4819-a19f-998fdb196d4c button');\n",
              "          quickchartButtonEl.style.display =\n",
              "            google.colab.kernel.accessAllowed ? 'block' : 'none';\n",
              "        })();\n",
              "      </script>\n",
              "    </div>\n",
              "\n",
              "    </div>\n",
              "  </div>\n"
            ],
            "application/vnd.google.colaboratory.intrinsic+json": {
              "type": "dataframe",
              "summary": "{\n  \"name\": \"data\",\n  \"rows\": 8,\n  \"fields\": [\n    {\n      \"column\": \"REVENUE\",\n      \"properties\": {\n        \"dtype\": \"number\",\n        \"std\": 133.27698640596554,\n        \"min\": 2.2,\n        \"max\": 425.0,\n        \"num_unique_values\": 8,\n        \"samples\": [\n          74.90823529411766,\n          75.0,\n          425.0\n        ],\n        \"semantic_type\": \"\",\n        \"description\": \"\"\n      }\n    }\n  ]\n}"
            }
          },
          "metadata": {},
          "execution_count": 9
        }
      ]
    },
    {
      "cell_type": "code",
      "source": [
        "# bins = 10\n",
        "fig, ax = plt.subplots(figsize =(10, 7))\n",
        "ax.hist(data['REVENUE'],bins=10)\n",
        "\n",
        "# Show plot\n",
        "plt.xlabel('revenue per user')\n",
        "plt.ylabel('frequency')"
      ],
      "metadata": {
        "id": "qJ3aSOE01YKQ",
        "colab": {
          "base_uri": "https://localhost:8080/",
          "height": 636
        },
        "outputId": "3a2c2f48-5905-4fc3-e267-9f11fca3859e"
      },
      "execution_count": 10,
      "outputs": [
        {
          "output_type": "execute_result",
          "data": {
            "text/plain": [
              "Text(0, 0.5, 'frequency')"
            ]
          },
          "metadata": {},
          "execution_count": 10
        },
        {
          "output_type": "display_data",
          "data": {
            "text/plain": [
              "<Figure size 1000x700 with 1 Axes>"
            ],
            "image/png": "[encoded data removed]"
          },
          "metadata": {}
        }
      ]
    },
    {
      "cell_type": "code",
      "source": [
        "# bins = 20\n",
        "fig, ax = plt.subplots(figsize =(10, 7))\n",
        "ax.hist(data['REVENUE'],bins=20)\n",
        "\n",
        "# Show plot\n",
        "plt.xlabel('revenue per user')\n",
        "plt.ylabel('frequency')"
      ],
      "metadata": {
        "id": "9JwxNWNx1ZW4",
        "colab": {
          "base_uri": "https://localhost:8080/",
          "height": 636
        },
        "outputId": "638d06d3-4e5d-4d22-f069-d5cd2d210d18"
      },
      "execution_count": 11,
      "outputs": [
        {
          "output_type": "execute_result",
          "data": {
            "text/plain": [
              "Text(0, 0.5, 'frequency')"
            ]
          },
          "metadata": {},
          "execution_count": 11
        },
        {
          "output_type": "display_data",
          "data": {
            "text/plain": [
              "<Figure size 1000x700 with 1 Axes>"
            ],
            "image/png": "[encoded data removed]"
          },
          "metadata": {}
        }
      ]
    },
    {
      "cell_type": "code",
      "source": [
        "# bins = 30\n",
        "fig, ax = plt.subplots(figsize =(10, 7))\n",
        "ax.hist(data['REVENUE'],bins=30)\n",
        "\n",
        "# Show plot\n",
        "plt.xlabel('revenue per user')\n",
        "plt.ylabel('frequency')"
      ],
      "metadata": {
        "id": "YGTu837O1ahL",
        "colab": {
          "base_uri": "https://localhost:8080/",
          "height": 634
        },
        "outputId": "2dcaac8e-83a8-446b-ff01-56eb11ada2cd"
      },
      "execution_count": 12,
      "outputs": [
        {
          "output_type": "execute_result",
          "data": {
            "text/plain": [
              "Text(0, 0.5, 'frequency')"
            ]
          },
          "metadata": {},
          "execution_count": 12
        },
        {
          "output_type": "display_data",
          "data": {
            "text/plain": [
              "<Figure size 1000x700 with 1 Axes>"
            ],
            "image/png": "[encoded data removed]"
          },
          "metadata": {}
        }
      ]
    },
    {
      "cell_type": "markdown",
      "source": [
        "<font color=\"blue\">QUESTION!</font>\n",
        "\n",
        "*Based on the descriptive statistics and histogram above, can you conclude that the average revenue for a new website design is over $73?*\n",
        "- [ ] Yes\n",
        "- [ ] No\n"
      ],
      "metadata": {
        "id": "VZdVEEmp1dB8"
      }
    },
    {
      "cell_type": "markdown",
      "source": [],
      "metadata": {
        "id": "F7Xy0q7K1o7e"
      }
    },
    {
      "cell_type": "markdown",
      "source": [
        "### 3. Define $H_0, H_1$, significance level, and statistical test"
      ],
      "metadata": {
        "id": "tLKP57vh1eev"
      }
    },
    {
      "cell_type": "markdown",
      "source": [
        "Since we want to test whether the average revenue for new websites is over \\$$73$, we can determine $H_0$ and $H_1$ as follow :\n",
        ">$H_0$ : $\\mu≤73$<br>\n",
        "$H_1$ : $\\mu>73$<br>\n",
        "\n",
        "Next, we set a significant level of 0.2<br>\n",
        ">$\\alpha=0.2$\n"
      ],
      "metadata": {
        "id": "2iRQtxKp1f44"
      }
    },
    {
      "cell_type": "markdown",
      "source": [
        "### 4.  Determine the statistical test and calculate it"
      ],
      "metadata": {
        "id": "bxvaVHhr1hWM"
      }
    },
    {
      "cell_type": "markdown",
      "source": [
        "<font color=\"blue\">QUESTION!</font>\n",
        "\n",
        "*Based on case company A, what statistical test is suitable*\n",
        "- [ ] t-test\n",
        "- [ ] z-test\n"
      ],
      "metadata": {
        "id": "7MDWfRtM1ie_"
      }
    },
    {
      "cell_type": "markdown",
      "source": [
        "<details>\n",
        "    <summary><b>Click to show the answer key</b></summary>\n",
        "\n",
        "*Based on case company A, what statistical test is suitable*\n",
        "- [x] t-test\n",
        "- [ ] z-test\n",
        "\n",
        "\n",
        "<font color=\"blue\">Explanation</font><br>\n",
        "Site revenue data from company A is sample data, so the population variance is unknown. So that the appropriate statistical test is the t-test.\n",
        "\n",
        "</details>"
      ],
      "metadata": {
        "id": "m1IdSqOc1j3G"
      }
    },
    {
      "cell_type": "code",
      "source": [
        "# import library scipy\n",
        "import scipy.stats as stats"
      ],
      "metadata": {
        "id": "YGW6TobZ1k9-"
      },
      "execution_count": 13,
      "outputs": []
    },
    {
      "cell_type": "markdown",
      "source": [
        "- We use the `ttest_1samp()` function to calculate the t-statistics and p-values.\n",
        "\n",
        "```python\n",
        "t_stats, pval = ttest_1samp(a = ...,\n",
        "                            popmean = ...,\n",
        "                            alternative = ...)\n",
        "```\n",
        "which\n",
        "- `a` : sample data or observations\n",
        "- `popmean` : Expected value in null hypothesis\n",
        "- `alternative` : depending on the alternative hypothesis ($H_1$)\n",
        "    - If $H_1$ is not equal to a certain value, we use `two-sided`\n",
        "    - if $H_1$ is greater by a certain value, we use `less`\n",
        "    - If $H_1$ is greater by a certain value, we use `greater`\n"
      ],
      "metadata": {
        "id": "6AQZtBQ41rVv"
      }
    },
    {
      "cell_type": "code",
      "source": [
        "t_stats, p_value = stats.ttest_1samp(a=data['REVENUE'],\n",
        "                                     popmean=73,\n",
        "                                     alternative = 'greater')\n",
        "\n",
        "print(f\"T_statistic value : {t_stats:.3f}\")\n",
        "print(f\"P-value : {p_value:.3f}\")"
      ],
      "metadata": {
        "id": "bspXmuqR1s8q",
        "colab": {
          "base_uri": "https://localhost:8080/"
        },
        "outputId": "0a8b5cd5-e542-422b-fb21-0b4f2b91b1d3"
      },
      "execution_count": 14,
      "outputs": [
        {
          "output_type": "stream",
          "name": "stdout",
          "text": [
            "T_statistic value : 0.936\n",
            "P-value : 0.175\n"
          ]
        }
      ]
    },
    {
      "cell_type": "markdown",
      "source": [
        "### 5. Create decision rules"
      ],
      "metadata": {
        "id": "iaMp1BP_1usq"
      }
    },
    {
      "cell_type": "code",
      "source": [
        "# Comparison of t-statistics with critical values\n",
        "# We have to calculate the t-critical first\n",
        "\n",
        "# t critical is the z-value at alpha\n",
        "alpha = 0.2\n",
        "df = data.shape[0]-1   #df = n-1\n",
        "\n",
        "t_critical = stats.t.ppf(1 - alpha, df)\n",
        "print(f\"t-Critical : {t_critical:.3f}\")"
      ],
      "metadata": {
        "id": "6sO_9CVd1vtO",
        "colab": {
          "base_uri": "https://localhost:8080/"
        },
        "outputId": "5918929e-cf71-4a35-967d-cb41cd8e0127"
      },
      "execution_count": 15,
      "outputs": [
        {
          "output_type": "stream",
          "name": "stdout",
          "text": [
            "t-Critical : 0.842\n"
          ]
        }
      ]
    },
    {
      "cell_type": "code",
      "source": [
        "# Make decisions from t-stats and t-crit\n",
        "if t_stats > t_critical:\n",
        "  print(\"Decision : Reject Null Hypothesis\")\n",
        "else:\n",
        "  print(\"Decision : Fail to Reject Null Hypothesis\")"
      ],
      "metadata": {
        "id": "6POIL4sO1w-H",
        "colab": {
          "base_uri": "https://localhost:8080/"
        },
        "outputId": "69dfd511-fd26-4d3f-fab8-df3a90e42f15"
      },
      "execution_count": 16,
      "outputs": [
        {
          "output_type": "stream",
          "name": "stdout",
          "text": [
            "Decision : Reject Null Hypothesis\n"
          ]
        }
      ]
    },
    {
      "cell_type": "code",
      "source": [
        "# Comparison of P-Value with alpha.\n",
        "if(p_value <  alpha):\n",
        "  print(\"Decision : Reject Null Hypothesis\")\n",
        "else:\n",
        "  print(\"Decision : Fail to Reject Null Hypothesis\")"
      ],
      "metadata": {
        "id": "xTxdkcpi1yIS",
        "colab": {
          "base_uri": "https://localhost:8080/"
        },
        "outputId": "01660726-1c43-45ab-ce8d-164a2b4c709d"
      },
      "execution_count": 17,
      "outputs": [
        {
          "output_type": "stream",
          "name": "stdout",
          "text": [
            "Decision : Reject Null Hypothesis\n"
          ]
        }
      ]
    },
    {
      "cell_type": "markdown",
      "source": [
        "### 6. Visualization\n"
      ],
      "metadata": {
        "id": "yIEfZU7a10o4"
      }
    },
    {
      "cell_type": "code",
      "source": [
        "fig, ax = plt.subplots(nrows=1, ncols=1, figsize=(10, 7))\n",
        "\n",
        "# plot sample distribution\n",
        "x_sample = np.arange(-4., 4., 0.001)\n",
        "y_sample = stats.t.pdf(x_sample,df)\n",
        "ax.plot(x_sample, y_sample,\n",
        "        color = \"blue\")\n",
        "\n",
        "# Plot alpha region (red)\n",
        "x_alpha = np.arange(t_critical, 4., 0.001)\n",
        "y_alpha = stats.t.pdf(x_alpha,df)\n",
        "ax.fill_between(x = x_alpha,\n",
        "                y1 = y_alpha,\n",
        "                facecolor = \"red\",\n",
        "                alpha = .35,\n",
        "                label = \"alpha\")\n",
        "\n",
        "\n",
        "# plot sample region (green)\n",
        "x_test = np.arange(t_stats, 4., 0.001)\n",
        "y_test = stats.t.pdf(x_test,df)\n",
        "ax.fill_between(x = x_test,\n",
        "                y1 = y_test,\n",
        "                facecolor = \"green\",\n",
        "                alpha = .35,\n",
        "                label = \"pvalue\")\n",
        "\n",
        "\n",
        "# Plot vertical line alpha\n",
        "ax.axvline(t_critical,\n",
        "           color = \"red\",\n",
        "           linestyle = \"--\",\n",
        "           label = \"t-critical\")\n",
        "\n",
        "# Plot vertical line test\n",
        "ax.axvline(t_stats,\n",
        "           color = \"green\",\n",
        "           linestyle = \"--\",\n",
        "           label = \"t-statistics\")\n",
        "\n",
        "# Styling plot\n",
        "ax.set_xlabel(\"t\", fontsize=16)\n",
        "ax.set_ylabel(\"density\", fontsize=16)\n",
        "\n",
        "plt.legend(fontsize=10)\n",
        "plt.show()\n",
        "\n",
        "print(f\"t-statistics: {t_stats:.4f}\")\n",
        "print(f\"t-critical : {t_critical:.4f}\")"
      ],
      "metadata": {
        "id": "PGC5KsKP11ou",
        "colab": {
          "base_uri": "https://localhost:8080/",
          "height": 654
        },
        "outputId": "9642275b-2841-4cd7-dc7d-a9c139b19205"
      },
      "execution_count": 18,
      "outputs": [
        {
          "output_type": "display_data",
          "data": {
            "text/plain": [
              "<Figure size 1000x700 with 1 Axes>"
            ],
            "image/png": "[encoded data removed]"
          },
          "metadata": {}
        },
        {
          "output_type": "stream",
          "name": "stdout",
          "text": [
            "t-statistics: 0.9359\n",
            "t-critical : 0.8425\n"
          ]
        }
      ]
    },
    {
      "cell_type": "markdown",
      "source": [
        "### 7. Conclusion"
      ],
      "metadata": {
        "id": "YsGOD1Jq13vg"
      }
    },
    {
      "cell_type": "markdown",
      "source": [
        "- With a CL of 80%, the decision to test the hypothesis using both p-value and t-statistics gives the same result, so the decision is rejecting $H_0$.\n",
        "\n",
        "- So, we can conclude that the website revenue earned from the new design is greater than 73 dollars or less than equal to 73 dollars."
      ],
      "metadata": {
        "id": "br6y0USw15CB"
      }
    },
    {
      "cell_type": "markdown",
      "source": [
        "----\n",
        "### Hypothesis Testing with confidence level 5%\n",
        "----"
      ],
      "metadata": {
        "id": "K11XJOpl190C"
      }
    },
    {
      "cell_type": "code",
      "source": [
        "t_stats2, p_value2 = stats.ttest_1samp(a=data['REVENUE'],\n",
        "                                     popmean=73,\n",
        "                                     alternative = 'greater')\n",
        "\n",
        "print(f\"T_statistic value : {t_stats:.3f}\")\n",
        "print(f\"P-value : {p_value:.3f}\")"
      ],
      "metadata": {
        "id": "ebf-Wpt_1-6O",
        "colab": {
          "base_uri": "https://localhost:8080/"
        },
        "outputId": "78552ad4-aaaf-4b90-fe96-6cfbd71a6315"
      },
      "execution_count": 19,
      "outputs": [
        {
          "output_type": "stream",
          "name": "stdout",
          "text": [
            "T_statistic value : 0.936\n",
            "P-value : 0.175\n"
          ]
        }
      ]
    },
    {
      "cell_type": "code",
      "source": [
        "# Comparison of t-statistics with critical values\n",
        "# We have to calculate the t-critical first\n",
        "\n",
        "# t critical is the z-value at alpha\n",
        "alpha2 = 0.05\n",
        "df2 = data.shape[0]-1   #df = n-1\n",
        "\n",
        "t_critical2 = stats.t.ppf(1 - alpha2, df2)\n",
        "print(f\"t-Critical : {t_critical2:.3f}\")"
      ],
      "metadata": {
        "id": "vitnC2AE1_wO",
        "colab": {
          "base_uri": "https://localhost:8080/"
        },
        "outputId": "af39d5d3-24a4-4c83-cc4e-e77c8aaf20d7"
      },
      "execution_count": 20,
      "outputs": [
        {
          "output_type": "stream",
          "name": "stdout",
          "text": [
            "t-Critical : 1.648\n"
          ]
        }
      ]
    },
    {
      "cell_type": "code",
      "source": [
        "# Make decisions from t-stats and t-crit\n",
        "if t_stats2 > t_critical2:\n",
        "  print(\"Decision : Reject Null Hypothesis\")\n",
        "else:\n",
        "  print(\"Decision : Fail to Reject Null Hypothesis\")"
      ],
      "metadata": {
        "id": "lJZ5MScQ2At_",
        "colab": {
          "base_uri": "https://localhost:8080/"
        },
        "outputId": "ec1a4972-1605-41c7-ea50-2107f5783796"
      },
      "execution_count": 21,
      "outputs": [
        {
          "output_type": "stream",
          "name": "stdout",
          "text": [
            "Decision : Fail to Reject Null Hypothesis\n"
          ]
        }
      ]
    },
    {
      "cell_type": "code",
      "source": [
        "# Comparison of P-Value with alpha.\n",
        "if(p_value2 <  alpha2):\n",
        "  print(\"Decision : Reject Null Hypothesis\")\n",
        "else:\n",
        "  print(\"Decision : Fail to Reject Null Hypothesis\")"
      ],
      "metadata": {
        "id": "sqIAZMMR2Bnh",
        "colab": {
          "base_uri": "https://localhost:8080/"
        },
        "outputId": "c1211c19-5ef3-4340-bc73-bf2489b2c8cd"
      },
      "execution_count": 22,
      "outputs": [
        {
          "output_type": "stream",
          "name": "stdout",
          "text": [
            "Decision : Fail to Reject Null Hypothesis\n"
          ]
        }
      ]
    },
    {
      "cell_type": "code",
      "source": [
        "fig, ax = plt.subplots(nrows=1, ncols=1, figsize=(10, 7))\n",
        "\n",
        "# Plot sample distribution\n",
        "x_sample = np.arange(-4., 4., 0.001)\n",
        "y_sample = stats.t.pdf(x_sample,df)\n",
        "ax.plot(x_sample, y_sample,\n",
        "        color = \"blue\")\n",
        "\n",
        "# rejection region (red)\n",
        "x_alpha = np.arange(t_critical2, 4., 0.001)\n",
        "y_alpha = stats.t.pdf(x_alpha,df)\n",
        "ax.fill_between(x = x_alpha,\n",
        "                y1 = y_alpha,\n",
        "                facecolor = \"red\",\n",
        "                alpha = .35,\n",
        "                label = \"alpha\")\n",
        "\n",
        "\n",
        "# sample region (green)\n",
        "x_test = np.arange(t_stats2, 4., 0.001)\n",
        "y_test = stats.t.pdf(x_test,df)\n",
        "ax.fill_between(x = x_test,\n",
        "                y1 = y_test,\n",
        "                facecolor = \"green\",\n",
        "                alpha = .35,\n",
        "                label = \"pvalue\")\n",
        "\n",
        "\n",
        "# Plot vertical line alpha\n",
        "ax.axvline(t_critical2,\n",
        "           color = \"red\",\n",
        "           linestyle = \"--\",\n",
        "           label = \"t-critical\")\n",
        "\n",
        "# Plot vertical line test\n",
        "ax.axvline(t_stats2,\n",
        "           color = \"green\",\n",
        "           linestyle = \"--\",\n",
        "           label = \"t-statistics\")\n",
        "\n",
        "# Styling plot\n",
        "ax.set_xlabel(\"t\", fontsize=16)\n",
        "ax.set_ylabel(\"density\", fontsize=16)\n",
        "\n",
        "plt.legend(fontsize=16)\n",
        "plt.show()\n",
        "\n",
        "print(f\"t-statistics: {t_stats2:.4f}\")\n",
        "print(f\"t-critical : {t_critical2:.4f}\")"
      ],
      "metadata": {
        "id": "x54EZ-te2Ceu",
        "colab": {
          "base_uri": "https://localhost:8080/",
          "height": 654
        },
        "outputId": "b58daa02-22ec-482c-87e3-3dfe33d46bb0"
      },
      "execution_count": 23,
      "outputs": [
        {
          "output_type": "display_data",
          "data": {
            "text/plain": [
              "<Figure size 1000x700 with 1 Axes>"
            ],
            "image/png": "[encoded data removed]"
          },
          "metadata": {}
        },
        {
          "output_type": "stream",
          "name": "stdout",
          "text": [
            "t-statistics: 0.9359\n",
            "t-critical : 1.6485\n"
          ]
        }
      ]
    },
    {
      "cell_type": "markdown",
      "source": [
        "## **Study Case 2 : Advertisement**\n",
        "___\n"
      ],
      "metadata": {
        "id": "jwbeqwqu2Ebf"
      }
    },
    {
      "cell_type": "markdown",
      "source": [
        "- A cosmetic company recently introduced their new product.\n",
        "- To introduce this cosmetic product, the company plans to use advertisements, but the cost of serving these advertisements is quite expensive.\n",
        "- Therefore, before an advertisement is actually used for a long period of time, the company conducts a trial of the advertisement for one month as a sample of the advertisement.\n",
        "- From this ad, the company says it gets an average conversion rate of 23%.\n",
        "- Is that true? Let's prove it by doing a hypothesis test."
      ],
      "metadata": {
        "id": "7RpZX4dE2FrQ"
      }
    },
    {
      "cell_type": "markdown",
      "source": [
        "### 1. Import Data\n"
      ],
      "metadata": {
        "id": "TcmJxXgC2G64"
      }
    },
    {
      "cell_type": "code",
      "source": [
        "# Initialization filename\n",
        "filename = \"website_advertisement.csv\"\n",
        "\n",
        "# Import data\n",
        "data_ad = pd.read_csv(filename)\n",
        "\n",
        "# Display 5 top rows of the data\n",
        "data_ad.head()"
      ],
      "metadata": {
        "id": "KeTdpSzI2IRy",
        "colab": {
          "base_uri": "https://localhost:8080/",
          "height": 206
        },
        "outputId": "2c96c8c0-d11c-4c27-8a6a-77abd7a2fbae"
      },
      "execution_count": 25,
      "outputs": [
        {
          "output_type": "execute_result",
          "data": {
            "text/plain": [
              "       Date  Viewers  Purchasers\n",
              "0  01-08-09     1069         255\n",
              "1  02-08-09     1548         677\n",
              "2  03-08-09     2367         578\n",
              "3  04-08-09     1437         340\n",
              "4  05-08-09      858         768"
            ],
            "text/html": [
              "\n",
              "  <div id=\"df-5df46e2e-c9cd-4cf0-8d86-5da35051c26b\" class=\"colab-df-container\">\n",
              "    <div>\n",
              "<style scoped>\n",
              "    .dataframe tbody tr th:only-of-type {\n",
              "        vertical-align: middle;\n",
              "    }\n",
              "\n",
              "    .dataframe tbody tr th {\n",
              "        vertical-align: top;\n",
              "    }\n",
              "\n",
              "    .dataframe thead th {\n",
              "        text-align: right;\n",
              "    }\n",
              "</style>\n",
              "<table border=\"1\" class=\"dataframe\">\n",
              "  <thead>\n",
              "    <tr style=\"text-align: right;\">\n",
              "      <th></th>\n",
              "      <th>Date</th>\n",
              "      <th>Viewers</th>\n",
              "      <th>Purchasers</th>\n",
              "    </tr>\n",
              "  </thead>\n",
              "  <tbody>\n",
              "    <tr>\n",
              "      <th>0</th>\n",
              "      <td>01-08-09</td>\n",
              "      <td>1069</td>\n",
              "      <td>255</td>\n",
              "    </tr>\n",
              "    <tr>\n",
              "      <th>1</th>\n",
              "      <td>02-08-09</td>\n",
              "      <td>1548</td>\n",
              "      <td>677</td>\n",
              "    </tr>\n",
              "    <tr>\n",
              "      <th>2</th>\n",
              "      <td>03-08-09</td>\n",
              "      <td>2367</td>\n",
              "      <td>578</td>\n",
              "    </tr>\n",
              "    <tr>\n",
              "      <th>3</th>\n",
              "      <td>04-08-09</td>\n",
              "      <td>1437</td>\n",
              "      <td>340</td>\n",
              "    </tr>\n",
              "    <tr>\n",
              "      <th>4</th>\n",
              "      <td>05-08-09</td>\n",
              "      <td>858</td>\n",
              "      <td>768</td>\n",
              "    </tr>\n",
              "  </tbody>\n",
              "</table>\n",
              "</div>\n",
              "    <div class=\"colab-df-buttons\">\n",
              "\n",
              "  <div class=\"colab-df-container\">\n",
              "    <button class=\"colab-df-convert\" onclick=\"convertToInteractive('df-5df46e2e-c9cd-4cf0-8d86-5da35051c26b')\"\n",
              "            title=\"Convert this dataframe to an interactive table.\"\n",
              "            style=\"display:none;\">\n",
              "\n",
              "  <svg xmlns=\"http://www.w3.org/2000/svg\" height=\"24px\" viewBox=\"0 -960 960 960\">\n",
              "    <path d=\"M120-120v-720h720v720H120Zm60-500h600v-160H180v160Zm220 220h160v-160H400v160Zm0 220h160v-160H400v160ZM180-400h160v-160H180v160Zm440 0h160v-160H620v160ZM180-180h160v-160H180v160Zm440 0h160v-160H620v160Z\"/>\n",
              "  </svg>\n",
              "    </button>\n",
              "\n",
              "  <style>\n",
              "    .colab-df-container {\n",
              "      display:flex;\n",
              "      gap: 12px;\n",
              "    }\n",
              "\n",
              "    .colab-df-convert {\n",
              "      background-color: #E8F0FE;\n",
              "      border: none;\n",
              "      border-radius: 50%;\n",
              "      cursor: pointer;\n",
              "      display: none;\n",
              "      fill: #1967D2;\n",
              "      height: 32px;\n",
              "      padding: 0 0 0 0;\n",
              "      width: 32px;\n",
              "    }\n",
              "\n",
              "    .colab-df-convert:hover {\n",
              "      background-color: #E2EBFA;\n",
              "      box-shadow: 0px 1px 2px rgba(60, 64, 67, 0.3), 0px 1px 3px 1px rgba(60, 64, 67, 0.15);\n",
              "      fill: #174EA6;\n",
              "    }\n",
              "\n",
              "    .colab-df-buttons div {\n",
              "      margin-bottom: 4px;\n",
              "    }\n",
              "\n",
              "    [theme=dark] .colab-df-convert {\n",
              "      background-color: #3B4455;\n",
              "      fill: #D2E3FC;\n",
              "    }\n",
              "\n",
              "    [theme=dark] .colab-df-convert:hover {\n",
              "      background-color: #434B5C;\n",
              "      box-shadow: 0px 1px 3px 1px rgba(0, 0, 0, 0.15);\n",
              "      filter: drop-shadow(0px 1px 2px rgba(0, 0, 0, 0.3));\n",
              "      fill: #FFFFFF;\n",
              "    }\n",
              "  </style>\n",
              "\n",
              "    <script>\n",
              "      const buttonEl =\n",
              "        document.querySelector('#df-5df46e2e-c9cd-4cf0-8d86-5da35051c26b button.colab-df-convert');\n",
              "      buttonEl.style.display =\n",
              "        google.colab.kernel.accessAllowed ? 'block' : 'none';\n",
              "\n",
              "      async function convertToInteractive(key) {\n",
              "        const element = document.querySelector('#df-5df46e2e-c9cd-4cf0-8d86-5da35051c26b');\n",
              "        const dataTable =\n",
              "          await google.colab.kernel.invokeFunction('convertToInteractive',\n",
              "                                                    [key], {});\n",
              "        if (!dataTable) return;\n",
              "\n",
              "        const docLinkHtml = 'Like what you see? Visit the ' +\n",
              "          '<a target=\"_blank\" href=https://colab.research.google.com/notebooks/data_table.ipynb>data table notebook</a>'\n",
              "          + ' to learn more about interactive tables.';\n",
              "        element.innerHTML = '';\n",
              "        dataTable['output_type'] = 'display_data';\n",
              "        await google.colab.output.renderOutput(dataTable, element);\n",
              "        const docLink = document.createElement('div');\n",
              "        docLink.innerHTML = docLinkHtml;\n",
              "        element.appendChild(docLink);\n",
              "      }\n",
              "    </script>\n",
              "  </div>\n",
              "\n",
              "\n",
              "    <div id=\"df-7b989d77-2e3a-41e1-8807-82347aebe12a\">\n",
              "      <button class=\"colab-df-quickchart\" onclick=\"quickchart('df-7b989d77-2e3a-41e1-8807-82347aebe12a')\"\n",
              "                title=\"Suggest charts\"\n",
              "                style=\"display:none;\">\n",
              "\n",
              "<svg xmlns=\"http://www.w3.org/2000/svg\" height=\"24px\"viewBox=\"0 0 24 24\"\n",
              "     width=\"24px\">\n",
              "    <g>\n",
              "        <path d=\"M19 3H5c-1.1 0-2 .9-2 2v14c0 1.1.9 2 2 2h14c1.1 0 2-.9 2-2V5c0-1.1-.9-2-2-2zM9 17H7v-7h2v7zm4 0h-2V7h2v10zm4 0h-2v-4h2v4z\"/>\n",
              "    </g>\n",
              "</svg>\n",
              "      </button>\n",
              "\n",
              "<style>\n",
              "  .colab-df-quickchart {\n",
              "      --bg-color: #E8F0FE;\n",
              "      --fill-color: #1967D2;\n",
              "      --hover-bg-color: #E2EBFA;\n",
              "      --hover-fill-color: #174EA6;\n",
              "      --disabled-fill-color: #AAA;\n",
              "      --disabled-bg-color: #DDD;\n",
              "  }\n",
              "\n",
              "  [theme=dark] .colab-df-quickchart {\n",
              "      --bg-color: #3B4455;\n",
              "      --fill-color: #D2E3FC;\n",
              "      --hover-bg-color: #434B5C;\n",
              "      --hover-fill-color: #FFFFFF;\n",
              "      --disabled-bg-color: #3B4455;\n",
              "      --disabled-fill-color: #666;\n",
              "  }\n",
              "\n",
              "  .colab-df-quickchart {\n",
              "    background-color: var(--bg-color);\n",
              "    border: none;\n",
              "    border-radius: 50%;\n",
              "    cursor: pointer;\n",
              "    display: none;\n",
              "    fill: var(--fill-color);\n",
              "    height: 32px;\n",
              "    padding: 0;\n",
              "    width: 32px;\n",
              "  }\n",
              "\n",
              "  .colab-df-quickchart:hover {\n",
              "    background-color: var(--hover-bg-color);\n",
              "    box-shadow: 0 1px 2px rgba(60, 64, 67, 0.3), 0 1px 3px 1px rgba(60, 64, 67, 0.15);\n",
              "    fill: var(--button-hover-fill-color);\n",
              "  }\n",
              "\n",
              "  .colab-df-quickchart-complete:disabled,\n",
              "  .colab-df-quickchart-complete:disabled:hover {\n",
              "    background-color: var(--disabled-bg-color);\n",
              "    fill: var(--disabled-fill-color);\n",
              "    box-shadow: none;\n",
              "  }\n",
              "\n",
              "  .colab-df-spinner {\n",
              "    border: 2px solid var(--fill-color);\n",
              "    border-color: transparent;\n",
              "    border-bottom-color: var(--fill-color);\n",
              "    animation:\n",
              "      spin 1s steps(1) infinite;\n",
              "  }\n",
              "\n",
              "  @keyframes spin {\n",
              "    0% {\n",
              "      border-color: transparent;\n",
              "      border-bottom-color: var(--fill-color);\n",
              "      border-left-color: var(--fill-color);\n",
              "    }\n",
              "    20% {\n",
              "      border-color: transparent;\n",
              "      border-left-color: var(--fill-color);\n",
              "      border-top-color: var(--fill-color);\n",
              "    }\n",
              "    30% {\n",
              "      border-color: transparent;\n",
              "      border-left-color: var(--fill-color);\n",
              "      border-top-color: var(--fill-color);\n",
              "      border-right-color: var(--fill-color);\n",
              "    }\n",
              "    40% {\n",
              "      border-color: transparent;\n",
              "      border-right-color: var(--fill-color);\n",
              "      border-top-color: var(--fill-color);\n",
              "    }\n",
              "    60% {\n",
              "      border-color: transparent;\n",
              "      border-right-color: var(--fill-color);\n",
              "    }\n",
              "    80% {\n",
              "      border-color: transparent;\n",
              "      border-right-color: var(--fill-color);\n",
              "      border-bottom-color: var(--fill-color);\n",
              "    }\n",
              "    90% {\n",
              "      border-color: transparent;\n",
              "      border-bottom-color: var(--fill-color);\n",
              "    }\n",
              "  }\n",
              "</style>\n",
              "\n",
              "      <script>\n",
              "        async function quickchart(key) {\n",
              "          const quickchartButtonEl =\n",
              "            document.querySelector('#' + key + ' button');\n",
              "          quickchartButtonEl.disabled = true;  // To prevent multiple clicks.\n",
              "          quickchartButtonEl.classList.add('colab-df-spinner');\n",
              "          try {\n",
              "            const charts = await google.colab.kernel.invokeFunction(\n",
              "                'suggestCharts', [key], {});\n",
              "          } catch (error) {\n",
              "            console.error('Error during call to suggestCharts:', error);\n",
              "          }\n",
              "          quickchartButtonEl.classList.remove('colab-df-spinner');\n",
              "          quickchartButtonEl.classList.add('colab-df-quickchart-complete');\n",
              "        }\n",
              "        (() => {\n",
              "          let quickchartButtonEl =\n",
              "            document.querySelector('#df-7b989d77-2e3a-41e1-8807-82347aebe12a button');\n",
              "          quickchartButtonEl.style.display =\n",
              "            google.colab.kernel.accessAllowed ? 'block' : 'none';\n",
              "        })();\n",
              "      </script>\n",
              "    </div>\n",
              "\n",
              "    </div>\n",
              "  </div>\n"
            ],
            "application/vnd.google.colaboratory.intrinsic+json": {
              "type": "dataframe",
              "variable_name": "data_ad",
              "summary": "{\n  \"name\": \"data_ad\",\n  \"rows\": 30,\n  \"fields\": [\n    {\n      \"column\": \"Date\",\n      \"properties\": {\n        \"dtype\": \"object\",\n        \"num_unique_values\": 30,\n        \"samples\": [\n          \"28-08-09\",\n          \"16-08-09\",\n          \"24-08-09\"\n        ],\n        \"semantic_type\": \"\",\n        \"description\": \"\"\n      }\n    },\n    {\n      \"column\": \"Viewers\",\n      \"properties\": {\n        \"dtype\": \"number\",\n        \"std\": 597,\n        \"min\": 858,\n        \"max\": 2801,\n        \"num_unique_values\": 30,\n        \"samples\": [\n          1281,\n          2594,\n          2427\n        ],\n        \"semantic_type\": \"\",\n        \"description\": \"\"\n      }\n    },\n    {\n      \"column\": \"Purchasers\",\n      \"properties\": {\n        \"dtype\": \"number\",\n        \"std\": 211,\n        \"min\": 238,\n        \"max\": 890,\n        \"num_unique_values\": 28,\n        \"samples\": [\n          275,\n          771,\n          845\n        ],\n        \"semantic_type\": \"\",\n        \"description\": \"\"\n      }\n    }\n  ]\n}"
            }
          },
          "metadata": {},
          "execution_count": 25
        }
      ]
    },
    {
      "cell_type": "code",
      "source": [
        "# Get data shape\n",
        "data_ad.shape"
      ],
      "metadata": {
        "id": "R--x_5vR2JWr",
        "colab": {
          "base_uri": "https://localhost:8080/"
        },
        "outputId": "a8dcd599-93f6-427c-b338-96a39d5b4fe6"
      },
      "execution_count": 26,
      "outputs": [
        {
          "output_type": "execute_result",
          "data": {
            "text/plain": [
              "(30, 3)"
            ]
          },
          "metadata": {},
          "execution_count": 26
        }
      ]
    },
    {
      "cell_type": "code",
      "source": [
        "# Checking missing value\n",
        "data_ad.isna().sum()"
      ],
      "metadata": {
        "id": "UxNDqiSL2KZX",
        "colab": {
          "base_uri": "https://localhost:8080/",
          "height": 178
        },
        "outputId": "7a6500da-f1ac-44a5-f4c6-89f67f30c2ed"
      },
      "execution_count": 27,
      "outputs": [
        {
          "output_type": "execute_result",
          "data": {
            "text/plain": [
              "Date          0\n",
              "Viewers       0\n",
              "Purchasers    0\n",
              "dtype: int64"
            ],
            "text/html": [
              "<div>\n",
              "<style scoped>\n",
              "    .dataframe tbody tr th:only-of-type {\n",
              "        vertical-align: middle;\n",
              "    }\n",
              "\n",
              "    .dataframe tbody tr th {\n",
              "        vertical-align: top;\n",
              "    }\n",
              "\n",
              "    .dataframe thead th {\n",
              "        text-align: right;\n",
              "    }\n",
              "</style>\n",
              "<table border=\"1\" class=\"dataframe\">\n",
              "  <thead>\n",
              "    <tr style=\"text-align: right;\">\n",
              "      <th></th>\n",
              "      <th>0</th>\n",
              "    </tr>\n",
              "  </thead>\n",
              "  <tbody>\n",
              "    <tr>\n",
              "      <th>Date</th>\n",
              "      <td>0</td>\n",
              "    </tr>\n",
              "    <tr>\n",
              "      <th>Viewers</th>\n",
              "      <td>0</td>\n",
              "    </tr>\n",
              "    <tr>\n",
              "      <th>Purchasers</th>\n",
              "      <td>0</td>\n",
              "    </tr>\n",
              "  </tbody>\n",
              "</table>\n",
              "</div><br><label><b>dtype:</b> int64</label>"
            ]
          },
          "metadata": {},
          "execution_count": 27
        }
      ]
    },
    {
      "cell_type": "code",
      "source": [
        "# check duplicate based on date\n",
        "data_ad.duplicated(['Date']).sum()"
      ],
      "metadata": {
        "id": "dPYFPv782LSf",
        "colab": {
          "base_uri": "https://localhost:8080/"
        },
        "outputId": "42805890-e4d6-4f27-f605-308faf79c42e"
      },
      "execution_count": 28,
      "outputs": [
        {
          "output_type": "execute_result",
          "data": {
            "text/plain": [
              "np.int64(0)"
            ]
          },
          "metadata": {},
          "execution_count": 28
        }
      ]
    },
    {
      "cell_type": "code",
      "source": [
        "# create timeseries plot\n",
        "data_ad[\"Date\"] = pd.to_datetime(data_ad[\"Date\"], format='%d-%m-%y')\n",
        "data_ad.plot(x=\"Date\", y=[\"Viewers\",\"Purchasers\"], figsize=(10,7))"
      ],
      "metadata": {
        "id": "sAnIjDzY2MPI",
        "colab": {
          "base_uri": "https://localhost:8080/",
          "height": 684
        },
        "outputId": "b2b98b89-bda5-40c6-d0cb-b76a702ea7be"
      },
      "execution_count": 29,
      "outputs": [
        {
          "output_type": "execute_result",
          "data": {
            "text/plain": [
              "<Axes: xlabel='Date'>"
            ]
          },
          "metadata": {},
          "execution_count": 29
        },
        {
          "output_type": "display_data",
          "data": {
            "text/plain": [
              "<Figure size 1000x700 with 1 Axes>"
            ],
            "image/png": "[encoded data removed]"
          },
          "metadata": {}
        }
      ]
    },
    {
      "cell_type": "markdown",
      "source": [
        "### 2. Calculate Conversion Rate"
      ],
      "metadata": {
        "id": "HHjHOk4e2OWp"
      }
    },
    {
      "cell_type": "code",
      "source": [
        "data_ad['conversion_rate'] = (data_ad['Purchasers']/data_ad['Viewers'])\n",
        "data_ad.head()"
      ],
      "metadata": {
        "id": "rHCcDO002PgD",
        "colab": {
          "base_uri": "https://localhost:8080/",
          "height": 206
        },
        "outputId": "cdd4ced9-d39a-41d6-bad5-c082e6eb1c6a"
      },
      "execution_count": 30,
      "outputs": [
        {
          "output_type": "execute_result",
          "data": {
            "text/plain": [
              "        Date  Viewers  Purchasers  conversion_rate\n",
              "0 2009-08-01     1069         255         0.238541\n",
              "1 2009-08-02     1548         677         0.437339\n",
              "2 2009-08-03     2367         578         0.244191\n",
              "3 2009-08-04     1437         340         0.236604\n",
              "4 2009-08-05      858         768         0.895105"
            ],
            "text/html": [
              "\n",
              "  <div id=\"df-e0e6fe68-60a7-498d-a1ef-869edec70c7b\" class=\"colab-df-container\">\n",
              "    <div>\n",
              "<style scoped>\n",
              "    .dataframe tbody tr th:only-of-type {\n",
              "        vertical-align: middle;\n",
              "    }\n",
              "\n",
              "    .dataframe tbody tr th {\n",
              "        vertical-align: top;\n",
              "    }\n",
              "\n",
              "    .dataframe thead th {\n",
              "        text-align: right;\n",
              "    }\n",
              "</style>\n",
              "<table border=\"1\" class=\"dataframe\">\n",
              "  <thead>\n",
              "    <tr style=\"text-align: right;\">\n",
              "      <th></th>\n",
              "      <th>Date</th>\n",
              "      <th>Viewers</th>\n",
              "      <th>Purchasers</th>\n",
              "      <th>conversion_rate</th>\n",
              "    </tr>\n",
              "  </thead>\n",
              "  <tbody>\n",
              "    <tr>\n",
              "      <th>0</th>\n",
              "      <td>2009-08-01</td>\n",
              "      <td>1069</td>\n",
              "      <td>255</td>\n",
              "      <td>0.238541</td>\n",
              "    </tr>\n",
              "    <tr>\n",
              "      <th>1</th>\n",
              "      <td>2009-08-02</td>\n",
              "      <td>1548</td>\n",
              "      <td>677</td>\n",
              "      <td>0.437339</td>\n",
              "    </tr>\n",
              "    <tr>\n",
              "      <th>2</th>\n",
              "      <td>2009-08-03</td>\n",
              "      <td>2367</td>\n",
              "      <td>578</td>\n",
              "      <td>0.244191</td>\n",
              "    </tr>\n",
              "    <tr>\n",
              "      <th>3</th>\n",
              "      <td>2009-08-04</td>\n",
              "      <td>1437</td>\n",
              "      <td>340</td>\n",
              "      <td>0.236604</td>\n",
              "    </tr>\n",
              "    <tr>\n",
              "      <th>4</th>\n",
              "      <td>2009-08-05</td>\n",
              "      <td>858</td>\n",
              "      <td>768</td>\n",
              "      <td>0.895105</td>\n",
              "    </tr>\n",
              "  </tbody>\n",
              "</table>\n",
              "</div>\n",
              "    <div class=\"colab-df-buttons\">\n",
              "\n",
              "  <div class=\"colab-df-container\">\n",
              "    <button class=\"colab-df-convert\" onclick=\"convertToInteractive('df-e0e6fe68-60a7-498d-a1ef-869edec70c7b')\"\n",
              "            title=\"Convert this dataframe to an interactive table.\"\n",
              "            style=\"display:none;\">\n",
              "\n",
              "  <svg xmlns=\"http://www.w3.org/2000/svg\" height=\"24px\" viewBox=\"0 -960 960 960\">\n",
              "    <path d=\"M120-120v-720h720v720H120Zm60-500h600v-160H180v160Zm220 220h160v-160H400v160Zm0 220h160v-160H400v160ZM180-400h160v-160H180v160Zm440 0h160v-160H620v160ZM180-180h160v-160H180v160Zm440 0h160v-160H620v160Z\"/>\n",
              "  </svg>\n",
              "    </button>\n",
              "\n",
              "  <style>\n",
              "    .colab-df-container {\n",
              "      display:flex;\n",
              "      gap: 12px;\n",
              "    }\n",
              "\n",
              "    .colab-df-convert {\n",
              "      background-color: #E8F0FE;\n",
              "      border: none;\n",
              "      border-radius: 50%;\n",
              "      cursor: pointer;\n",
              "      display: none;\n",
              "      fill: #1967D2;\n",
              "      height: 32px;\n",
              "      padding: 0 0 0 0;\n",
              "      width: 32px;\n",
              "    }\n",
              "\n",
              "    .colab-df-convert:hover {\n",
              "      background-color: #E2EBFA;\n",
              "      box-shadow: 0px 1px 2px rgba(60, 64, 67, 0.3), 0px 1px 3px 1px rgba(60, 64, 67, 0.15);\n",
              "      fill: #174EA6;\n",
              "    }\n",
              "\n",
              "    .colab-df-buttons div {\n",
              "      margin-bottom: 4px;\n",
              "    }\n",
              "\n",
              "    [theme=dark] .colab-df-convert {\n",
              "      background-color: #3B4455;\n",
              "      fill: #D2E3FC;\n",
              "    }\n",
              "\n",
              "    [theme=dark] .colab-df-convert:hover {\n",
              "      background-color: #434B5C;\n",
              "      box-shadow: 0px 1px 3px 1px rgba(0, 0, 0, 0.15);\n",
              "      filter: drop-shadow(0px 1px 2px rgba(0, 0, 0, 0.3));\n",
              "      fill: #FFFFFF;\n",
              "    }\n",
              "  </style>\n",
              "\n",
              "    <script>\n",
              "      const buttonEl =\n",
              "        document.querySelector('#df-e0e6fe68-60a7-498d-a1ef-869edec70c7b button.colab-df-convert');\n",
              "      buttonEl.style.display =\n",
              "        google.colab.kernel.accessAllowed ? 'block' : 'none';\n",
              "\n",
              "      async function convertToInteractive(key) {\n",
              "        const element = document.querySelector('#df-e0e6fe68-60a7-498d-a1ef-869edec70c7b');\n",
              "        const dataTable =\n",
              "          await google.colab.kernel.invokeFunction('convertToInteractive',\n",
              "                                                    [key], {});\n",
              "        if (!dataTable) return;\n",
              "\n",
              "        const docLinkHtml = 'Like what you see? Visit the ' +\n",
              "          '<a target=\"_blank\" href=https://colab.research.google.com/notebooks/data_table.ipynb>data table notebook</a>'\n",
              "          + ' to learn more about interactive tables.';\n",
              "        element.innerHTML = '';\n",
              "        dataTable['output_type'] = 'display_data';\n",
              "        await google.colab.output.renderOutput(dataTable, element);\n",
              "        const docLink = document.createElement('div');\n",
              "        docLink.innerHTML = docLinkHtml;\n",
              "        element.appendChild(docLink);\n",
              "      }\n",
              "    </script>\n",
              "  </div>\n",
              "\n",
              "\n",
              "    <div id=\"df-8bb240f9-887a-46f4-96df-a5dfd341ec20\">\n",
              "      <button class=\"colab-df-quickchart\" onclick=\"quickchart('df-8bb240f9-887a-46f4-96df-a5dfd341ec20')\"\n",
              "                title=\"Suggest charts\"\n",
              "                style=\"display:none;\">\n",
              "\n",
              "<svg xmlns=\"http://www.w3.org/2000/svg\" height=\"24px\"viewBox=\"0 0 24 24\"\n",
              "     width=\"24px\">\n",
              "    <g>\n",
              "        <path d=\"M19 3H5c-1.1 0-2 .9-2 2v14c0 1.1.9 2 2 2h14c1.1 0 2-.9 2-2V5c0-1.1-.9-2-2-2zM9 17H7v-7h2v7zm4 0h-2V7h2v10zm4 0h-2v-4h2v4z\"/>\n",
              "    </g>\n",
              "</svg>\n",
              "      </button>\n",
              "\n",
              "<style>\n",
              "  .colab-df-quickchart {\n",
              "      --bg-color: #E8F0FE;\n",
              "      --fill-color: #1967D2;\n",
              "      --hover-bg-color: #E2EBFA;\n",
              "      --hover-fill-color: #174EA6;\n",
              "      --disabled-fill-color: #AAA;\n",
              "      --disabled-bg-color: #DDD;\n",
              "  }\n",
              "\n",
              "  [theme=dark] .colab-df-quickchart {\n",
              "      --bg-color: #3B4455;\n",
              "      --fill-color: #D2E3FC;\n",
              "      --hover-bg-color: #434B5C;\n",
              "      --hover-fill-color: #FFFFFF;\n",
              "      --disabled-bg-color: #3B4455;\n",
              "      --disabled-fill-color: #666;\n",
              "  }\n",
              "\n",
              "  .colab-df-quickchart {\n",
              "    background-color: var(--bg-color);\n",
              "    border: none;\n",
              "    border-radius: 50%;\n",
              "    cursor: pointer;\n",
              "    display: none;\n",
              "    fill: var(--fill-color);\n",
              "    height: 32px;\n",
              "    padding: 0;\n",
              "    width: 32px;\n",
              "  }\n",
              "\n",
              "  .colab-df-quickchart:hover {\n",
              "    background-color: var(--hover-bg-color);\n",
              "    box-shadow: 0 1px 2px rgba(60, 64, 67, 0.3), 0 1px 3px 1px rgba(60, 64, 67, 0.15);\n",
              "    fill: var(--button-hover-fill-color);\n",
              "  }\n",
              "\n",
              "  .colab-df-quickchart-complete:disabled,\n",
              "  .colab-df-quickchart-complete:disabled:hover {\n",
              "    background-color: var(--disabled-bg-color);\n",
              "    fill: var(--disabled-fill-color);\n",
              "    box-shadow: none;\n",
              "  }\n",
              "\n",
              "  .colab-df-spinner {\n",
              "    border: 2px solid var(--fill-color);\n",
              "    border-color: transparent;\n",
              "    border-bottom-color: var(--fill-color);\n",
              "    animation:\n",
              "      spin 1s steps(1) infinite;\n",
              "  }\n",
              "\n",
              "  @keyframes spin {\n",
              "    0% {\n",
              "      border-color: transparent;\n",
              "      border-bottom-color: var(--fill-color);\n",
              "      border-left-color: var(--fill-color);\n",
              "    }\n",
              "    20% {\n",
              "      border-color: transparent;\n",
              "      border-left-color: var(--fill-color);\n",
              "      border-top-color: var(--fill-color);\n",
              "    }\n",
              "    30% {\n",
              "      border-color: transparent;\n",
              "      border-left-color: var(--fill-color);\n",
              "      border-top-color: var(--fill-color);\n",
              "      border-right-color: var(--fill-color);\n",
              "    }\n",
              "    40% {\n",
              "      border-color: transparent;\n",
              "      border-right-color: var(--fill-color);\n",
              "      border-top-color: var(--fill-color);\n",
              "    }\n",
              "    60% {\n",
              "      border-color: transparent;\n",
              "      border-right-color: var(--fill-color);\n",
              "    }\n",
              "    80% {\n",
              "      border-color: transparent;\n",
              "      border-right-color: var(--fill-color);\n",
              "      border-bottom-color: var(--fill-color);\n",
              "    }\n",
              "    90% {\n",
              "      border-color: transparent;\n",
              "      border-bottom-color: var(--fill-color);\n",
              "    }\n",
              "  }\n",
              "</style>\n",
              "\n",
              "      <script>\n",
              "        async function quickchart(key) {\n",
              "          const quickchartButtonEl =\n",
              "            document.querySelector('#' + key + ' button');\n",
              "          quickchartButtonEl.disabled = true;  // To prevent multiple clicks.\n",
              "          quickchartButtonEl.classList.add('colab-df-spinner');\n",
              "          try {\n",
              "            const charts = await google.colab.kernel.invokeFunction(\n",
              "                'suggestCharts', [key], {});\n",
              "          } catch (error) {\n",
              "            console.error('Error during call to suggestCharts:', error);\n",
              "          }\n",
              "          quickchartButtonEl.classList.remove('colab-df-spinner');\n",
              "          quickchartButtonEl.classList.add('colab-df-quickchart-complete');\n",
              "        }\n",
              "        (() => {\n",
              "          let quickchartButtonEl =\n",
              "            document.querySelector('#df-8bb240f9-887a-46f4-96df-a5dfd341ec20 button');\n",
              "          quickchartButtonEl.style.display =\n",
              "            google.colab.kernel.accessAllowed ? 'block' : 'none';\n",
              "        })();\n",
              "      </script>\n",
              "    </div>\n",
              "\n",
              "    </div>\n",
              "  </div>\n"
            ],
            "application/vnd.google.colaboratory.intrinsic+json": {
              "type": "dataframe",
              "variable_name": "data_ad",
              "summary": "{\n  \"name\": \"data_ad\",\n  \"rows\": 30,\n  \"fields\": [\n    {\n      \"column\": \"Date\",\n      \"properties\": {\n        \"dtype\": \"date\",\n        \"min\": \"2009-08-01 00:00:00\",\n        \"max\": \"2009-08-30 00:00:00\",\n        \"num_unique_values\": 30,\n        \"samples\": [\n          \"2009-08-28 00:00:00\",\n          \"2009-08-16 00:00:00\",\n          \"2009-08-24 00:00:00\"\n        ],\n        \"semantic_type\": \"\",\n        \"description\": \"\"\n      }\n    },\n    {\n      \"column\": \"Viewers\",\n      \"properties\": {\n        \"dtype\": \"number\",\n        \"std\": 597,\n        \"min\": 858,\n        \"max\": 2801,\n        \"num_unique_values\": 30,\n        \"samples\": [\n          1281,\n          2594,\n          2427\n        ],\n        \"semantic_type\": \"\",\n        \"description\": \"\"\n      }\n    },\n    {\n      \"column\": \"Purchasers\",\n      \"properties\": {\n        \"dtype\": \"number\",\n        \"std\": 211,\n        \"min\": 238,\n        \"max\": 890,\n        \"num_unique_values\": 28,\n        \"samples\": [\n          275,\n          771,\n          845\n        ],\n        \"semantic_type\": \"\",\n        \"description\": \"\"\n      }\n    },\n    {\n      \"column\": \"conversion_rate\",\n      \"properties\": {\n        \"dtype\": \"number\",\n        \"std\": 0.16296311545481587,\n        \"min\": 0.10190325138778747,\n        \"max\": 0.8951048951048951,\n        \"num_unique_values\": 30,\n        \"samples\": [\n          0.5628415300546448,\n          0.1877409406322282,\n          0.11083642356819118\n        ],\n        \"semantic_type\": \"\",\n        \"description\": \"\"\n      }\n    }\n  ]\n}"
            }
          },
          "metadata": {},
          "execution_count": 30
        }
      ]
    },
    {
      "cell_type": "code",
      "source": [
        "# desc stats\n",
        "data_ad['conversion_rate'].describe()"
      ],
      "metadata": {
        "id": "mLvlDpnm2Qgc",
        "colab": {
          "base_uri": "https://localhost:8080/",
          "height": 335
        },
        "outputId": "2e2d38a4-f64e-4666-9ac7-bda36ee2e022"
      },
      "execution_count": 31,
      "outputs": [
        {
          "output_type": "execute_result",
          "data": {
            "text/plain": [
              "count    30.000000\n",
              "mean      0.305470\n",
              "std       0.162963\n",
              "min       0.101903\n",
              "25%       0.206341\n",
              "50%       0.255224\n",
              "75%       0.378052\n",
              "max       0.895105\n",
              "Name: conversion_rate, dtype: float64"
            ],
            "text/html": [
              "<div>\n",
              "<style scoped>\n",
              "    .dataframe tbody tr th:only-of-type {\n",
              "        vertical-align: middle;\n",
              "    }\n",
              "\n",
              "    .dataframe tbody tr th {\n",
              "        vertical-align: top;\n",
              "    }\n",
              "\n",
              "    .dataframe thead th {\n",
              "        text-align: right;\n",
              "    }\n",
              "</style>\n",
              "<table border=\"1\" class=\"dataframe\">\n",
              "  <thead>\n",
              "    <tr style=\"text-align: right;\">\n",
              "      <th></th>\n",
              "      <th>conversion_rate</th>\n",
              "    </tr>\n",
              "  </thead>\n",
              "  <tbody>\n",
              "    <tr>\n",
              "      <th>count</th>\n",
              "      <td>30.000000</td>\n",
              "    </tr>\n",
              "    <tr>\n",
              "      <th>mean</th>\n",
              "      <td>0.305470</td>\n",
              "    </tr>\n",
              "    <tr>\n",
              "      <th>std</th>\n",
              "      <td>0.162963</td>\n",
              "    </tr>\n",
              "    <tr>\n",
              "      <th>min</th>\n",
              "      <td>0.101903</td>\n",
              "    </tr>\n",
              "    <tr>\n",
              "      <th>25%</th>\n",
              "      <td>0.206341</td>\n",
              "    </tr>\n",
              "    <tr>\n",
              "      <th>50%</th>\n",
              "      <td>0.255224</td>\n",
              "    </tr>\n",
              "    <tr>\n",
              "      <th>75%</th>\n",
              "      <td>0.378052</td>\n",
              "    </tr>\n",
              "    <tr>\n",
              "      <th>max</th>\n",
              "      <td>0.895105</td>\n",
              "    </tr>\n",
              "  </tbody>\n",
              "</table>\n",
              "</div><br><label><b>dtype:</b> float64</label>"
            ]
          },
          "metadata": {},
          "execution_count": 31
        }
      ]
    },
    {
      "cell_type": "code",
      "source": [
        "# histogram plot\n",
        "fig, ax = plt.subplots(figsize =(10, 7))\n",
        "ax.hist(data_ad['conversion_rate'])\n",
        "\n",
        "# Show plot\n",
        "plt.xlabel('conversion rate')\n",
        "plt.ylabel('frequency')"
      ],
      "metadata": {
        "id": "xo0KAFs72Rd5",
        "colab": {
          "base_uri": "https://localhost:8080/",
          "height": 636
        },
        "outputId": "8202cc5e-b913-4ed9-d96f-c9afe95d202a"
      },
      "execution_count": 32,
      "outputs": [
        {
          "output_type": "execute_result",
          "data": {
            "text/plain": [
              "Text(0, 0.5, 'frequency')"
            ]
          },
          "metadata": {},
          "execution_count": 32
        },
        {
          "output_type": "display_data",
          "data": {
            "text/plain": [
              "<Figure size 1000x700 with 1 Axes>"
            ],
            "image/png": "[encoded data removed]"
          },
          "metadata": {}
        }
      ]
    },
    {
      "cell_type": "markdown",
      "source": [
        "### 3. Define $H_0, H_1$, significance level"
      ],
      "metadata": {
        "id": "NaDVq-p-2jHe"
      }
    },
    {
      "cell_type": "markdown",
      "source": [
        "We want to test whether the average conversion rate is 23%. So, we can create $H_0$ dan $H_1$ as follow :\n",
        ">$H_0$ : $\\mu=0.23$<br>\n",
        "$H_1$ : $\\mu\\neq0.23$<br>\n",
        "\n",
        "Significance level<br>\n",
        ">$\\alpha=0.05$\n"
      ],
      "metadata": {
        "id": "0xZAGiH22kNq"
      }
    },
    {
      "cell_type": "markdown",
      "source": [
        "### 4. Calculate Statistic Test  "
      ],
      "metadata": {
        "id": "7CkxoZmw2lgD"
      }
    },
    {
      "cell_type": "code",
      "source": [
        "# Calculate Statistical Test\n",
        "t_statistic_ad, p_value_ad = stats.ttest_1samp(a=data_ad['conversion_rate'],\n",
        "                                         popmean=0.23,\n",
        "                                         alternative='two-sided')\n",
        "print(f\"T_statistic value : {t_statistic_ad:.4f}\")\n",
        "print(f\"P-value : {p_value_ad:.4f}\")"
      ],
      "metadata": {
        "id": "JjZ-8x3V2mva",
        "colab": {
          "base_uri": "https://localhost:8080/"
        },
        "outputId": "3ba9baf8-470c-48bc-c44b-f1bb22b4616c"
      },
      "execution_count": 33,
      "outputs": [
        {
          "output_type": "stream",
          "name": "stdout",
          "text": [
            "T_statistic value : 2.5366\n",
            "P-value : 0.0168\n"
          ]
        }
      ]
    },
    {
      "cell_type": "markdown",
      "source": [
        "### 5. Create decision rules\n"
      ],
      "metadata": {
        "id": "_SJLl6LC2n8G"
      }
    },
    {
      "cell_type": "markdown",
      "source": [
        "In making statistical test decisions, we can use:\n",
        "- Comparison of t-statistics with critical value\n",
        "    - Two-tailed, $-t < -t_{\\alpha/2,df}$ or $t > t_{\\alpha/2,df}$ → reject $H_0$\n",
        "\n",
        "\n",
        "- Comparison p-value with alpha\n",
        "  - pvalue < $\\alpha$ reject → $H_0$\n",
        "\n",
        "\n",
        "\n",
        "Notes : df is the degree of freedom, calculated by $n-1$\n"
      ],
      "metadata": {
        "id": "CsHe0uHe2o5-"
      }
    },
    {
      "cell_type": "code",
      "source": [
        "# Comparison of t-statistics with critical values\n",
        "# We have to calculate the t-critical first\n",
        "\n",
        "# t critical is the t-value at alpha\n",
        "alpha = 0.05\n",
        "df = data_ad.shape[0]-1   #df = n-1\n",
        "\n",
        "t_critical_ad = stats.t.ppf(1 - alpha/2, df)\n",
        "print(f\"T-Critical : {-t_critical_ad:.3f} and {t_critical_ad:.3f}\")"
      ],
      "metadata": {
        "id": "egPWdcCO2qAY",
        "colab": {
          "base_uri": "https://localhost:8080/"
        },
        "outputId": "40438274-3029-471d-b18e-5c17b5186641"
      },
      "execution_count": 34,
      "outputs": [
        {
          "output_type": "stream",
          "name": "stdout",
          "text": [
            "T-Critical : -2.045 and 2.045\n"
          ]
        }
      ]
    },
    {
      "cell_type": "code",
      "source": [
        "#Melakukan pengambilan keputusan dari t-stats dan t-crit\n",
        "if t_statistic_ad < -t_critical_ad or t_statistic_ad > t_critical_ad:\n",
        "  print(\"Decision : Reject Null Hypothesis\")\n",
        "else:\n",
        "  print(\"Decision : Fail to Reject Null Hypothesis\")"
      ],
      "metadata": {
        "id": "ZqnWCVpi2rBc",
        "colab": {
          "base_uri": "https://localhost:8080/"
        },
        "outputId": "82672d46-3105-4a20-cc01-cfe8e9e43375"
      },
      "execution_count": 35,
      "outputs": [
        {
          "output_type": "stream",
          "name": "stdout",
          "text": [
            "Decision : Reject Null Hypothesis\n"
          ]
        }
      ]
    },
    {
      "cell_type": "code",
      "source": [
        "# Comparison of P-Value with alpha.\n",
        "if(p_value_ad <  alpha/2):\n",
        "  print(\"Decision : Reject Null Hypothesis\")\n",
        "else:\n",
        "  print(\"Decision : Fail to Reject Null Hypothesis\")"
      ],
      "metadata": {
        "id": "ibFoU01R2r-f",
        "colab": {
          "base_uri": "https://localhost:8080/"
        },
        "outputId": "b3126f47-1305-4b41-90b8-23a2694ac13d"
      },
      "execution_count": 36,
      "outputs": [
        {
          "output_type": "stream",
          "name": "stdout",
          "text": [
            "Decision : Reject Null Hypothesis\n"
          ]
        }
      ]
    },
    {
      "cell_type": "markdown",
      "source": [
        "### 6. Visualization\n"
      ],
      "metadata": {
        "id": "qI0MHyhT2vNH"
      }
    },
    {
      "cell_type": "markdown",
      "source": [
        "- We try to visualize the results of this statistical test.\n",
        "- We visualize in the graph the distribution of the value of $t$"
      ],
      "metadata": {
        "id": "8JMwHAP92wcj"
      }
    },
    {
      "cell_type": "code",
      "source": [
        "fig, ax = plt.subplots(nrows=1, ncols=1, figsize=(10, 7))\n",
        "\n",
        "# Plot sample distribution\n",
        "x_sample = np.arange(-4., 4., 0.001)\n",
        "y_sample = stats.t.pdf(x_sample,df)\n",
        "ax.plot(x_sample, y_sample,\n",
        "        color = \"blue\")\n",
        "\n",
        "# rejection region (red)\n",
        "x_alpha = np.arange(t_critical_ad, 4., 0.001)\n",
        "y_alpha = stats.t.pdf(x_alpha,df)\n",
        "ax.fill_between(x = x_alpha,\n",
        "                y1 = y_alpha,\n",
        "                facecolor = \"red\",\n",
        "                alpha = .35,\n",
        "                label = \"alpha\")\n",
        "\n",
        "x_alpha = np.arange(-4,-t_critical_ad, 0.001)\n",
        "y_alpha = stats.t.pdf(x_alpha,df)\n",
        "ax.fill_between(x = x_alpha,\n",
        "                y1 = y_alpha,\n",
        "                facecolor = \"red\",\n",
        "                alpha = .35)\n",
        "\n",
        "# sample (green)\n",
        "x_test = np.arange(t_statistic_ad, 4., 0.001)\n",
        "y_test = stats.t.pdf(x_test,df)\n",
        "ax.fill_between(x = x_test,\n",
        "                y1 = y_test,\n",
        "                facecolor = \"green\",\n",
        "                alpha = .35,\n",
        "                label = \"pvalue\")\n",
        "x_test = np.arange(-4.,-t_statistic_ad, 0.001)\n",
        "y_test = stats.t.pdf(x_test,df)\n",
        "ax.fill_between(x = x_test,\n",
        "                y1 = y_test,\n",
        "                facecolor = \"green\",\n",
        "                alpha = .35)\n",
        "\n",
        "# Plot vertical line alpha\n",
        "ax.axvline(t_critical_ad,\n",
        "           color = \"red\",\n",
        "           linestyle = \"--\",\n",
        "           label = \"t-critical\")\n",
        "ax.axvline(-t_critical_ad,\n",
        "           color = \"red\",\n",
        "           linestyle = \"--\")\n",
        "\n",
        "# Plot vertical line test\n",
        "ax.axvline(t_statistic_ad,\n",
        "           color = \"green\",\n",
        "           linestyle = \"--\",\n",
        "           label = \"t-statistics\")\n",
        "ax.axvline(-t_statistic_ad,\n",
        "           color = \"green\",\n",
        "           linestyle = \"--\")\n",
        "\n",
        "# Styling plot\n",
        "ax.set_xlabel(\"t\", fontsize=16)\n",
        "ax.set_ylabel(\"density\", fontsize=16)\n",
        "\n",
        "plt.legend(fontsize=10)\n",
        "plt.show()\n",
        "\n",
        "print(f\"-t-statistics:{-t_statistic_ad:.4f}\")\n",
        "print(f\"t-statistics: {t_statistic_ad:.4f}\")\n",
        "print(f\"-t-critical : {-t_critical_ad:.4f}\")\n",
        "print(f\"t-critical : {t_critical_ad:.4f}\")"
      ],
      "metadata": {
        "id": "82-OX39P2xOn",
        "colab": {
          "base_uri": "https://localhost:8080/",
          "height": 688
        },
        "outputId": "1130b540-997e-4952-ecf0-99ce54242e5e"
      },
      "execution_count": 37,
      "outputs": [
        {
          "output_type": "display_data",
          "data": {
            "text/plain": [
              "<Figure size 1000x700 with 1 Axes>"
            ],
            "image/png": "[encoded data removed]"
          },
          "metadata": {}
        },
        {
          "output_type": "stream",
          "name": "stdout",
          "text": [
            "-t-statistics:-2.5366\n",
            "t-statistics: 2.5366\n",
            "-t-critical : -2.0452\n",
            "t-critical : 2.0452\n"
          ]
        }
      ]
    },
    {
      "cell_type": "markdown",
      "source": [
        "### 7. Calculation"
      ],
      "metadata": {
        "id": "uZ_FRdGI20bI"
      }
    },
    {
      "cell_type": "markdown",
      "source": [
        "## **Additional Advertisement Cases**\n",
        "\n",
        "- After discussing with the finance team, the ad serving costs will be covered and profit if the average conversion rate is more than 23%.\n",
        "- Based on the results of the previous hypothesis test, it was found that the average conversion rate is not equal to 23%.\n",
        "- But we don't know, it's not the same as 23%, is it less than or more than.\n",
        "- Do a hypothesis test to prove whether this ad serving can be profitable?\n",
        "\n",
        "___"
      ],
      "metadata": {
        "id": "mFw9JAji21iy"
      }
    },
    {
      "cell_type": "markdown",
      "source": [
        "#### 1. Define $H_0, H_1$,and significance level\n",
        "We want to test whether the average conversion rate is more than 23%. So, we can create $H_0$ and $H_1$ as follows :\n",
        ">$H_0$ : $\\mu≤0.23$<br>\n",
        "$H_1$ : $\\mu>0.23$<br>\n",
        "\n",
        "Significance level<br>\n",
        ">$\\alpha=0.05$\n",
        "\n"
      ],
      "metadata": {
        "id": "BHgG24hF22pH"
      }
    },
    {
      "cell_type": "markdown",
      "source": [
        "#### 2. Calculate Statistic Test  "
      ],
      "metadata": {
        "id": "d7UDdi_325jo"
      }
    },
    {
      "cell_type": "markdown",
      "source": [
        "- Remember, because we want to use the one tail (right) test, the `altenative` in the `stats.ttest_1samp` function must be replaced with 'greater'"
      ],
      "metadata": {
        "id": "0HgjkJGi26qB"
      }
    },
    {
      "cell_type": "code",
      "source": [
        "# Statistical Test\n",
        "t_statistic_ad, p_value_ad = stats.ttest_1samp(a=data_ad['conversion_rate'],\n",
        "                                         popmean=0.23,\n",
        "                                         alternative='greater')\n",
        "print(f\"T_statistic value : {t_statistic_ad:.4f}\")\n",
        "print(f\"P-value : {p_value_ad:.4f}\")"
      ],
      "metadata": {
        "id": "FbGywKuM27sA",
        "colab": {
          "base_uri": "https://localhost:8080/"
        },
        "outputId": "1551e906-e1ca-451a-840c-79611bc933c3"
      },
      "execution_count": 38,
      "outputs": [
        {
          "output_type": "stream",
          "name": "stdout",
          "text": [
            "T_statistic value : 2.5366\n",
            "P-value : 0.0084\n"
          ]
        }
      ]
    },
    {
      "cell_type": "markdown",
      "source": [
        "#### 3. Create decision rule\n"
      ],
      "metadata": {
        "id": "zqVbo0GM2_Q_"
      }
    },
    {
      "cell_type": "markdown",
      "source": [
        "In making statistical test decisions, we can use:\n",
        "- Comparison of t-statistics with critical value\n",
        "    - One-tailed (right), $t > t_{\\alpha,df}$  → reject $H_0$\n",
        "\n",
        "- Comparison p-value with alpha\n",
        "  - pvalue < $\\alpha$ → reject $H_0$"
      ],
      "metadata": {
        "id": "7j4wTQQl3GQv"
      }
    },
    {
      "cell_type": "code",
      "source": [
        "# Comparison of t-statistics with critical values\n",
        "# We have to calculate the t-critical first\n",
        "\n",
        "# t critical is the t-value at alpha\n",
        "alpha = 0.05\n",
        "df = data_ad.shape[0]-1   #df = n-1\n",
        "\n",
        "t_critical_ad = stats.t.ppf(1 - alpha, df)\n",
        "print(f\"T-Critical : {t_critical_ad:.3f}\")"
      ],
      "metadata": {
        "id": "DH_xV3Ky3On3",
        "colab": {
          "base_uri": "https://localhost:8080/"
        },
        "outputId": "2f8a630b-22b7-4a2b-9e7a-23dbb7e27202"
      },
      "execution_count": 39,
      "outputs": [
        {
          "output_type": "stream",
          "name": "stdout",
          "text": [
            "T-Critical : 1.699\n"
          ]
        }
      ]
    },
    {
      "cell_type": "code",
      "source": [
        "# Make decisions from t-stats and t-crit\n",
        "if t_statistic_ad > t_critical_ad:\n",
        "  print(\"Decision : Reject Null Hypothesis\")\n",
        "else:\n",
        "  print(\"Decision : Fail to Reject Null Hypothesis\")"
      ],
      "metadata": {
        "id": "mXx_NZbG3Jdz",
        "colab": {
          "base_uri": "https://localhost:8080/"
        },
        "outputId": "2006fa75-eb39-4f89-c00e-b1ebc9a829be"
      },
      "execution_count": 40,
      "outputs": [
        {
          "output_type": "stream",
          "name": "stdout",
          "text": [
            "Decision : Reject Null Hypothesis\n"
          ]
        }
      ]
    },
    {
      "cell_type": "code",
      "source": [
        "# Compare P-Value with alpha.\n",
        "if(p_value_ad <  alpha):\n",
        "  print(\"Decision : Reject Null Hypothesis\")\n",
        "else:\n",
        "  print(\"Decision : Fail to Reject Null Hypothesis\")"
      ],
      "metadata": {
        "id": "ujj2IpZ83Rk1",
        "colab": {
          "base_uri": "https://localhost:8080/"
        },
        "outputId": "8c3753c7-f524-4bb8-fe14-39aa1f5f038b"
      },
      "execution_count": 41,
      "outputs": [
        {
          "output_type": "stream",
          "name": "stdout",
          "text": [
            "Decision : Reject Null Hypothesis\n"
          ]
        }
      ]
    },
    {
      "cell_type": "markdown",
      "source": [
        "#### 4. Visualization\n"
      ],
      "metadata": {
        "id": "SODbD7-b3TIw"
      }
    },
    {
      "cell_type": "code",
      "source": [
        "fig, ax = plt.subplots(nrows=1, ncols=1, figsize=(10, 7))\n",
        "\n",
        "# Plot sample distribution\n",
        "x_sample = np.arange(-4., 4., 0.001)\n",
        "y_sample = stats.t.pdf(x_sample,df)\n",
        "ax.plot(x_sample, y_sample,\n",
        "        color = \"blue\")\n",
        "\n",
        "# rejection region\n",
        "x_alpha = np.arange(t_critical_ad, 4., 0.001)\n",
        "y_alpha = stats.t.pdf(x_alpha,df)\n",
        "ax.fill_between(x = x_alpha,\n",
        "                y1 = y_alpha,\n",
        "                facecolor = \"red\",\n",
        "                alpha = .35,\n",
        "                label = \"alpha\")\n",
        "\n",
        "# sample (green)\n",
        "x_test = np.arange(t_statistic_ad, 4., 0.001)\n",
        "y_test = stats.t.pdf(x_test,df)\n",
        "ax.fill_between(x = x_test,\n",
        "                y1 = y_test,\n",
        "                facecolor = \"green\",\n",
        "                alpha = .35,\n",
        "                label = \"pvalue\")\n",
        "\n",
        "# Plot vertical line alpha\n",
        "ax.axvline(t_critical_ad,\n",
        "           color = \"red\",\n",
        "           linestyle = \"--\",\n",
        "           label = \"t-critical\")\n",
        "\n",
        "# Plot vertical line test\n",
        "ax.axvline(t_statistic_ad,\n",
        "           color = \"green\",\n",
        "           linestyle = \"--\",\n",
        "           label = \"t-statistics\")\n",
        "\n",
        "# Styling plot\n",
        "ax.set_xlabel(\"t\", fontsize=16)\n",
        "ax.set_ylabel(\"density\", fontsize=16)\n",
        "\n",
        "plt.legend(fontsize=10)\n",
        "plt.show()\n"
      ],
      "metadata": {
        "id": "dJZdcDtr3U1u",
        "colab": {
          "base_uri": "https://localhost:8080/",
          "height": 619
        },
        "outputId": "4178e29a-1149-43d4-878c-4bd0340ad853"
      },
      "execution_count": 42,
      "outputs": [
        {
          "output_type": "display_data",
          "data": {
            "text/plain": [
              "<Figure size 1000x700 with 1 Axes>"
            ],
            "image/png": "[encoded data removed]"
          },
          "metadata": {}
        }
      ]
    },
    {
      "cell_type": "markdown",
      "source": [
        "#### 5. Conclusion"
      ],
      "metadata": {
        "id": "z7hvp7Jf3Wzm"
      }
    },
    {
      "cell_type": "markdown",
      "source": [
        "The decision from the hypothesis test is to reject $H_0$. So, we can conclude that the average conversion rate of ads is more than 23%."
      ],
      "metadata": {
        "id": "3flp_F_R3ZUX"
      }
    },
    {
      "cell_type": "markdown",
      "source": [
        "Data source : [Kaggle (with changes)](https://www.kaggle.com/datasets/ilkeryildiz/example-dataset-for-ab-test?select=test_group.csv)"
      ],
      "metadata": {
        "id": "RZbv2cj23asI"
      }
    },
    {
      "cell_type": "markdown",
      "source": [
        "## **Study Case 3 : Market Place Customer Satisfaction**\n",
        "___\n"
      ],
      "metadata": {
        "id": "ZrAYhCsL3dtC"
      }
    },
    {
      "cell_type": "markdown",
      "source": [
        "- PacShop is a shop in the online marketplace that sells bootcamp data products.\n",
        "- For the marketing needs of the newest bootcamp product, PacShop wants to display user satisfaction in its promotional materials.\n",
        "- From previous marketing promotions, it is known that more than 70% of users are satisfied.\n",
        "- As a data analyst at PacShop, you want to update the user satisfaction level again.\n",
        "- After conducting a survey, you get data that 155 out of 200 customers are satisfied.\n",
        "- Based on these results, is it necessary to update the previous level of user satisfaction?"
      ],
      "metadata": {
        "id": "16B0_TpF3fAr"
      }
    },
    {
      "cell_type": "markdown",
      "source": [
        "### 1. Define $H_0, H_1$, significance level"
      ],
      "metadata": {
        "id": "pSBjEjD03gu-"
      }
    },
    {
      "cell_type": "markdown",
      "source": [
        "From the survey results, we want to prove whether the results of the user satisfaction level in the promotional material are the same as before or not. It is known that the previous user satisfaction level was more than 70%. So the hypothesis is:<br>\n",
        "$H_0 : p_0 = 0.7$<br>\n",
        "$H_1 : p_0 > 0.7$<br>\n",
        "\n",
        "Significance level :<br>\n",
        "$α = 0.05$<br>"
      ],
      "metadata": {
        "id": "CgI7rg_s3hxA"
      }
    },
    {
      "cell_type": "markdown",
      "source": [
        "### 2. Calcualte statistical test\n"
      ],
      "metadata": {
        "id": "KK0YbnYP3jEy"
      }
    },
    {
      "cell_type": "markdown",
      "source": [
        "We use sample proportions to infer the level of customer satisfaction in the population. So the statistical test used is the z-test for proportion"
      ],
      "metadata": {
        "id": "ZRxamZCp3kJV"
      }
    },
    {
      "cell_type": "markdown",
      "source": [
        "- We use the `proportion_ztest()` function to calculate z-statistics and p-values.\n",
        "\n",
        "```python\n",
        "zstats, pval = proportions_ztest(count = ...,\n",
        "                                 nobs = ...,\n",
        "                                 value = ...,\n",
        "                                 alternative = ...)\n",
        "```\n",
        "Given :\n",
        "- `count` : number of successes\n",
        "- `nobs` : number of observations\n",
        "- `value` : the proportion of the population is hypothesized\n",
        "- `alternative` :\n",
        "   - If $H_{1}$ is greater than a value, use `larger`\n",
        "   - If $H_{1}$ is smaller than a value, use `smaller`\n",
        "   - In this case, we use `larger` because we want to prove $H_1 : p_0 > 0.7$"
      ],
      "metadata": {
        "id": "Lm_cEey83lUR"
      }
    },
    {
      "cell_type": "code",
      "source": [
        "# import proportion_ztest function\n",
        "from statsmodels.stats.proportion import proportions_ztest\n",
        "\n",
        "# perform one-sample proportion z-test\n",
        "z_stat, p_value = proportions_ztest(count = 155, nobs = 200, value=0.7, alternative='larger')\n",
        "\n",
        "print(f\"z stats : {z_stat:.3f}\")\n",
        "print(f\"p-value : {p_value:.3f}\")"
      ],
      "metadata": {
        "id": "Y5GLy5JR3mZ-",
        "colab": {
          "base_uri": "https://localhost:8080/"
        },
        "outputId": "d3251bd1-bd6d-46b6-c4e9-d2e3f0c0af76"
      },
      "execution_count": 43,
      "outputs": [
        {
          "output_type": "stream",
          "name": "stdout",
          "text": [
            "z stats : 2.540\n",
            "p-value : 0.006\n"
          ]
        }
      ]
    },
    {
      "cell_type": "markdown",
      "source": [
        "### 3. Create decision rules\n"
      ],
      "metadata": {
        "id": "aJ_d8ENx3nse"
      }
    },
    {
      "cell_type": "markdown",
      "source": [
        "In making statistical test decisions, we can use:\n",
        "- Compare z-statistics with critical value\n",
        "    - One-tailed (right), $z > z_{\\alpha}$  → tolak $H_0$\n",
        "\n",
        "- Compare p-value with alpha\n",
        "  - pvalue < $\\alpha$ → reject $H_0$"
      ],
      "metadata": {
        "id": "-k9QVrSv3qmv"
      }
    },
    {
      "cell_type": "code",
      "source": [
        "# critical value\n",
        "alpha= 0.05\n",
        "z_crit = stats.norm.ppf(1-alpha)\n",
        "\n",
        "print(f\"z critical value : {z_crit:.4f}\")"
      ],
      "metadata": {
        "id": "kpPXzH3c3r96",
        "colab": {
          "base_uri": "https://localhost:8080/"
        },
        "outputId": "20d17c2b-897b-4e1f-93e5-b99fedccd05d"
      },
      "execution_count": 44,
      "outputs": [
        {
          "output_type": "stream",
          "name": "stdout",
          "text": [
            "z critical value : 1.6449\n"
          ]
        }
      ]
    },
    {
      "cell_type": "code",
      "source": [
        "# Make decisions from z-stats and z-crit\n",
        "if z_stat > z_crit:\n",
        "  print(\"Decision : Reject Null Hypothesis\")\n",
        "else:\n",
        "  print(\"Decision : Fail to Reject Null Hypothesis\")"
      ],
      "metadata": {
        "id": "M5iz62KN3s9J",
        "colab": {
          "base_uri": "https://localhost:8080/"
        },
        "outputId": "d1670d60-ff29-4ccf-9da2-bd140a35a143"
      },
      "execution_count": 45,
      "outputs": [
        {
          "output_type": "stream",
          "name": "stdout",
          "text": [
            "Decision : Reject Null Hypothesis\n"
          ]
        }
      ]
    },
    {
      "cell_type": "code",
      "source": [
        "# Compare P-Value with alpha.\n",
        "if p_value<0.05:\n",
        "  print(\"Decision : Reject Null Hypothesis\")\n",
        "else:\n",
        "  print(\"Decision : Fail to Reject Null Hypothesis\")"
      ],
      "metadata": {
        "id": "hv-kEb8r3vmv",
        "colab": {
          "base_uri": "https://localhost:8080/"
        },
        "outputId": "00a1401f-61a1-43bb-d19a-e23a9c314873"
      },
      "execution_count": 46,
      "outputs": [
        {
          "output_type": "stream",
          "name": "stdout",
          "text": [
            "Decision : Reject Null Hypothesis\n"
          ]
        }
      ]
    },
    {
      "cell_type": "markdown",
      "source": [
        "### 4. Visualization\n"
      ],
      "metadata": {
        "id": "xO0ARYSc3xpG"
      }
    },
    {
      "cell_type": "code",
      "source": [
        "fig = plt.subplots(nrows=1, ncols=1, figsize=(10, 7))\n",
        "\n",
        "# plot sample distribution\n",
        "x = np.arange(-4, 4, 0.001)\n",
        "plt.plot(x, stats.norm.pdf(x, 0, 1),\n",
        "         color='blue')\n",
        "\n",
        "# plot alpha region\n",
        "x_alpha = np.arange(z_crit,4, 0.01)\n",
        "y_alpha = stats.norm.pdf(x_alpha)\n",
        "plt.fill_between(x = x_alpha,\n",
        "                 y1 = y_alpha,\n",
        "                 facecolor = 'red',\n",
        "                 alpha = 0.35,\n",
        "                 label = 'alpha')\n",
        "\n",
        "# plot pvalue\n",
        "x_pvalue = np.arange(z_stat,4, 0.01)\n",
        "y_pvalue = stats.norm.pdf(x_pvalue)\n",
        "plt.fill_between(x = x_pvalue,\n",
        "                 y1 = y_pvalue,\n",
        "                 facecolor = 'green',\n",
        "                 alpha = 0.35,\n",
        "                 label = 'pvalue')\n",
        "\n",
        "# plot z-crit and z-stats\n",
        "plt.axvline(np.round(z_stat, 4),\n",
        "            color =\"green\",\n",
        "            linestyle = \"--\",\n",
        "            label =\"z-stat\")\n",
        "\n",
        "plt.axvline(z_crit,\n",
        "            color =\"red\",\n",
        "            linestyle = \"--\",\n",
        "            label =\"z-crit\")\n",
        "\n",
        "plt.legend()\n",
        "plt.xlabel(\"z\")\n",
        "plt.ylabel(\"density\")\n",
        "plt.show()\n",
        "\n",
        "print(f\"z statistics : {z_stat:.4f}\")\n",
        "print(f\"z critical : {z_crit:.4f}\")"
      ],
      "metadata": {
        "id": "NuDFdhv23ymB",
        "colab": {
          "base_uri": "https://localhost:8080/",
          "height": 652
        },
        "outputId": "281911df-c026-4a81-d2df-00304dd849ec"
      },
      "execution_count": 47,
      "outputs": [
        {
          "output_type": "display_data",
          "data": {
            "text/plain": [
              "<Figure size 1000x700 with 1 Axes>"
            ],
            "image/png": "[encoded data removed]"
          },
          "metadata": {}
        },
        {
          "output_type": "stream",
          "name": "stdout",
          "text": [
            "z statistics : 2.5400\n",
            "z critical : 1.6449\n"
          ]
        }
      ]
    },
    {
      "cell_type": "markdown",
      "source": [
        "### 5. Conclusion"
      ],
      "metadata": {
        "id": "u_nK5QLG31GO"
      }
    },
    {
      "cell_type": "markdown",
      "source": [
        "The decision from this hypothesis test is to reject $H_0$.\n",
        "So it can be concluded that the satisfaction level of PacShop users based on the current survey results is more than 70%, which results are still the same as the previous level of satisfaction.\n",
        "\n",
        "\n",
        "If Pacshop increases the confidence level to 99%, will the result still be the same?"
      ],
      "metadata": {
        "id": "Um3bOcgn32Nt"
      }
    },
    {
      "cell_type": "code",
      "source": [
        "# import proportion_ztest function\n",
        "from statsmodels.stats.proportion import proportions_ztest\n",
        "\n",
        "# perform one-sample proportion z-test\n",
        "z_stat, p_value = proportions_ztest(count = 155, nobs = 200, value=0.7, alternative='larger')\n",
        "print(f\"z stats : {z_stat:.4f}\")\n",
        "print(f\"p-value : {p_value:.4f}\")"
      ],
      "metadata": {
        "id": "YYH_gxEe35LP",
        "colab": {
          "base_uri": "https://localhost:8080/"
        },
        "outputId": "943481a7-43d8-46bb-dca2-fe6e8cf0cbfe"
      },
      "execution_count": 48,
      "outputs": [
        {
          "output_type": "stream",
          "name": "stdout",
          "text": [
            "z stats : 2.5400\n",
            "p-value : 0.0055\n"
          ]
        }
      ]
    },
    {
      "cell_type": "code",
      "source": [
        "# calculate critical value\n",
        "z_crit = stats.norm.ppf(1-0.01)\n",
        "print(f\"z critical value : {z_crit:.4f}\")"
      ],
      "metadata": {
        "id": "CibhpR8036XI",
        "colab": {
          "base_uri": "https://localhost:8080/"
        },
        "outputId": "f7ef20a5-cfe4-45bc-b5cd-270e035cf1eb"
      },
      "execution_count": 49,
      "outputs": [
        {
          "output_type": "stream",
          "name": "stdout",
          "text": [
            "z critical value : 2.3263\n"
          ]
        }
      ]
    },
    {
      "cell_type": "code",
      "source": [
        "# Compare Z-Stats and Z-Critical\n",
        "if z_stat > z_crit:\n",
        "  print(\"Decision : Reject Null Hypothesis\")\n",
        "else:\n",
        "  print(\"Decision : Fail to Reject Null Hypothesis\")"
      ],
      "metadata": {
        "id": "sthFJ6RB37U1",
        "colab": {
          "base_uri": "https://localhost:8080/"
        },
        "outputId": "75b2c193-71d1-45a0-c7c4-779ff8c452db"
      },
      "execution_count": 50,
      "outputs": [
        {
          "output_type": "stream",
          "name": "stdout",
          "text": [
            "Decision : Reject Null Hypothesis\n"
          ]
        }
      ]
    },
    {
      "cell_type": "code",
      "source": [
        "# Decision rule based on pvalue\n",
        "if p_value<0.01:\n",
        "  print(\"Decision : Reject Null Hypothesis\")\n",
        "else:\n",
        "  print(\"Decision : Fail to Reject Null Hypothesis\")"
      ],
      "metadata": {
        "id": "9RaiNN3b38YV",
        "colab": {
          "base_uri": "https://localhost:8080/"
        },
        "outputId": "fb1b234d-53db-44d0-85f3-765605f51984"
      },
      "execution_count": 51,
      "outputs": [
        {
          "output_type": "stream",
          "name": "stdout",
          "text": [
            "Decision : Reject Null Hypothesis\n"
          ]
        }
      ]
    }
  ]
}